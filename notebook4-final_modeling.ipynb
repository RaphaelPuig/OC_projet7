{
 "cells": [
  {
   "cell_type": "markdown",
   "metadata": {},
   "source": [
    "# Projet 7-4: Final Modeling"
   ]
  },
  {
   "cell_type": "markdown",
   "metadata": {},
   "source": [
    "Last notebook of the serie. In this one we run the last version of the LGBM classifier with optimized parameters as found in the previous notebook. We also make a very last reduction of features (since the parameters are different it is not impossible that the features importances change as well). We build pickel files of the model, scaler and imputer which will be used in the application. Finally we made some taylored databases for the application : databases of all the clients with just the necessary features for the dashboard, random samples of 10, 100 and 1000 clients to test the predictor."
   ]
  },
  {
   "cell_type": "code",
   "execution_count": 1,
   "metadata": {},
   "outputs": [],
   "source": [
    "# numpy and pandas for data manipulation\n",
    "import numpy as np\n",
    "import pandas as pd\n",
    "\n",
    "# File system management\n",
    "import os\n",
    "\n",
    "# memory management\n",
    "import sys\n",
    "import gc\n",
    "\n",
    "# modeling \n",
    "import lightgbm as lgbm\n",
    "\n",
    "# utilities\n",
    "from sklearn.impute import SimpleImputer\n",
    "from sklearn.preprocessing import MinMaxScaler\n",
    "from sklearn.model_selection import train_test_split\n",
    "from sklearn.model_selection import KFold\n",
    "from sklearn.metrics import roc_auc_score\n",
    "\n",
    "# export/import model\n",
    "import pickle\n",
    "\n",
    "# matplotlib and seaborn for plotting\n",
    "import matplotlib.pyplot as plt\n",
    "\n",
    "# Suppress warnings \n",
    "import warnings\n",
    "warnings.filterwarnings('ignore')\n",
    "\n",
    "import timeit"
   ]
  },
  {
   "cell_type": "code",
   "execution_count": 2,
   "metadata": {},
   "outputs": [],
   "source": [
    "# Mode 'dark' for plottings\n",
    "plt.style.use('dark_background')"
   ]
  },
  {
   "cell_type": "code",
   "execution_count": 3,
   "metadata": {},
   "outputs": [
    {
     "name": "stdout",
     "output_type": "stream",
     "text": [
      "C:\\Users\\rapha\\Google Drive\\formation_DataSc\\projet7\\livrables\\OC_projet7\\OC_projet7\\data_3-4\n"
     ]
    }
   ],
   "source": [
    "# Move to the appropriate folder\n",
    "os.chdir('data_3-4')\n",
    "print(os.getcwd())"
   ]
  },
  {
   "cell_type": "code",
   "execution_count": 4,
   "metadata": {},
   "outputs": [
    {
     "name": "stdout",
     "output_type": "stream",
     "text": [
      "train shape:  (307511, 499)\n",
      "test shape:  (48744, 498)\n"
     ]
    }
   ],
   "source": [
    "# Retrieve last saved train and test datasets\n",
    "train = pd.read_csv(os.path.abspath('train_SmallGlobalBase.csv'))\n",
    "test = pd.read_csv(os.path.abspath('test_SmallGlobalBase.csv'))\n",
    "print('train shape: ', train.shape)\n",
    "print('test shape: ', test.shape)"
   ]
  },
  {
   "cell_type": "markdown",
   "metadata": {},
   "source": [
    "### Modeling"
   ]
  },
  {
   "cell_type": "markdown",
   "metadata": {},
   "source": [
    "First of all we are going to make a final run of the LGBM Classifier model with the optimized parameters as found in the previous notebook."
   ]
  },
  {
   "cell_type": "markdown",
   "metadata": {},
   "source": [
    "As a reminder (param_1 from notebook3-model_optimization):  \n",
    "- boosting_type = 'goss',\n",
    "- objective = 'binary',\n",
    "- num_leaves = 5,\n",
    "- n_estimators = 82,\n",
    "- learning_rate = 0.092,\n",
    "- reg_alpha = 0.82,\n",
    "- reg_lambda = 0.4,\n",
    "- subsample = 1.0,\n",
    "- colsample_bytree = 0.55,\n",
    "- is_unbalance = False,\n",
    "- random_state = 0"
   ]
  },
  {
   "cell_type": "markdown",
   "metadata": {},
   "source": [
    "This choice of parameters could have an impact on the features really used by the model. Even if they have been already reduced through a \"drop zero importance features\" (see notebook2-global_database_construction) the initial reduction has been done using non-optimized parameters. It might be useful to do a quick study again just in case. This will also allow us to know what are ultimately the main features of the model after optimization of the parameters. "
   ]
  },
  {
   "cell_type": "code",
   "execution_count": 5,
   "metadata": {},
   "outputs": [],
   "source": [
    "def run_experiment(model_input, data, feat_imp = False, n_folds = 5):\n",
    "    \n",
    "    \"\"\"\n",
    "    Train and evaluate a model using cross validation.\n",
    "    Give the features importances if desired.\n",
    "    \n",
    "    Parameters\n",
    "    --------\n",
    "        features (pd.DataFrame): \n",
    "            dataframe of training features to use \n",
    "            for training a model. Must include the TARGET column.\n",
    "        n_folds (int, default = 5): number of folds to use for cross validation\n",
    "        \n",
    "    Return\n",
    "    --------\n",
    "        feature_importances (pd.DataFrame) if parameter set 'True': \n",
    "            dataframe with the feature importances from the model.\n",
    "        valid_metrics (pd.DataFrame): \n",
    "            dataframe with training and validation metrics (ROC AUC) for each fold and overall.\n",
    "        \n",
    "    \"\"\"\n",
    "    \n",
    "    # Extract the ids\n",
    "    ids = data['SK_ID_CURR']\n",
    "    \n",
    "    # Extract the labels for training\n",
    "    labels = data['TARGET']\n",
    "    \n",
    "    # Remove the ids and target\n",
    "    data = data.drop(columns = ['SK_ID_CURR', 'TARGET'])\n",
    "\n",
    "    # Extract feature names\n",
    "    feature_names = list(data.columns)\n",
    "    \n",
    "    # Median imputation of missing values\n",
    "    imputer = SimpleImputer(missing_values=np.nan, strategy='median')\n",
    "    # Transform training data\n",
    "    data = imputer.fit_transform(data)\n",
    "\n",
    "    # Scale the features\n",
    "    scaler = MinMaxScaler(feature_range = (0, 1))\n",
    "    # Transform training data\n",
    "    data = scaler.fit_transform(data)\n",
    "\n",
    "    # Create the kfold object\n",
    "    k_fold = KFold(n_splits = n_folds, random_state = 0, shuffle = True)\n",
    "    \n",
    "    if feat_imp == True:\n",
    "        # Empty array for feature importances\n",
    "        feature_importance_values = np.zeros(len(feature_names))\n",
    "    else:\n",
    "        pass\n",
    "   \n",
    "    # Empty lists for scores\n",
    "    train_scores = list()\n",
    "    valid_scores = list()\n",
    "\n",
    "    # Iterate through each fold\n",
    "    for train_indices, valid_indices in k_fold.split(data):\n",
    "        \n",
    "        # Training data for the fold\n",
    "        train_features, train_labels = data[train_indices], labels[train_indices]\n",
    "        \n",
    "        # Validation data for the fold\n",
    "        valid_features, valid_labels = data[valid_indices], labels[valid_indices]\n",
    "        \n",
    "        # Call the model\n",
    "        model=model_input\n",
    "        \n",
    "        # Train the model\n",
    "        model.fit(train_features, train_labels)\n",
    "\n",
    "        if feat_imp == True:\n",
    "            # Record the feature importances\n",
    "            feature_importance_values += model.feature_importances_ / k_fold.n_splits\n",
    "        else:\n",
    "            pass\n",
    "        \n",
    "        # Make train/valid predictions\n",
    "        train_predictions = model.predict_proba(train_features)[:, 1]\n",
    "        valid_predictions = model.predict_proba(valid_features)[:, 1]\n",
    "        \n",
    "        # Compute roc_auc scores\n",
    "        train_score = roc_auc_score(train_labels, train_predictions)\n",
    "        valid_score = roc_auc_score(valid_labels, valid_predictions)\n",
    "                \n",
    "        # Record the scores of the fold\n",
    "        train_scores.append(train_score)\n",
    "        valid_scores.append(valid_score)\n",
    "\n",
    "        # Clean up memory\n",
    "        gc.enable()\n",
    "        del model, train_features, valid_features\n",
    "        gc.collect   \n",
    "    \n",
    "    if feat_imp == True:\n",
    "        # Make the feature importance dataframe\n",
    "        feature_importances = pd.DataFrame({'feature': feature_names, 'importance': feature_importance_values})\n",
    "    else:\n",
    "        pass\n",
    "        \n",
    "    # Add the overall scores to the metrics\n",
    "    valid_scores.append(np.mean(valid_scores))\n",
    "    train_scores.append(np.mean(train_scores))\n",
    "    \n",
    "    # Needed for creating dataframe of validation scores\n",
    "    fold_names = list(range(n_folds))\n",
    "    fold_names.append('overall')\n",
    "    \n",
    "    # Dataframe of validation scores\n",
    "    metrics = pd.DataFrame({'fold': fold_names,\n",
    "                            'train': train_scores,\n",
    "                            'valid': valid_scores})\n",
    "    \n",
    "    if feat_imp == True:\n",
    "        return feature_importances, metrics\n",
    "    else:\n",
    "        return metrics"
   ]
  },
  {
   "cell_type": "code",
   "execution_count": 6,
   "metadata": {},
   "outputs": [],
   "source": [
    "# Light Gradient Boosting Machine (optimized parameters)\n",
    "lgbm_model = lgbm.LGBMClassifier(boosting_type='goss', objective='binary',num_leaves=5,\n",
    "                                 n_estimators=82, learning_rate=0.092, reg_alpha=0.82,\n",
    "                                 reg_lambda=0.4, subsample=1.0, colsample_bytree=0.55,\n",
    "                                 is_unbalance=False, random_state=0)"
   ]
  },
  {
   "cell_type": "code",
   "execution_count": 7,
   "metadata": {},
   "outputs": [
    {
     "name": "stdout",
     "output_type": "stream",
     "text": [
      "Total computing time: 1.94 minutes\n"
     ]
    }
   ],
   "source": [
    "start_time = timeit.default_timer()\n",
    "\n",
    "# Training and testing of the model\n",
    "feature_importances, metrics = run_experiment(lgbm_model, train, feat_imp = True, n_folds = 5)\n",
    "\n",
    "time_elapsed = round((timeit.default_timer() - start_time)/60,2)\n",
    "print('Total computing time: %0.2f minutes' % time_elapsed)"
   ]
  },
  {
   "cell_type": "code",
   "execution_count": 8,
   "metadata": {},
   "outputs": [
    {
     "name": "stdout",
     "output_type": "stream",
     "text": [
      "train    0.767942\n",
      "valid    0.762754\n",
      "Name: 5, dtype: object\n",
      "\n",
      "train-valid gap: 0.005188\n"
     ]
    }
   ],
   "source": [
    "print(metrics.iloc[5][1:3])\n",
    "print('\\ntrain-valid gap:',round(metrics.iloc[5][1]-metrics.iloc[5][2],6))"
   ]
  },
  {
   "cell_type": "code",
   "execution_count": 9,
   "metadata": {},
   "outputs": [
    {
     "name": "stdout",
     "output_type": "stream",
     "text": [
      "There are 387 features with 0.0 importance\n"
     ]
    }
   ],
   "source": [
    "# Find the features with zero importance\n",
    "zero_features = list(feature_importances[feature_importances['importance'] == 0.0]['feature'])\n",
    "print('There are %i features with 0.0 importance' % len(zero_features))"
   ]
  },
  {
   "cell_type": "markdown",
   "metadata": {},
   "source": [
    "A large number of features seem unnecessary (it is surprising that there are so many, by the way). These new parameters have a real impact. As already seen in the second notebook, the issue will probably require a series of \"run_experiment\" followed by \"drop zero_importance features\". The best thing to do is write a function that loops through the calculations until getting to the point where there are no more \"zero_importance features\" left."
   ]
  },
  {
   "cell_type": "code",
   "execution_count": 10,
   "metadata": {},
   "outputs": [
    {
     "name": "stdout",
     "output_type": "stream",
     "text": [
      "train shape:  (307511, 112)\n"
     ]
    }
   ],
   "source": [
    "# Drop features with zero importance\n",
    "train = train.drop(columns = zero_features)\n",
    "print('train shape: ', train.shape)"
   ]
  },
  {
   "cell_type": "code",
   "execution_count": 11,
   "metadata": {},
   "outputs": [],
   "source": [
    "def feature_reduction(model, data, n_folds=5):\n",
    "    \n",
    "    zero_features=list([0])\n",
    "    \n",
    "    i=0\n",
    "    \n",
    "    while len(zero_features)!=0:\n",
    "        \n",
    "        i+=1\n",
    "        print('run number %i'%(i), end='\\r')\n",
    "        \n",
    "        feature_importances, metrics = run_experiment(model, data, feat_imp = True, n_folds = n_folds)\n",
    "        zero_features = list(feature_importances[feature_importances['importance'] == 0.0]['feature'])\n",
    "        data = data.drop(columns = zero_features)\n",
    "        \n",
    "    return feature_importances, data"
   ]
  },
  {
   "cell_type": "code",
   "execution_count": 12,
   "metadata": {},
   "outputs": [
    {
     "name": "stdout",
     "output_type": "stream",
     "text": [
      "run number 3\r"
     ]
    }
   ],
   "source": [
    "feature_importances, train = feature_reduction(lgbm_model, train, n_folds=5)"
   ]
  },
  {
   "cell_type": "code",
   "execution_count": 13,
   "metadata": {},
   "outputs": [
    {
     "data": {
      "text/plain": [
       "(307511, 100)"
      ]
     },
     "execution_count": 13,
     "metadata": {},
     "output_type": "execute_result"
    }
   ],
   "source": [
    "train.shape"
   ]
  },
  {
   "cell_type": "code",
   "execution_count": 14,
   "metadata": {},
   "outputs": [],
   "source": [
    "def plot_feature_importances(df, threshold = 0.9, nb_feat=10):\n",
    "    \"\"\"\n",
    "    Plots 10 most important features and the cumulative importance of features.\n",
    "    Prints the number of features needed to reach threshold cumulative importance.\n",
    "    \n",
    "    Parameters\n",
    "    --------\n",
    "    df : dataframe\n",
    "        Dataframe of feature importances. Columns must be feature and importance\n",
    "        \n",
    "    threshold : float, default = 0.9\n",
    "        Threshold for printing information about cumulative importances\n",
    "        \n",
    "    nb_feat : integer, default = 10\n",
    "        Number of features desired for the first plot (horizontal bar chart)\n",
    "        \n",
    "    Return\n",
    "    --------\n",
    "    df : dataframe\n",
    "        Dataframe ordered by feature importances with a normalized column (sums to 1)\n",
    "        and a cumulative importance column\n",
    "    \n",
    "    \"\"\"\n",
    "    \n",
    "    plt.rcParams['font.size'] = 12\n",
    "    \n",
    "    # Sort features according to importance\n",
    "    df = df.sort_values('importance', ascending = False).reset_index()\n",
    "    \n",
    "    # Normalize the feature importances to add up to one\n",
    "    df['importance_normalized'] = df['importance'] / df['importance'].sum()\n",
    "    df['cumulative_importance'] = np.cumsum(df['importance_normalized'])\n",
    "\n",
    "    # Make a horizontal bar chart of feature importances\n",
    "    plt.figure(figsize = (10, 6))\n",
    "    ax = plt.subplot()\n",
    "    \n",
    "    # Need to reverse the index to plot most important on top\n",
    "    ax.barh(list(reversed(list(df.index[:nb_feat]))), \n",
    "            df['importance_normalized'].head(nb_feat), \n",
    "            align = 'center', edgecolor = 'k')\n",
    "    \n",
    "    # Set the yticks and labels\n",
    "    ax.set_yticks(list(reversed(list(df.index[:nb_feat]))))\n",
    "    ax.set_yticklabels(df['feature'].head(nb_feat))\n",
    "    \n",
    "    # Plot labeling\n",
    "    plt.xlabel('Normalized Importance')\n",
    "    plt.title('Feature Importances')\n",
    "    plt.show()\n",
    "    \n",
    "    # Cumulative importance plot\n",
    "    plt.figure(figsize = (8, 5))\n",
    "    plt.plot(list(range(len(df))), df['cumulative_importance'], 'r-')\n",
    "    plt.xlabel('Number of Features')\n",
    "    plt.ylabel('Cumulative Importance') \n",
    "    plt.title('Cumulative Feature Importance')\n",
    "    plt.show()\n",
    "    \n",
    "    importance_index = np.min(np.where(df['cumulative_importance'] > threshold))\n",
    "    print('%d features required for %0.2f of cumulative importance.' % (importance_index + 1, threshold))\n",
    "    \n",
    "    return df"
   ]
  },
  {
   "cell_type": "code",
   "execution_count": 15,
   "metadata": {},
   "outputs": [
    {
     "data": {
      "image/png": "[encoded data removed]",
      "text/plain": [
       "<Figure size 720x432 with 1 Axes>"
      ]
     },
     "metadata": {},
     "output_type": "display_data"
    },
    {
     "data": {
      "image/png": "[encoded data removed]",
      "text/plain": [
       "<Figure size 576x360 with 1 Axes>"
      ]
     },
     "metadata": {},
     "output_type": "display_data"
    },
    {
     "name": "stdout",
     "output_type": "stream",
     "text": [
      "78 features required for 0.95 of cumulative importance.\n"
     ]
    }
   ],
   "source": [
    "# plotting features importance\n",
    "fi_sorted = plot_feature_importances(feature_importances, threshold=0.95, nb_feat=10)"
   ]
  },
  {
   "cell_type": "markdown",
   "metadata": {},
   "source": [
    "The process was harsh. About 80% of the features have been dropped. Most of the main features remain the same (7 over 10). The relative importance of the first three is however more important than what had been observed previously and is much more contrasted compared to the following ones (we can also notice the change in their order of importance, previously EXT_SOURCE_1, 2 and 3, now EXT_SOURCE_3, 2 and 1. )"
   ]
  },
  {
   "cell_type": "code",
   "execution_count": 16,
   "metadata": {},
   "outputs": [
    {
     "name": "stdout",
     "output_type": "stream",
     "text": [
      "Total computing time: 0.37 minutes\n"
     ]
    }
   ],
   "source": [
    "start_time = timeit.default_timer()\n",
    "\n",
    "# Training and testing of the model\n",
    "metrics = run_experiment(lgbm_model, train, n_folds = 5)\n",
    "\n",
    "time_elapsed = round((timeit.default_timer() - start_time)/60,2)\n",
    "print('Total computing time: %0.2f minutes' % time_elapsed)"
   ]
  },
  {
   "cell_type": "code",
   "execution_count": 17,
   "metadata": {},
   "outputs": [
    {
     "name": "stdout",
     "output_type": "stream",
     "text": [
      "train    0.767932\n",
      "valid    0.762272\n",
      "Name: 5, dtype: object\n",
      "\n",
      "train-valid gap: 0.00566\n"
     ]
    }
   ],
   "source": [
    "print(metrics.iloc[5][1:3])\n",
    "print('\\ntrain-valid gap:',round(metrics.iloc[5][1]-metrics.iloc[5][2],6))"
   ]
  },
  {
   "cell_type": "markdown",
   "metadata": {},
   "source": [
    "This last features removal had a slight impact on the ROC AUC scores and on the gap value. While the ROC AUC scores are both slightly reduced, the gap between them is slightly increased. However, the computation time is also greatly reduced (which is a really good surprise since it was the weakness of the model)."
   ]
  },
  {
   "cell_type": "markdown",
   "metadata": {},
   "source": [
    "#### Training"
   ]
  },
  {
   "cell_type": "markdown",
   "metadata": {},
   "source": [
    "For the pruposes of the application we have to compute a scaler, an imputer and a model separately. To do so we do again a training, fitting and predictions. As the training base has been profoundly modified with the last reduction of features it is necessary to align the test base there so that the model can run efficiently."
   ]
  },
  {
   "cell_type": "code",
   "execution_count": 18,
   "metadata": {},
   "outputs": [],
   "source": [
    "# Save the TARGET (will be lost in aligning process)\n",
    "labels = train['TARGET']"
   ]
  },
  {
   "cell_type": "code",
   "execution_count": 19,
   "metadata": {},
   "outputs": [
    {
     "name": "stdout",
     "output_type": "stream",
     "text": [
      "train shape:  (307511, 99)\n",
      "test shape:  (48744, 99)\n"
     ]
    }
   ],
   "source": [
    "# Match the columns in the dataframes\n",
    "train, test = train.align(test, join = 'inner', axis = 1)\n",
    "print('train shape: ', train.shape)\n",
    "print('test shape: ', test.shape)"
   ]
  },
  {
   "cell_type": "code",
   "execution_count": 20,
   "metadata": {},
   "outputs": [],
   "source": [
    "# Restore of the TARGET values\n",
    "train['TARGET'] = labels"
   ]
  },
  {
   "cell_type": "markdown",
   "metadata": {},
   "source": [
    "Now we can perform the last training, fitting, predictions run."
   ]
  },
  {
   "cell_type": "code",
   "execution_count": 21,
   "metadata": {},
   "outputs": [],
   "source": [
    "# Extract the ids\n",
    "train_ids = train['SK_ID_CURR']"
   ]
  },
  {
   "cell_type": "code",
   "execution_count": 22,
   "metadata": {},
   "outputs": [],
   "source": [
    "# Remove the ids and target (unwanted column)\n",
    "features = train.drop(columns = ['SK_ID_CURR', 'TARGET'])"
   ]
  },
  {
   "cell_type": "code",
   "execution_count": 23,
   "metadata": {},
   "outputs": [],
   "source": [
    "# Extract feature names\n",
    "feature_names = list(features.columns)"
   ]
  },
  {
   "cell_type": "code",
   "execution_count": 24,
   "metadata": {},
   "outputs": [],
   "source": [
    "# Median imputation of missing values\n",
    "imputer = SimpleImputer(missing_values=np.nan, strategy='median')\n",
    "\n",
    "# Transform training data\n",
    "features = imputer.fit_transform(features)"
   ]
  },
  {
   "cell_type": "code",
   "execution_count": 25,
   "metadata": {},
   "outputs": [],
   "source": [
    "# Scale the features\n",
    "scaler = MinMaxScaler(feature_range = (0, 1))\n",
    "    \n",
    "# Transform training data\n",
    "features = scaler.fit_transform(features)"
   ]
  },
  {
   "cell_type": "code",
   "execution_count": 26,
   "metadata": {},
   "outputs": [],
   "source": [
    "# Light Gradient Boosting Machine (optimized parameters)\n",
    "lgbm_model = lgbm.LGBMClassifier(boosting_type='goss', objective='binary',num_leaves=5,\n",
    "                                 n_estimators=82, learning_rate=0.092, reg_alpha=0.82,\n",
    "                                 reg_lambda=0.4, subsample=1.0, colsample_bytree=0.55,\n",
    "                                 is_unbalance=False, random_state=0)"
   ]
  },
  {
   "cell_type": "code",
   "execution_count": 27,
   "metadata": {},
   "outputs": [
    {
     "data": {
      "text/plain": [
       "LGBMClassifier(boosting_type='goss', colsample_bytree=0.55, is_unbalance=False,\n",
       "               learning_rate=0.092, n_estimators=82, num_leaves=5,\n",
       "               objective='binary', random_state=0, reg_alpha=0.82,\n",
       "               reg_lambda=0.4)"
      ]
     },
     "execution_count": 27,
     "metadata": {},
     "output_type": "execute_result"
    }
   ],
   "source": [
    "# Training of the model\n",
    "lgbm_model.fit(features, labels)"
   ]
  },
  {
   "cell_type": "code",
   "execution_count": 28,
   "metadata": {},
   "outputs": [],
   "source": [
    "# make predictions for all train data (for incomming verification)\n",
    "train_pred=lgbm_model.predict_proba(features)"
   ]
  },
  {
   "cell_type": "code",
   "execution_count": 29,
   "metadata": {},
   "outputs": [
    {
     "data": {
      "text/plain": [
       "array([0.76907207, 0.30245132, 0.26517663, 0.51476314, 0.58254439,\n",
       "       0.33637843, 0.08225137, 0.13485795, 0.44952007, 0.40956851])"
      ]
     },
     "execution_count": 29,
     "metadata": {},
     "output_type": "execute_result"
    }
   ],
   "source": [
    "# for information\n",
    "train_pred[0:10,1]"
   ]
  },
  {
   "cell_type": "code",
   "execution_count": 30,
   "metadata": {},
   "outputs": [],
   "source": [
    "# save imputer, scaler and model to file\n",
    "pickle.dump(imputer, open('imputer.pickle.dat', 'wb'))\n",
    "pickle.dump(scaler, open('scaler.pickle.dat', 'wb'))\n",
    "pickle.dump(lgbm_model, open('payback_predictor.pickle.dat', 'wb'))"
   ]
  },
  {
   "cell_type": "markdown",
   "metadata": {},
   "source": [
    "At this stage we have a model capable of making payback failure probability predictions. In order to test the model we are going to load it and test it with the test dataset as if the informations were unknown. Since the test data are untouched it's necessary to apply the same traitements as performed on the training base (imputation of missing value and normalization)."
   ]
  },
  {
   "cell_type": "code",
   "execution_count": 31,
   "metadata": {},
   "outputs": [],
   "source": [
    "# load model, imputer and scaler from file\n",
    "loaded_model = pickle.load(open('payback_predictor.pickle.dat', 'rb'))\n",
    "loaded_imputer = pickle.load(open('imputer.pickle.dat', 'rb'))\n",
    "loaded_scaler = pickle.load(open('scaler.pickle.dat', 'rb'))"
   ]
  },
  {
   "cell_type": "code",
   "execution_count": 32,
   "metadata": {},
   "outputs": [],
   "source": [
    "# Extract the ids of test dataset\n",
    "test_ids = test['SK_ID_CURR']"
   ]
  },
  {
   "cell_type": "code",
   "execution_count": 33,
   "metadata": {},
   "outputs": [],
   "source": [
    "# Remove the ids\n",
    "test_features = test.drop(columns = ['SK_ID_CURR'])"
   ]
  },
  {
   "cell_type": "code",
   "execution_count": 34,
   "metadata": {},
   "outputs": [],
   "source": [
    "# Imput missing values\n",
    "test_features = loaded_imputer.transform(test_features)"
   ]
  },
  {
   "cell_type": "code",
   "execution_count": 35,
   "metadata": {},
   "outputs": [],
   "source": [
    "# Normalization\n",
    "test_features = loaded_scaler.transform(test_features)"
   ]
  },
  {
   "cell_type": "code",
   "execution_count": 36,
   "metadata": {},
   "outputs": [],
   "source": [
    "# make predictions for all test data\n",
    "payback_pred = loaded_model.predict_proba(test_features)"
   ]
  },
  {
   "cell_type": "code",
   "execution_count": 37,
   "metadata": {},
   "outputs": [],
   "source": [
    "# Make the submission dataframe\n",
    "submission_load = pd.DataFrame({'SK_ID_CURR': test_ids, 'PREDICTION': payback_pred[:,1]})"
   ]
  },
  {
   "cell_type": "code",
   "execution_count": 38,
   "metadata": {},
   "outputs": [
    {
     "data": {
      "text/html": [
       "<div>\n",
       "<style scoped>\n",
       "    .dataframe tbody tr th:only-of-type {\n",
       "        vertical-align: middle;\n",
       "    }\n",
       "\n",
       "    .dataframe tbody tr th {\n",
       "        vertical-align: top;\n",
       "    }\n",
       "\n",
       "    .dataframe thead th {\n",
       "        text-align: right;\n",
       "    }\n",
       "</style>\n",
       "<table border=\"1\" class=\"dataframe\">\n",
       "  <thead>\n",
       "    <tr style=\"text-align: right;\">\n",
       "      <th></th>\n",
       "      <th>SK_ID_CURR</th>\n",
       "      <th>PREDICTION</th>\n",
       "    </tr>\n",
       "  </thead>\n",
       "  <tbody>\n",
       "    <tr>\n",
       "      <th>0</th>\n",
       "      <td>100001</td>\n",
       "      <td>0.367210</td>\n",
       "    </tr>\n",
       "    <tr>\n",
       "      <th>1</th>\n",
       "      <td>100005</td>\n",
       "      <td>0.659771</td>\n",
       "    </tr>\n",
       "    <tr>\n",
       "      <th>2</th>\n",
       "      <td>100013</td>\n",
       "      <td>0.151730</td>\n",
       "    </tr>\n",
       "    <tr>\n",
       "      <th>3</th>\n",
       "      <td>100028</td>\n",
       "      <td>0.240472</td>\n",
       "    </tr>\n",
       "    <tr>\n",
       "      <th>4</th>\n",
       "      <td>100038</td>\n",
       "      <td>0.724099</td>\n",
       "    </tr>\n",
       "  </tbody>\n",
       "</table>\n",
       "</div>"
      ],
      "text/plain": [
       "   SK_ID_CURR  PREDICTION\n",
       "0      100001    0.367210\n",
       "1      100005    0.659771\n",
       "2      100013    0.151730\n",
       "3      100028    0.240472\n",
       "4      100038    0.724099"
      ]
     },
     "execution_count": 38,
     "metadata": {},
     "output_type": "execute_result"
    }
   ],
   "source": [
    "submission_load.head()"
   ]
  },
  {
   "cell_type": "code",
   "execution_count": 39,
   "metadata": {},
   "outputs": [
    {
     "data": {
      "image/png": "[encoded data removed]",
      "text/plain": [
       "<Figure size 432x288 with 1 Axes>"
      ]
     },
     "metadata": {},
     "output_type": "display_data"
    }
   ],
   "source": [
    "submission_load['PREDICTION'].plot.kde(bw_method='scott').set_xlim(0, 1)\n",
    "plt.xlabel('Probability of pay-back failure')\n",
    "plt.title('KDE of predictions')\n",
    "plt.show()"
   ]
  },
  {
   "cell_type": "code",
   "execution_count": 40,
   "metadata": {},
   "outputs": [],
   "source": [
    "# Creation of a general dataframe (ids, predictions and input data)\n",
    "test_general_df = submission_load\n",
    "test_general_df = test_general_df.join([pd.DataFrame(data=test_features[:,i], columns=[feature_names[i]])\n",
    "                   for i in range(test_features.shape[1])])"
   ]
  },
  {
   "cell_type": "code",
   "execution_count": 41,
   "metadata": {},
   "outputs": [
    {
     "data": {
      "text/html": [
       "<div>\n",
       "<style scoped>\n",
       "    .dataframe tbody tr th:only-of-type {\n",
       "        vertical-align: middle;\n",
       "    }\n",
       "\n",
       "    .dataframe tbody tr th {\n",
       "        vertical-align: top;\n",
       "    }\n",
       "\n",
       "    .dataframe thead th {\n",
       "        text-align: right;\n",
       "    }\n",
       "</style>\n",
       "<table border=\"1\" class=\"dataframe\">\n",
       "  <thead>\n",
       "    <tr style=\"text-align: right;\">\n",
       "      <th></th>\n",
       "      <th>SK_ID_CURR</th>\n",
       "      <th>PREDICTION</th>\n",
       "      <th>AMT_INCOME_TOTAL</th>\n",
       "      <th>AMT_CREDIT</th>\n",
       "      <th>AMT_ANNUITY</th>\n",
       "      <th>REGION_POPULATION_RELATIVE</th>\n",
       "      <th>DAYS_BIRTH</th>\n",
       "      <th>DAYS_EMPLOYED</th>\n",
       "      <th>DAYS_REGISTRATION</th>\n",
       "      <th>DAYS_ID_PUBLISH</th>\n",
       "      <th>...</th>\n",
       "      <th>client_installments_RATE_DOWN_PAYMENT_sum_max</th>\n",
       "      <th>client_installments_RATE_DOWN_PAYMENT_sum_sum</th>\n",
       "      <th>client_installments_NAME_YIELD_GROUP_high_sum_mean</th>\n",
       "      <th>client_installments_NAME_SELLER_INDUSTRY_Connectivity_sum_mean</th>\n",
       "      <th>client_installments_DAYS_TERMINATION_count_mean</th>\n",
       "      <th>client_installments_CNT_PAYMENT_mean_mean</th>\n",
       "      <th>client_installments_CNT_PAYMENT_sum_max</th>\n",
       "      <th>client_installments_HOUR_APPR_PROCESS_START_mean_mean</th>\n",
       "      <th>client_installments_HOUR_APPR_PROCESS_START_mean_max</th>\n",
       "      <th>client_installments_AMT_DOWN_PAYMENT_sum_sum</th>\n",
       "    </tr>\n",
       "  </thead>\n",
       "  <tbody>\n",
       "    <tr>\n",
       "      <th>0</th>\n",
       "      <td>100001</td>\n",
       "      <td>0.367210</td>\n",
       "      <td>0.242273</td>\n",
       "      <td>0.244190</td>\n",
       "      <td>0.232468</td>\n",
       "      <td>0.257000</td>\n",
       "      <td>0.337542</td>\n",
       "      <td>0.762177</td>\n",
       "      <td>0.756694</td>\n",
       "      <td>0.887175</td>\n",
       "      <td>...</td>\n",
       "      <td>0.316912</td>\n",
       "      <td>0.030606</td>\n",
       "      <td>1.00</td>\n",
       "      <td>1.00</td>\n",
       "      <td>1.00</td>\n",
       "      <td>0.133333</td>\n",
       "      <td>0.133333</td>\n",
       "      <td>0.565217</td>\n",
       "      <td>0.565217</td>\n",
       "      <td>0.007592</td>\n",
       "    </tr>\n",
       "    <tr>\n",
       "      <th>1</th>\n",
       "      <td>100005</td>\n",
       "      <td>0.659771</td>\n",
       "      <td>0.162512</td>\n",
       "      <td>0.082874</td>\n",
       "      <td>0.193319</td>\n",
       "      <td>0.491595</td>\n",
       "      <td>0.403890</td>\n",
       "      <td>0.543654</td>\n",
       "      <td>0.570897</td>\n",
       "      <td>0.774489</td>\n",
       "      <td>...</td>\n",
       "      <td>0.331000</td>\n",
       "      <td>0.031967</td>\n",
       "      <td>0.50</td>\n",
       "      <td>0.50</td>\n",
       "      <td>0.50</td>\n",
       "      <td>0.200000</td>\n",
       "      <td>0.200000</td>\n",
       "      <td>0.456522</td>\n",
       "      <td>0.478261</td>\n",
       "      <td>0.013448</td>\n",
       "    </tr>\n",
       "    <tr>\n",
       "      <th>2</th>\n",
       "      <td>100013</td>\n",
       "      <td>0.151730</td>\n",
       "      <td>0.391825</td>\n",
       "      <td>0.288228</td>\n",
       "      <td>0.836389</td>\n",
       "      <td>0.260475</td>\n",
       "      <td>0.292616</td>\n",
       "      <td>0.544777</td>\n",
       "      <td>0.897642</td>\n",
       "      <td>0.513269</td>\n",
       "      <td>...</td>\n",
       "      <td>0.408369</td>\n",
       "      <td>0.039438</td>\n",
       "      <td>0.25</td>\n",
       "      <td>0.25</td>\n",
       "      <td>0.75</td>\n",
       "      <td>0.288889</td>\n",
       "      <td>0.600000</td>\n",
       "      <td>0.630435</td>\n",
       "      <td>0.782609</td>\n",
       "      <td>0.020334</td>\n",
       "    </tr>\n",
       "    <tr>\n",
       "      <th>3</th>\n",
       "      <td>100028</td>\n",
       "      <td>0.240472</td>\n",
       "      <td>0.641077</td>\n",
       "      <td>0.713270</td>\n",
       "      <td>0.581668</td>\n",
       "      <td>0.361433</td>\n",
       "      <td>0.634329</td>\n",
       "      <td>0.809456</td>\n",
       "      <td>0.905878</td>\n",
       "      <td>0.415312</td>\n",
       "      <td>...</td>\n",
       "      <td>0.525900</td>\n",
       "      <td>0.050787</td>\n",
       "      <td>0.00</td>\n",
       "      <td>0.20</td>\n",
       "      <td>0.40</td>\n",
       "      <td>0.188889</td>\n",
       "      <td>0.400000</td>\n",
       "      <td>0.469565</td>\n",
       "      <td>0.565217</td>\n",
       "      <td>0.033890</td>\n",
       "    </tr>\n",
       "    <tr>\n",
       "      <th>4</th>\n",
       "      <td>100038</td>\n",
       "      <td>0.724099</td>\n",
       "      <td>0.341974</td>\n",
       "      <td>0.270623</td>\n",
       "      <td>0.373661</td>\n",
       "      <td>0.134897</td>\n",
       "      <td>0.687091</td>\n",
       "      <td>0.776269</td>\n",
       "      <td>0.811756</td>\n",
       "      <td>0.407809</td>\n",
       "      <td>...</td>\n",
       "      <td>0.265962</td>\n",
       "      <td>0.025686</td>\n",
       "      <td>0.50</td>\n",
       "      <td>0.50</td>\n",
       "      <td>0.50</td>\n",
       "      <td>0.400000</td>\n",
       "      <td>0.600000</td>\n",
       "      <td>0.239130</td>\n",
       "      <td>0.304348</td>\n",
       "      <td>0.024387</td>\n",
       "    </tr>\n",
       "  </tbody>\n",
       "</table>\n",
       "<p>5 rows × 100 columns</p>\n",
       "</div>"
      ],
      "text/plain": [
       "   SK_ID_CURR  PREDICTION  AMT_INCOME_TOTAL  AMT_CREDIT  AMT_ANNUITY  \\\n",
       "0      100001    0.367210          0.242273    0.244190     0.232468   \n",
       "1      100005    0.659771          0.162512    0.082874     0.193319   \n",
       "2      100013    0.151730          0.391825    0.288228     0.836389   \n",
       "3      100028    0.240472          0.641077    0.713270     0.581668   \n",
       "4      100038    0.724099          0.341974    0.270623     0.373661   \n",
       "\n",
       "   REGION_POPULATION_RELATIVE  DAYS_BIRTH  DAYS_EMPLOYED  DAYS_REGISTRATION  \\\n",
       "0                    0.257000    0.337542       0.762177           0.756694   \n",
       "1                    0.491595    0.403890       0.543654           0.570897   \n",
       "2                    0.260475    0.292616       0.544777           0.897642   \n",
       "3                    0.361433    0.634329       0.809456           0.905878   \n",
       "4                    0.134897    0.687091       0.776269           0.811756   \n",
       "\n",
       "   DAYS_ID_PUBLISH  ...  client_installments_RATE_DOWN_PAYMENT_sum_max  \\\n",
       "0         0.887175  ...                                       0.316912   \n",
       "1         0.774489  ...                                       0.331000   \n",
       "2         0.513269  ...                                       0.408369   \n",
       "3         0.415312  ...                                       0.525900   \n",
       "4         0.407809  ...                                       0.265962   \n",
       "\n",
       "   client_installments_RATE_DOWN_PAYMENT_sum_sum  \\\n",
       "0                                       0.030606   \n",
       "1                                       0.031967   \n",
       "2                                       0.039438   \n",
       "3                                       0.050787   \n",
       "4                                       0.025686   \n",
       "\n",
       "   client_installments_NAME_YIELD_GROUP_high_sum_mean  \\\n",
       "0                                               1.00    \n",
       "1                                               0.50    \n",
       "2                                               0.25    \n",
       "3                                               0.00    \n",
       "4                                               0.50    \n",
       "\n",
       "   client_installments_NAME_SELLER_INDUSTRY_Connectivity_sum_mean  \\\n",
       "0                                               1.00                \n",
       "1                                               0.50                \n",
       "2                                               0.25                \n",
       "3                                               0.20                \n",
       "4                                               0.50                \n",
       "\n",
       "   client_installments_DAYS_TERMINATION_count_mean  \\\n",
       "0                                             1.00   \n",
       "1                                             0.50   \n",
       "2                                             0.75   \n",
       "3                                             0.40   \n",
       "4                                             0.50   \n",
       "\n",
       "   client_installments_CNT_PAYMENT_mean_mean  \\\n",
       "0                                   0.133333   \n",
       "1                                   0.200000   \n",
       "2                                   0.288889   \n",
       "3                                   0.188889   \n",
       "4                                   0.400000   \n",
       "\n",
       "   client_installments_CNT_PAYMENT_sum_max  \\\n",
       "0                                 0.133333   \n",
       "1                                 0.200000   \n",
       "2                                 0.600000   \n",
       "3                                 0.400000   \n",
       "4                                 0.600000   \n",
       "\n",
       "   client_installments_HOUR_APPR_PROCESS_START_mean_mean  \\\n",
       "0                                           0.565217       \n",
       "1                                           0.456522       \n",
       "2                                           0.630435       \n",
       "3                                           0.469565       \n",
       "4                                           0.239130       \n",
       "\n",
       "   client_installments_HOUR_APPR_PROCESS_START_mean_max  \\\n",
       "0                                           0.565217      \n",
       "1                                           0.478261      \n",
       "2                                           0.782609      \n",
       "3                                           0.565217      \n",
       "4                                           0.304348      \n",
       "\n",
       "   client_installments_AMT_DOWN_PAYMENT_sum_sum  \n",
       "0                                      0.007592  \n",
       "1                                      0.013448  \n",
       "2                                      0.020334  \n",
       "3                                      0.033890  \n",
       "4                                      0.024387  \n",
       "\n",
       "[5 rows x 100 columns]"
      ]
     },
     "execution_count": 41,
     "metadata": {},
     "output_type": "execute_result"
    }
   ],
   "source": [
    "test_general_df.head()"
   ]
  },
  {
   "cell_type": "markdown",
   "metadata": {},
   "source": [
    "#### Try of unique prediction from a single row of the test dataset"
   ]
  },
  {
   "cell_type": "markdown",
   "metadata": {},
   "source": [
    "The test dataset, except during the aligning process, has remained untouched. All the transformations has been done localy on a copy (test_features). Here we test the model capacity to make a prediction on a single row (as if it was given like a new client)."
   ]
  },
  {
   "cell_type": "code",
   "execution_count": 42,
   "metadata": {},
   "outputs": [],
   "source": [
    "# Extract of a single row (arbitrary choice)\n",
    "row = test[test['SK_ID_CURR']==100005]"
   ]
  },
  {
   "cell_type": "code",
   "execution_count": 43,
   "metadata": {},
   "outputs": [],
   "source": [
    "# Drop unwanted column\n",
    "row.drop(columns='SK_ID_CURR', inplace=True)"
   ]
  },
  {
   "cell_type": "code",
   "execution_count": 44,
   "metadata": {},
   "outputs": [],
   "source": [
    "# Impute missing value and normalize\n",
    "row = imputer.transform(row)\n",
    "row = scaler.transform(row)"
   ]
  },
  {
   "cell_type": "code",
   "execution_count": 45,
   "metadata": {},
   "outputs": [
    {
     "data": {
      "text/plain": [
       "0.659771"
      ]
     },
     "execution_count": 45,
     "metadata": {},
     "output_type": "execute_result"
    }
   ],
   "source": [
    "# Perform prediction\n",
    "row_pred = loaded_model.predict_proba(row)[0,1]\n",
    "round(row_pred,6)"
   ]
  },
  {
   "cell_type": "markdown",
   "metadata": {},
   "source": [
    "The prediction is exactly the same. We can write a function doing all the steps at once."
   ]
  },
  {
   "cell_type": "code",
   "execution_count": 46,
   "metadata": {},
   "outputs": [],
   "source": [
    "def prediction(model, imputer, scaler, dataset, client_id):\n",
    "    \n",
    "    # Extract of a single row\n",
    "    row = dataset[dataset['SK_ID_CURR']==client_id]\n",
    "    \n",
    "    # Drop unwanted column\n",
    "    if 'TARGET' in dataset.columns:\n",
    "        row.drop(columns=['SK_ID_CURR','TARGET'], inplace=True)\n",
    "    else:\n",
    "        row.drop(columns=['SK_ID_CURR'], inplace=True)\n",
    "    \n",
    "    # Impute missing value and normalize\n",
    "    row = imputer.transform(row)\n",
    "    row = scaler.transform(row)\n",
    "    \n",
    "    # Perform prediction\n",
    "    row_pred = model.predict_proba(row)[0,1]\n",
    "\n",
    "    return row_pred"
   ]
  },
  {
   "cell_type": "markdown",
   "metadata": {},
   "source": [
    "#### Few tests of the function on the training / test dataframe"
   ]
  },
  {
   "cell_type": "code",
   "execution_count": 47,
   "metadata": {},
   "outputs": [
    {
     "data": {
      "text/plain": [
       "0.36721"
      ]
     },
     "execution_count": 47,
     "metadata": {},
     "output_type": "execute_result"
    }
   ],
   "source": [
    "round(prediction(loaded_model, loaded_imputer, loaded_scaler, test, 100001),6)"
   ]
  },
  {
   "cell_type": "code",
   "execution_count": 48,
   "metadata": {},
   "outputs": [
    {
     "data": {
      "text/plain": [
       "0.769072"
      ]
     },
     "execution_count": 48,
     "metadata": {},
     "output_type": "execute_result"
    }
   ],
   "source": [
    "round(prediction(loaded_model, loaded_imputer, loaded_scaler, train, 100002),6)"
   ]
  },
  {
   "cell_type": "markdown",
   "metadata": {},
   "source": [
    "This seems to work just as well with the training dataset as it does with the test dataset. We will be able to use this function confidently in the second part of the application (computation of predictions on a loaded dataset)."
   ]
  },
  {
   "cell_type": "markdown",
   "metadata": {},
   "source": [
    "### Building of a global dataframe (app)"
   ]
  },
  {
   "cell_type": "markdown",
   "metadata": {},
   "source": [
    "For the purposes of the application, we want to have access to the predictions of all the clients (i.e. the training database and the test database). So we build a global base containing the features of both on which we run the imputer, the scaler and the model."
   ]
  },
  {
   "cell_type": "code",
   "execution_count": 49,
   "metadata": {},
   "outputs": [
    {
     "data": {
      "text/plain": [
       "(356255, 100)"
      ]
     },
     "execution_count": 49,
     "metadata": {},
     "output_type": "execute_result"
    }
   ],
   "source": [
    "global_df = train.append(test).sort_values(by='SK_ID_CURR').reset_index(drop=True)\n",
    "global_df.shape"
   ]
  },
  {
   "cell_type": "code",
   "execution_count": 50,
   "metadata": {},
   "outputs": [],
   "source": [
    "# Save of the ids\n",
    "global_ids = global_df['SK_ID_CURR']"
   ]
  },
  {
   "cell_type": "code",
   "execution_count": 51,
   "metadata": {},
   "outputs": [],
   "source": [
    "# Remove the ids and eventual TARGET values\n",
    "global_features = global_df.drop(columns = ['SK_ID_CURR', 'TARGET'])"
   ]
  },
  {
   "cell_type": "code",
   "execution_count": 52,
   "metadata": {},
   "outputs": [],
   "source": [
    "# Imput missing values\n",
    "global_features = loaded_imputer.transform(global_features)\n",
    "\n",
    "# Normalization\n",
    "global_features = loaded_scaler.transform(global_features)"
   ]
  },
  {
   "cell_type": "code",
   "execution_count": 53,
   "metadata": {},
   "outputs": [],
   "source": [
    "# make predictions for all global data\n",
    "payback_pred = loaded_model.predict_proba(global_features)"
   ]
  },
  {
   "cell_type": "code",
   "execution_count": 54,
   "metadata": {},
   "outputs": [
    {
     "data": {
      "text/html": [
       "<div>\n",
       "<style scoped>\n",
       "    .dataframe tbody tr th:only-of-type {\n",
       "        vertical-align: middle;\n",
       "    }\n",
       "\n",
       "    .dataframe tbody tr th {\n",
       "        vertical-align: top;\n",
       "    }\n",
       "\n",
       "    .dataframe thead th {\n",
       "        text-align: right;\n",
       "    }\n",
       "</style>\n",
       "<table border=\"1\" class=\"dataframe\">\n",
       "  <thead>\n",
       "    <tr style=\"text-align: right;\">\n",
       "      <th></th>\n",
       "      <th>SK_ID_CURR</th>\n",
       "      <th>PREDICTION</th>\n",
       "    </tr>\n",
       "  </thead>\n",
       "  <tbody>\n",
       "    <tr>\n",
       "      <th>0</th>\n",
       "      <td>100001</td>\n",
       "      <td>0.367210</td>\n",
       "    </tr>\n",
       "    <tr>\n",
       "      <th>1</th>\n",
       "      <td>100002</td>\n",
       "      <td>0.769072</td>\n",
       "    </tr>\n",
       "    <tr>\n",
       "      <th>2</th>\n",
       "      <td>100003</td>\n",
       "      <td>0.302451</td>\n",
       "    </tr>\n",
       "    <tr>\n",
       "      <th>3</th>\n",
       "      <td>100004</td>\n",
       "      <td>0.265177</td>\n",
       "    </tr>\n",
       "    <tr>\n",
       "      <th>4</th>\n",
       "      <td>100005</td>\n",
       "      <td>0.659771</td>\n",
       "    </tr>\n",
       "  </tbody>\n",
       "</table>\n",
       "</div>"
      ],
      "text/plain": [
       "   SK_ID_CURR  PREDICTION\n",
       "0      100001    0.367210\n",
       "1      100002    0.769072\n",
       "2      100003    0.302451\n",
       "3      100004    0.265177\n",
       "4      100005    0.659771"
      ]
     },
     "execution_count": 54,
     "metadata": {},
     "output_type": "execute_result"
    }
   ],
   "source": [
    "# Make the submission dataframe\n",
    "submission_load = pd.DataFrame({'SK_ID_CURR': global_ids, 'PREDICTION': payback_pred[:,1]})\n",
    "submission_load.head()"
   ]
  },
  {
   "cell_type": "code",
   "execution_count": 55,
   "metadata": {},
   "outputs": [
    {
     "data": {
      "image/png": "[encoded data removed]",
      "text/plain": [
       "<Figure size 432x288 with 1 Axes>"
      ]
     },
     "metadata": {},
     "output_type": "display_data"
    }
   ],
   "source": [
    "submission_load['PREDICTION'].plot.kde(bw_method='scott').set_xlim(0, 1)\n",
    "plt.xlabel('Probability of pay-back failure')\n",
    "plt.title('KDE of predictions')\n",
    "plt.show()"
   ]
  },
  {
   "cell_type": "code",
   "execution_count": 56,
   "metadata": {},
   "outputs": [],
   "source": [
    "# Merging of the global dataframe (features) with the global predictions\n",
    "global_general_df = global_df.merge(submission_load, on='SK_ID_CURR')"
   ]
  },
  {
   "cell_type": "code",
   "execution_count": 57,
   "metadata": {},
   "outputs": [],
   "source": [
    "# Reduction of the database to those used in the application (dashboard part)\n",
    "global_general_extract=global_general_df[['EXT_SOURCE_1','EXT_SOURCE_2','EXT_SOURCE_3','DAYS_BIRTH','AMT_CREDIT','PREDICTION','SK_ID_CURR']]\n",
    "# Saving of the global_general_extract df in CSV files\n",
    "global_general_extract.to_csv('global_general_extract.csv', index = False)"
   ]
  },
  {
   "cell_type": "code",
   "execution_count": 58,
   "metadata": {},
   "outputs": [
    {
     "data": {
      "text/html": [
       "<div>\n",
       "<style scoped>\n",
       "    .dataframe tbody tr th:only-of-type {\n",
       "        vertical-align: middle;\n",
       "    }\n",
       "\n",
       "    .dataframe tbody tr th {\n",
       "        vertical-align: top;\n",
       "    }\n",
       "\n",
       "    .dataframe thead th {\n",
       "        text-align: right;\n",
       "    }\n",
       "</style>\n",
       "<table border=\"1\" class=\"dataframe\">\n",
       "  <thead>\n",
       "    <tr style=\"text-align: right;\">\n",
       "      <th></th>\n",
       "      <th>EXT_SOURCE_1</th>\n",
       "      <th>EXT_SOURCE_2</th>\n",
       "      <th>EXT_SOURCE_3</th>\n",
       "      <th>DAYS_BIRTH</th>\n",
       "      <th>AMT_CREDIT</th>\n",
       "      <th>PREDICTION</th>\n",
       "      <th>SK_ID_CURR</th>\n",
       "    </tr>\n",
       "  </thead>\n",
       "  <tbody>\n",
       "    <tr>\n",
       "      <th>0</th>\n",
       "      <td>0.752615</td>\n",
       "      <td>0.789654</td>\n",
       "      <td>0.159520</td>\n",
       "      <td>-19241</td>\n",
       "      <td>568800.0</td>\n",
       "      <td>0.367210</td>\n",
       "      <td>100001</td>\n",
       "    </tr>\n",
       "    <tr>\n",
       "      <th>1</th>\n",
       "      <td>0.083037</td>\n",
       "      <td>0.262949</td>\n",
       "      <td>0.139376</td>\n",
       "      <td>-9461</td>\n",
       "      <td>406597.5</td>\n",
       "      <td>0.769072</td>\n",
       "      <td>100002</td>\n",
       "    </tr>\n",
       "    <tr>\n",
       "      <th>2</th>\n",
       "      <td>0.311267</td>\n",
       "      <td>0.622246</td>\n",
       "      <td>NaN</td>\n",
       "      <td>-16765</td>\n",
       "      <td>1293502.5</td>\n",
       "      <td>0.302451</td>\n",
       "      <td>100003</td>\n",
       "    </tr>\n",
       "    <tr>\n",
       "      <th>3</th>\n",
       "      <td>NaN</td>\n",
       "      <td>0.555912</td>\n",
       "      <td>0.729567</td>\n",
       "      <td>-19046</td>\n",
       "      <td>135000.0</td>\n",
       "      <td>0.265177</td>\n",
       "      <td>100004</td>\n",
       "    </tr>\n",
       "    <tr>\n",
       "      <th>4</th>\n",
       "      <td>0.564990</td>\n",
       "      <td>0.291656</td>\n",
       "      <td>0.432962</td>\n",
       "      <td>-18064</td>\n",
       "      <td>222768.0</td>\n",
       "      <td>0.659771</td>\n",
       "      <td>100005</td>\n",
       "    </tr>\n",
       "  </tbody>\n",
       "</table>\n",
       "</div>"
      ],
      "text/plain": [
       "   EXT_SOURCE_1  EXT_SOURCE_2  EXT_SOURCE_3  DAYS_BIRTH  AMT_CREDIT  \\\n",
       "0      0.752615      0.789654      0.159520      -19241    568800.0   \n",
       "1      0.083037      0.262949      0.139376       -9461    406597.5   \n",
       "2      0.311267      0.622246           NaN      -16765   1293502.5   \n",
       "3           NaN      0.555912      0.729567      -19046    135000.0   \n",
       "4      0.564990      0.291656      0.432962      -18064    222768.0   \n",
       "\n",
       "   PREDICTION  SK_ID_CURR  \n",
       "0    0.367210      100001  \n",
       "1    0.769072      100002  \n",
       "2    0.302451      100003  \n",
       "3    0.265177      100004  \n",
       "4    0.659771      100005  "
      ]
     },
     "execution_count": 58,
     "metadata": {},
     "output_type": "execute_result"
    }
   ],
   "source": [
    "global_general_extract.head()"
   ]
  },
  {
   "cell_type": "markdown",
   "metadata": {},
   "source": [
    "### Building of a reduced database for KDE plots (app)"
   ]
  },
  {
   "cell_type": "markdown",
   "metadata": {},
   "source": [
    "For the purposes of the application, we want to plot the kernel density estimators of few features selected among the most important (i.e. the five most important ones). Since it doesn't seem necessary to load all the featues for only few of them we make a reduction and keep only the ones usefull. We're going to need to separate clients based on their payback success / failure, so we will have to limit the selection to clients of the training base. "
   ]
  },
  {
   "cell_type": "code",
   "execution_count": 59,
   "metadata": {},
   "outputs": [],
   "source": [
    "# Reduced database for KDE plots in application\n",
    "train_extract=train[['EXT_SOURCE_1','EXT_SOURCE_2','EXT_SOURCE_3','DAYS_BIRTH','AMT_CREDIT','TARGET','SK_ID_CURR']]\n",
    "# Saving of the train_extract df in CSV files\n",
    "train_extract.to_csv('train_extract.csv', index = False)"
   ]
  },
  {
   "cell_type": "code",
   "execution_count": 60,
   "metadata": {},
   "outputs": [
    {
     "data": {
      "text/html": [
       "<div>\n",
       "<style scoped>\n",
       "    .dataframe tbody tr th:only-of-type {\n",
       "        vertical-align: middle;\n",
       "    }\n",
       "\n",
       "    .dataframe tbody tr th {\n",
       "        vertical-align: top;\n",
       "    }\n",
       "\n",
       "    .dataframe thead th {\n",
       "        text-align: right;\n",
       "    }\n",
       "</style>\n",
       "<table border=\"1\" class=\"dataframe\">\n",
       "  <thead>\n",
       "    <tr style=\"text-align: right;\">\n",
       "      <th></th>\n",
       "      <th>EXT_SOURCE_1</th>\n",
       "      <th>EXT_SOURCE_2</th>\n",
       "      <th>EXT_SOURCE_3</th>\n",
       "      <th>DAYS_BIRTH</th>\n",
       "      <th>AMT_CREDIT</th>\n",
       "      <th>TARGET</th>\n",
       "      <th>SK_ID_CURR</th>\n",
       "    </tr>\n",
       "  </thead>\n",
       "  <tbody>\n",
       "    <tr>\n",
       "      <th>0</th>\n",
       "      <td>0.083037</td>\n",
       "      <td>0.262949</td>\n",
       "      <td>0.139376</td>\n",
       "      <td>-9461</td>\n",
       "      <td>406597.5</td>\n",
       "      <td>True</td>\n",
       "      <td>100002</td>\n",
       "    </tr>\n",
       "    <tr>\n",
       "      <th>1</th>\n",
       "      <td>0.311267</td>\n",
       "      <td>0.622246</td>\n",
       "      <td>NaN</td>\n",
       "      <td>-16765</td>\n",
       "      <td>1293502.5</td>\n",
       "      <td>False</td>\n",
       "      <td>100003</td>\n",
       "    </tr>\n",
       "    <tr>\n",
       "      <th>2</th>\n",
       "      <td>NaN</td>\n",
       "      <td>0.555912</td>\n",
       "      <td>0.729567</td>\n",
       "      <td>-19046</td>\n",
       "      <td>135000.0</td>\n",
       "      <td>False</td>\n",
       "      <td>100004</td>\n",
       "    </tr>\n",
       "    <tr>\n",
       "      <th>3</th>\n",
       "      <td>NaN</td>\n",
       "      <td>0.650442</td>\n",
       "      <td>NaN</td>\n",
       "      <td>-19005</td>\n",
       "      <td>312682.5</td>\n",
       "      <td>False</td>\n",
       "      <td>100006</td>\n",
       "    </tr>\n",
       "    <tr>\n",
       "      <th>4</th>\n",
       "      <td>NaN</td>\n",
       "      <td>0.322738</td>\n",
       "      <td>NaN</td>\n",
       "      <td>-19932</td>\n",
       "      <td>513000.0</td>\n",
       "      <td>False</td>\n",
       "      <td>100007</td>\n",
       "    </tr>\n",
       "  </tbody>\n",
       "</table>\n",
       "</div>"
      ],
      "text/plain": [
       "   EXT_SOURCE_1  EXT_SOURCE_2  EXT_SOURCE_3  DAYS_BIRTH  AMT_CREDIT  TARGET  \\\n",
       "0      0.083037      0.262949      0.139376       -9461    406597.5    True   \n",
       "1      0.311267      0.622246           NaN      -16765   1293502.5   False   \n",
       "2           NaN      0.555912      0.729567      -19046    135000.0   False   \n",
       "3           NaN      0.650442           NaN      -19005    312682.5   False   \n",
       "4           NaN      0.322738           NaN      -19932    513000.0   False   \n",
       "\n",
       "   SK_ID_CURR  \n",
       "0      100002  \n",
       "1      100003  \n",
       "2      100004  \n",
       "3      100006  \n",
       "4      100007  "
      ]
     },
     "execution_count": 60,
     "metadata": {},
     "output_type": "execute_result"
    }
   ],
   "source": [
    "train_extract.head()"
   ]
  },
  {
   "cell_type": "markdown",
   "metadata": {},
   "source": [
    "### Some extracts of the global dataframe (app)"
   ]
  },
  {
   "cell_type": "markdown",
   "metadata": {},
   "source": [
    "For the purposes of the application, we want to test the possiblity of computing predictions on loaded datasets (with a loaded scaler, imputer and model). To give an idea of the results obtained in this aim we make some random extractions of the global dataframe (the one with all the features but no prediction)."
   ]
  },
  {
   "cell_type": "code",
   "execution_count": 61,
   "metadata": {},
   "outputs": [],
   "source": [
    "# Extract a random sample of 10 clients\n",
    "global_extract = global_df.sample(n=10, random_state=0)\n",
    "# Saving of the extracted df in CSV file\n",
    "global_extract.to_csv('global_extract_10.csv', index = False)"
   ]
  },
  {
   "cell_type": "code",
   "execution_count": 62,
   "metadata": {},
   "outputs": [],
   "source": [
    "# Extract of global\n",
    "global_extract2 = global_df.sample(n=100, random_state=0)\n",
    "# Saving of the extracted df in CSV file\n",
    "global_extract2.to_csv('global_extract_100.csv', index = False)"
   ]
  },
  {
   "cell_type": "code",
   "execution_count": 63,
   "metadata": {},
   "outputs": [],
   "source": [
    "# Extract of global\n",
    "global_extract3 = global_df.sample(n=1000, random_state=0)\n",
    "# Saving of the extracted df in CSV file\n",
    "global_extract3.to_csv('global_extract_1000.csv', index = False)"
   ]
  }
 ],
 "metadata": {
  "kernelspec": {
   "display_name": "Python 3",
   "language": "python",
   "name": "python3"
  },
  "language_info": {
   "codemirror_mode": {
    "name": "ipython",
    "version": 3
   },
   "file_extension": ".py",
   "mimetype": "text/x-python",
   "name": "python",
   "nbconvert_exporter": "python",
   "pygments_lexer": "ipython3",
   "version": "3.8.5"
  }
 },
 "nbformat": 4,
 "nbformat_minor": 4
}
