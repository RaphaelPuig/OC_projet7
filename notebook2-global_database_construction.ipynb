{
 "cells": [
  {
   "cell_type": "markdown",
   "metadata": {},
   "source": [
    "# Projet 7-2: Global database construction"
   ]
  },
  {
   "cell_type": "markdown",
   "metadata": {},
   "source": [
    "As seen in the Exploratory Data Analysis notebook, there are a large number of databases available: application_test, application_train, bureau, bureau_balance, credit_card_balance, HomeCredit_columns_description, installments_payments, POS_CASH_balance, previous_application, sample_submission. Not all of these bases are actually usable.\n",
    "\n",
    "- HomeCredit_columns_description is a file which gives additional information on the features of each database.  \n",
    "- Sample_submission is a two columns database with predictions (or some kind of) made on application_test database.  \n",
    "\n",
    "In order to make a general base to train and select a model we have to merge the bases with the good preliminary treatments (e.g. identification of anomalous values and outliers, statistic computations and merging through clients' identification number).  \n",
    "\n",
    "For reasons of consistency we will do the same with the application_test database even if it will not be directly used for training models. "
   ]
  },
  {
   "cell_type": "code",
   "execution_count": 1,
   "metadata": {},
   "outputs": [],
   "source": [
    "# File system management\n",
    "import os"
   ]
  },
  {
   "cell_type": "code",
   "execution_count": 2,
   "metadata": {},
   "outputs": [],
   "source": [
    "# memory management\n",
    "import sys\n",
    "import gc"
   ]
  },
  {
   "cell_type": "code",
   "execution_count": 3,
   "metadata": {},
   "outputs": [],
   "source": [
    "# Main libraries\n",
    "import numpy as np\n",
    "import pandas as pd\n",
    "\n",
    "# plotting\n",
    "import matplotlib.pyplot as plt\n",
    "import seaborn as sns\n",
    "\n",
    "# sklearn preprocessing for dealing with categorical variables\n",
    "from sklearn.preprocessing import LabelEncoder\n",
    "\n",
    "# Secondary libraries\n",
    "import timeit"
   ]
  },
  {
   "cell_type": "code",
   "execution_count": 4,
   "metadata": {},
   "outputs": [],
   "source": [
    "# Mode 'dark' for plottings\n",
    "plt.style.use('dark_background')"
   ]
  },
  {
   "cell_type": "code",
   "execution_count": 5,
   "metadata": {},
   "outputs": [],
   "source": [
    "# Suppress warnings \n",
    "import warnings\n",
    "warnings.filterwarnings('ignore')"
   ]
  },
  {
   "cell_type": "markdown",
   "metadata": {},
   "source": [
    "### Functions used in this notebook"
   ]
  },
  {
   "cell_type": "markdown",
   "metadata": {},
   "source": [
    "The function below will help reduce memory usage by using more efficient types for the variables. For example category is often a better type than object (unless the number of unique categories is close to the number of rows in the dataframe)."
   ]
  },
  {
   "cell_type": "code",
   "execution_count": 6,
   "metadata": {},
   "outputs": [],
   "source": [
    "def convert_types(df, print_info = False):\n",
    "    \"\"\"\n",
    "    Convert data types into more suitable ones in\n",
    "    order to reduce the volume of the input dataframe.\n",
    "    \n",
    "    parameter\n",
    "    ---------\n",
    "    df = dataframe\n",
    "    \"\"\"\n",
    "    \n",
    "    original_memory = df.memory_usage().sum()\n",
    "    \n",
    "    # Iterate through each column\n",
    "    for col in df:\n",
    "        \n",
    "        # Convert ids and booleans to integers\n",
    "        if ('SK_ID' in col):\n",
    "            df[col] = df[col].fillna(0).astype(np.int32)\n",
    "            \n",
    "        # Convert objects to category\n",
    "        elif (df[col].dtype == 'object') and (df[col].nunique() < df.shape[0]):\n",
    "            df[col] = df[col].astype('category')\n",
    "        \n",
    "        # Booleans mapped to integers\n",
    "        elif set(df[col].unique()) == {1, 0}:\n",
    "            df[col] = df[col].astype(bool)\n",
    "        \n",
    "        # Float64 to float32\n",
    "        elif df[col].dtype == float:\n",
    "            df[col] = df[col].astype(np.float32)\n",
    "            \n",
    "        # Int64 to int32\n",
    "        elif df[col].dtype == int:\n",
    "            df[col] = df[col].astype(np.int32)\n",
    "        \n",
    "    new_memory = df.memory_usage().sum()\n",
    "    \n",
    "    if print_info:\n",
    "        print(f'Original Memory Usage: {round(original_memory / 1e9, 2)} gb.')\n",
    "        print(f'New Memory Usage: {round(new_memory / 1e9, 2)} gb.')\n",
    "        \n",
    "    return df"
   ]
  },
  {
   "cell_type": "code",
   "execution_count": 7,
   "metadata": {},
   "outputs": [],
   "source": [
    "def return_size(df):\n",
    "    \"\"\"Return size of dataframe in gigabytes\"\"\"\n",
    "    return round(sys.getsizeof(df) / 1e9, 2)"
   ]
  },
  {
   "cell_type": "markdown",
   "metadata": {},
   "source": [
    "The functions below detect and remove respectively the anomalous value 365243 in DAYS_... features, and outliers in all numerical data with more than three unique values (the flag and rank features must elude the processing)."
   ]
  },
  {
   "cell_type": "code",
   "execution_count": 8,
   "metadata": {},
   "outputs": [],
   "source": [
    "def spot_365243(df):\n",
    "    \n",
    "    \"\"\"\n",
    "    Detects the '365243.0' values in an input dataframe\n",
    "\n",
    "    Parameters\n",
    "    ----------\n",
    "    df : dataframe \n",
    "        The dataframe in which we want to spot this anomalous value.\n",
    "        \n",
    "    Return\n",
    "    ------\n",
    "    feature_list : list\n",
    "        A list of the features in which the anomalous value has been spoted.\n",
    "        \n",
    "    \"\"\"    \n",
    "    \n",
    "    features_list=list()\n",
    "    \n",
    "    for col in df:\n",
    "        if 365243 in df[col].drop_duplicates().to_numpy() and 'SK_ID' not in col:\n",
    "            features_list.append(col)\n",
    "            \n",
    "    if len(features_list)==0:\n",
    "        print('No 365243 anomalous value in this dataframe.')\n",
    "    else:\n",
    "        return features_list"
   ]
  },
  {
   "cell_type": "code",
   "execution_count": 9,
   "metadata": {},
   "outputs": [],
   "source": [
    "def remove_365243(df,features_list):\n",
    "    \n",
    "    \"\"\"\n",
    "    Detects and replace the '365243.0' in DAYS_... features of an input dataframe\n",
    "    with nan values.\n",
    "    \n",
    "    Parameters\n",
    "    ----------\n",
    "    df : dataframe \n",
    "        The dataframe in which we want to remove the anomalous value in the DAYS_ columns.\n",
    "        \n",
    "    Return\n",
    "    ------\n",
    "    df : dataframe\n",
    "        A dataframe where all the anomalous values are replaced by nan values.\n",
    "        \n",
    "    \"\"\"    \n",
    "    \n",
    "    for col in features_list:\n",
    "        df[col]=df[col].replace({365243.0: np.nan})\n",
    "            \n",
    "    return df"
   ]
  },
  {
   "cell_type": "code",
   "execution_count": 10,
   "metadata": {},
   "outputs": [],
   "source": [
    "def spot_XNA(df):\n",
    "    \n",
    "    \"\"\"\n",
    "    Detects the 'XNA' string in an input dataframe\n",
    "\n",
    "    Parameters\n",
    "    ----------\n",
    "    df : dataframe \n",
    "        The dataframe in which we want to spot this peculiar string.\n",
    "        \n",
    "    Return\n",
    "    ------\n",
    "    feature_list : list\n",
    "        A list of the features in which the peculiar entry has been spoted.\n",
    "        \n",
    "    \"\"\"    \n",
    "    \n",
    "    features_list=list()\n",
    "            \n",
    "    for col in df:\n",
    "        if str(df[col].dtypes)=='category' and 'XNA' in df[col].drop_duplicates().to_numpy():\n",
    "            features_list.append(col)\n",
    "            \n",
    "    if len(features_list)==0:\n",
    "        print('No XNA string in this dataframe.')\n",
    "    else:\n",
    "        return features_list"
   ]
  },
  {
   "cell_type": "code",
   "execution_count": 11,
   "metadata": {},
   "outputs": [],
   "source": [
    "def remove_XNA(df, features_list):\n",
    "    \"\"\"\n",
    "    Detects and replaces the 'XNA' entries of categorical features\n",
    "    with nan values.\n",
    "    \n",
    "    Parameters\n",
    "    ----------\n",
    "        df : dataframe \n",
    "        The dataframe in which we want to replace the 'XNA' entries.\n",
    "        \n",
    "    Return\n",
    "    ------\n",
    "    df : dataframe\n",
    "        A dataframe where all the 'XNA' entries are replaced by nan values.\n",
    "        \n",
    "    \"\"\"\n",
    "    \n",
    "    for col in features_list:\n",
    "        df[col] = df[col].replace({'XNA': np.nan})\n",
    "        df[col] = df[col].astype('category')\n",
    "            \n",
    "    return df"
   ]
  },
  {
   "cell_type": "code",
   "execution_count": 12,
   "metadata": {},
   "outputs": [],
   "source": [
    "def remove_outliers(df, quant_low=0.2, quant_up=0.8, whisker=2):\n",
    "    \n",
    "    \"\"\"\n",
    "    Detects and replaces outliers from the whole dataframe \n",
    "    (for numeric features with more than 3 entries only)\n",
    "    with nan value.\n",
    "    \n",
    "    Parameters\n",
    "    ----------\n",
    "    df : dataframe \n",
    "        The dataframe in which we want to remove outliers.\n",
    "    \n",
    "    quant_low : float value\n",
    "        The value, as a fraction of the unit, of the first considered \n",
    "        quantile (i.e. the lower limit) for the Tukey's box plot.\n",
    "        \n",
    "    quant_up : float value\n",
    "        The value, as a fraction of the unit,  of the last considered\n",
    "        quantile (i.e. the upper limit) for the Tukey's box plot.\n",
    "        \n",
    "    whisker : int value\n",
    "        The number of interquantile spaces to be considered to determine\n",
    "        the length of the 'whiskers' (ultimate limits beyond which the values\n",
    "        are considered to be outliers).\n",
    "        \n",
    "    Return\n",
    "    ------\n",
    "    df : dataframe\n",
    "        A dataframe where all the outliers are replaced by nan values\n",
    "        \n",
    "    \"\"\"\n",
    "\n",
    "    for col in df:\n",
    "        if (df[col].dtypes != 'bool') and (str(df[col].dtypes) != 'category') and (df[col].nunique(dropna=True) > 2):\n",
    "            \n",
    "            # set boundaries\n",
    "            Q1 = df[col].quantile(quant_low)\n",
    "            Q3 = df[col].quantile(quant_up)\n",
    "\n",
    "            interquart = Q3 - Q1\n",
    "\n",
    "            low_lim = Q1 - whisker * interquart\n",
    "            up_lim = Q3 + whisker * interquart\n",
    "\n",
    "            # detect outliers\n",
    "            outliers_low = (df[col] < low_lim)\n",
    "            outliers_up = (df[col] > up_lim)\n",
    "    \n",
    "            # replace all outliers spoted by NaN value\n",
    "            df[col]=df[col].mask(cond = (outliers_low | outliers_up), other = np.nan)\n",
    "            \n",
    "    return df "
   ]
  },
  {
   "cell_type": "code",
   "execution_count": 13,
   "metadata": {},
   "outputs": [
    {
     "name": "stdout",
     "output_type": "stream",
     "text": [
      "C:\\Users\\rapha\\Google Drive\\formation_DataSc\\projet7\\livrables\\OC_projet7\\data_1-2\n"
     ]
    }
   ],
   "source": [
    "# Move to the appropriate folder\n",
    "os.chdir('data_1-2')\n",
    "print(os.getcwd())"
   ]
  },
  {
   "cell_type": "markdown",
   "metadata": {},
   "source": [
    "### Application_train"
   ]
  },
  {
   "cell_type": "code",
   "execution_count": 15,
   "metadata": {},
   "outputs": [
    {
     "name": "stdout",
     "output_type": "stream",
     "text": [
      "Original Memory Usage: 0.3 gb.\n",
      "New Memory Usage: 0.11 gb.\n",
      "app_train data shape:  (307511, 122)\n"
     ]
    }
   ],
   "source": [
    "app_train = pd.read_csv(os.path.abspath('application_train.csv'))\n",
    "app_train = convert_types(app_train, print_info=True)\n",
    "print('app_train data shape: ', app_train.shape)"
   ]
  },
  {
   "cell_type": "code",
   "execution_count": 16,
   "metadata": {},
   "outputs": [
    {
     "data": {
      "text/html": [
       "<div>\n",
       "<style scoped>\n",
       "    .dataframe tbody tr th:only-of-type {\n",
       "        vertical-align: middle;\n",
       "    }\n",
       "\n",
       "    .dataframe tbody tr th {\n",
       "        vertical-align: top;\n",
       "    }\n",
       "\n",
       "    .dataframe thead th {\n",
       "        text-align: right;\n",
       "    }\n",
       "</style>\n",
       "<table border=\"1\" class=\"dataframe\">\n",
       "  <thead>\n",
       "    <tr style=\"text-align: right;\">\n",
       "      <th></th>\n",
       "      <th>SK_ID_CURR</th>\n",
       "      <th>TARGET</th>\n",
       "      <th>NAME_CONTRACT_TYPE</th>\n",
       "      <th>CODE_GENDER</th>\n",
       "      <th>FLAG_OWN_CAR</th>\n",
       "      <th>FLAG_OWN_REALTY</th>\n",
       "      <th>CNT_CHILDREN</th>\n",
       "      <th>AMT_INCOME_TOTAL</th>\n",
       "      <th>AMT_CREDIT</th>\n",
       "      <th>AMT_ANNUITY</th>\n",
       "      <th>...</th>\n",
       "      <th>FLAG_DOCUMENT_18</th>\n",
       "      <th>FLAG_DOCUMENT_19</th>\n",
       "      <th>FLAG_DOCUMENT_20</th>\n",
       "      <th>FLAG_DOCUMENT_21</th>\n",
       "      <th>AMT_REQ_CREDIT_BUREAU_HOUR</th>\n",
       "      <th>AMT_REQ_CREDIT_BUREAU_DAY</th>\n",
       "      <th>AMT_REQ_CREDIT_BUREAU_WEEK</th>\n",
       "      <th>AMT_REQ_CREDIT_BUREAU_MON</th>\n",
       "      <th>AMT_REQ_CREDIT_BUREAU_QRT</th>\n",
       "      <th>AMT_REQ_CREDIT_BUREAU_YEAR</th>\n",
       "    </tr>\n",
       "  </thead>\n",
       "  <tbody>\n",
       "    <tr>\n",
       "      <th>0</th>\n",
       "      <td>100002</td>\n",
       "      <td>True</td>\n",
       "      <td>Cash loans</td>\n",
       "      <td>M</td>\n",
       "      <td>N</td>\n",
       "      <td>Y</td>\n",
       "      <td>0</td>\n",
       "      <td>202500.0</td>\n",
       "      <td>406597.5</td>\n",
       "      <td>24700.5</td>\n",
       "      <td>...</td>\n",
       "      <td>False</td>\n",
       "      <td>False</td>\n",
       "      <td>False</td>\n",
       "      <td>False</td>\n",
       "      <td>0.0</td>\n",
       "      <td>0.0</td>\n",
       "      <td>0.0</td>\n",
       "      <td>0.0</td>\n",
       "      <td>0.0</td>\n",
       "      <td>1.0</td>\n",
       "    </tr>\n",
       "    <tr>\n",
       "      <th>1</th>\n",
       "      <td>100003</td>\n",
       "      <td>False</td>\n",
       "      <td>Cash loans</td>\n",
       "      <td>F</td>\n",
       "      <td>N</td>\n",
       "      <td>N</td>\n",
       "      <td>0</td>\n",
       "      <td>270000.0</td>\n",
       "      <td>1293502.5</td>\n",
       "      <td>35698.5</td>\n",
       "      <td>...</td>\n",
       "      <td>False</td>\n",
       "      <td>False</td>\n",
       "      <td>False</td>\n",
       "      <td>False</td>\n",
       "      <td>0.0</td>\n",
       "      <td>0.0</td>\n",
       "      <td>0.0</td>\n",
       "      <td>0.0</td>\n",
       "      <td>0.0</td>\n",
       "      <td>0.0</td>\n",
       "    </tr>\n",
       "    <tr>\n",
       "      <th>2</th>\n",
       "      <td>100004</td>\n",
       "      <td>False</td>\n",
       "      <td>Revolving loans</td>\n",
       "      <td>M</td>\n",
       "      <td>Y</td>\n",
       "      <td>Y</td>\n",
       "      <td>0</td>\n",
       "      <td>67500.0</td>\n",
       "      <td>135000.0</td>\n",
       "      <td>6750.0</td>\n",
       "      <td>...</td>\n",
       "      <td>False</td>\n",
       "      <td>False</td>\n",
       "      <td>False</td>\n",
       "      <td>False</td>\n",
       "      <td>0.0</td>\n",
       "      <td>0.0</td>\n",
       "      <td>0.0</td>\n",
       "      <td>0.0</td>\n",
       "      <td>0.0</td>\n",
       "      <td>0.0</td>\n",
       "    </tr>\n",
       "  </tbody>\n",
       "</table>\n",
       "<p>3 rows × 122 columns</p>\n",
       "</div>"
      ],
      "text/plain": [
       "   SK_ID_CURR  TARGET NAME_CONTRACT_TYPE CODE_GENDER FLAG_OWN_CAR  \\\n",
       "0      100002    True         Cash loans           M            N   \n",
       "1      100003   False         Cash loans           F            N   \n",
       "2      100004   False    Revolving loans           M            Y   \n",
       "\n",
       "  FLAG_OWN_REALTY  CNT_CHILDREN  AMT_INCOME_TOTAL  AMT_CREDIT  AMT_ANNUITY  \\\n",
       "0               Y             0          202500.0    406597.5      24700.5   \n",
       "1               N             0          270000.0   1293502.5      35698.5   \n",
       "2               Y             0           67500.0    135000.0       6750.0   \n",
       "\n",
       "   ...  FLAG_DOCUMENT_18 FLAG_DOCUMENT_19 FLAG_DOCUMENT_20 FLAG_DOCUMENT_21  \\\n",
       "0  ...             False            False            False            False   \n",
       "1  ...             False            False            False            False   \n",
       "2  ...             False            False            False            False   \n",
       "\n",
       "  AMT_REQ_CREDIT_BUREAU_HOUR AMT_REQ_CREDIT_BUREAU_DAY  \\\n",
       "0                        0.0                       0.0   \n",
       "1                        0.0                       0.0   \n",
       "2                        0.0                       0.0   \n",
       "\n",
       "   AMT_REQ_CREDIT_BUREAU_WEEK  AMT_REQ_CREDIT_BUREAU_MON  \\\n",
       "0                         0.0                        0.0   \n",
       "1                         0.0                        0.0   \n",
       "2                         0.0                        0.0   \n",
       "\n",
       "   AMT_REQ_CREDIT_BUREAU_QRT  AMT_REQ_CREDIT_BUREAU_YEAR  \n",
       "0                        0.0                         1.0  \n",
       "1                        0.0                         0.0  \n",
       "2                        0.0                         0.0  \n",
       "\n",
       "[3 rows x 122 columns]"
      ]
     },
     "execution_count": 16,
     "metadata": {},
     "output_type": "execute_result"
    }
   ],
   "source": [
    "app_train.head(3)"
   ]
  },
  {
   "cell_type": "code",
   "execution_count": 17,
   "metadata": {},
   "outputs": [
    {
     "data": {
      "text/plain": [
       "['DAYS_EMPLOYED']"
      ]
     },
     "execution_count": 17,
     "metadata": {},
     "output_type": "execute_result"
    }
   ],
   "source": [
    "spot_365243(app_train)"
   ]
  },
  {
   "cell_type": "code",
   "execution_count": 18,
   "metadata": {},
   "outputs": [],
   "source": [
    "app_train=remove_365243(app_train,['DAYS_EMPLOYED'])"
   ]
  },
  {
   "cell_type": "code",
   "execution_count": 19,
   "metadata": {},
   "outputs": [
    {
     "name": "stdout",
     "output_type": "stream",
     "text": [
      "No 365243 anomalous value in this dataframe.\n"
     ]
    }
   ],
   "source": [
    "spot_365243(app_train) # just for verification "
   ]
  },
  {
   "cell_type": "code",
   "execution_count": 20,
   "metadata": {},
   "outputs": [
    {
     "data": {
      "text/plain": [
       "['CODE_GENDER', 'ORGANIZATION_TYPE']"
      ]
     },
     "execution_count": 20,
     "metadata": {},
     "output_type": "execute_result"
    }
   ],
   "source": [
    "spot_XNA(app_train)"
   ]
  },
  {
   "cell_type": "code",
   "execution_count": 21,
   "metadata": {},
   "outputs": [],
   "source": [
    "app_train = remove_XNA(app_train, ['CODE_GENDER', 'ORGANIZATION_TYPE'])"
   ]
  },
  {
   "cell_type": "code",
   "execution_count": 22,
   "metadata": {},
   "outputs": [
    {
     "name": "stdout",
     "output_type": "stream",
     "text": [
      "No XNA string in this dataframe.\n"
     ]
    }
   ],
   "source": [
    "spot_XNA(app_train) # just for verification"
   ]
  },
  {
   "cell_type": "code",
   "execution_count": 23,
   "metadata": {},
   "outputs": [],
   "source": [
    "app_train = remove_outliers(app_train)"
   ]
  },
  {
   "cell_type": "markdown",
   "metadata": {},
   "source": [
    "### Application_test"
   ]
  },
  {
   "cell_type": "code",
   "execution_count": 24,
   "metadata": {},
   "outputs": [
    {
     "name": "stdout",
     "output_type": "stream",
     "text": [
      "Original Memory Usage: 0.05 gb.\n",
      "New Memory Usage: 0.02 gb.\n",
      "app_test data shape:  (48744, 121)\n"
     ]
    }
   ],
   "source": [
    "app_test = pd.read_csv(os.path.abspath('application_test.csv'))\n",
    "app_test = convert_types(app_test, print_info=True)\n",
    "print('app_test data shape: ', app_test.shape)"
   ]
  },
  {
   "cell_type": "code",
   "execution_count": 25,
   "metadata": {},
   "outputs": [
    {
     "data": {
      "text/html": [
       "<div>\n",
       "<style scoped>\n",
       "    .dataframe tbody tr th:only-of-type {\n",
       "        vertical-align: middle;\n",
       "    }\n",
       "\n",
       "    .dataframe tbody tr th {\n",
       "        vertical-align: top;\n",
       "    }\n",
       "\n",
       "    .dataframe thead th {\n",
       "        text-align: right;\n",
       "    }\n",
       "</style>\n",
       "<table border=\"1\" class=\"dataframe\">\n",
       "  <thead>\n",
       "    <tr style=\"text-align: right;\">\n",
       "      <th></th>\n",
       "      <th>SK_ID_CURR</th>\n",
       "      <th>NAME_CONTRACT_TYPE</th>\n",
       "      <th>CODE_GENDER</th>\n",
       "      <th>FLAG_OWN_CAR</th>\n",
       "      <th>FLAG_OWN_REALTY</th>\n",
       "      <th>CNT_CHILDREN</th>\n",
       "      <th>AMT_INCOME_TOTAL</th>\n",
       "      <th>AMT_CREDIT</th>\n",
       "      <th>AMT_ANNUITY</th>\n",
       "      <th>AMT_GOODS_PRICE</th>\n",
       "      <th>...</th>\n",
       "      <th>FLAG_DOCUMENT_18</th>\n",
       "      <th>FLAG_DOCUMENT_19</th>\n",
       "      <th>FLAG_DOCUMENT_20</th>\n",
       "      <th>FLAG_DOCUMENT_21</th>\n",
       "      <th>AMT_REQ_CREDIT_BUREAU_HOUR</th>\n",
       "      <th>AMT_REQ_CREDIT_BUREAU_DAY</th>\n",
       "      <th>AMT_REQ_CREDIT_BUREAU_WEEK</th>\n",
       "      <th>AMT_REQ_CREDIT_BUREAU_MON</th>\n",
       "      <th>AMT_REQ_CREDIT_BUREAU_QRT</th>\n",
       "      <th>AMT_REQ_CREDIT_BUREAU_YEAR</th>\n",
       "    </tr>\n",
       "  </thead>\n",
       "  <tbody>\n",
       "    <tr>\n",
       "      <th>0</th>\n",
       "      <td>100001</td>\n",
       "      <td>Cash loans</td>\n",
       "      <td>F</td>\n",
       "      <td>N</td>\n",
       "      <td>Y</td>\n",
       "      <td>0</td>\n",
       "      <td>135000.0</td>\n",
       "      <td>568800.0</td>\n",
       "      <td>20560.5</td>\n",
       "      <td>450000.0</td>\n",
       "      <td>...</td>\n",
       "      <td>False</td>\n",
       "      <td>0</td>\n",
       "      <td>0</td>\n",
       "      <td>0</td>\n",
       "      <td>0.0</td>\n",
       "      <td>0.0</td>\n",
       "      <td>0.0</td>\n",
       "      <td>0.0</td>\n",
       "      <td>0.0</td>\n",
       "      <td>0.0</td>\n",
       "    </tr>\n",
       "    <tr>\n",
       "      <th>1</th>\n",
       "      <td>100005</td>\n",
       "      <td>Cash loans</td>\n",
       "      <td>M</td>\n",
       "      <td>N</td>\n",
       "      <td>Y</td>\n",
       "      <td>0</td>\n",
       "      <td>99000.0</td>\n",
       "      <td>222768.0</td>\n",
       "      <td>17370.0</td>\n",
       "      <td>180000.0</td>\n",
       "      <td>...</td>\n",
       "      <td>False</td>\n",
       "      <td>0</td>\n",
       "      <td>0</td>\n",
       "      <td>0</td>\n",
       "      <td>0.0</td>\n",
       "      <td>0.0</td>\n",
       "      <td>0.0</td>\n",
       "      <td>0.0</td>\n",
       "      <td>0.0</td>\n",
       "      <td>3.0</td>\n",
       "    </tr>\n",
       "    <tr>\n",
       "      <th>2</th>\n",
       "      <td>100013</td>\n",
       "      <td>Cash loans</td>\n",
       "      <td>M</td>\n",
       "      <td>Y</td>\n",
       "      <td>Y</td>\n",
       "      <td>0</td>\n",
       "      <td>202500.0</td>\n",
       "      <td>663264.0</td>\n",
       "      <td>69777.0</td>\n",
       "      <td>630000.0</td>\n",
       "      <td>...</td>\n",
       "      <td>False</td>\n",
       "      <td>0</td>\n",
       "      <td>0</td>\n",
       "      <td>0</td>\n",
       "      <td>0.0</td>\n",
       "      <td>0.0</td>\n",
       "      <td>0.0</td>\n",
       "      <td>0.0</td>\n",
       "      <td>1.0</td>\n",
       "      <td>4.0</td>\n",
       "    </tr>\n",
       "  </tbody>\n",
       "</table>\n",
       "<p>3 rows × 121 columns</p>\n",
       "</div>"
      ],
      "text/plain": [
       "   SK_ID_CURR NAME_CONTRACT_TYPE CODE_GENDER FLAG_OWN_CAR FLAG_OWN_REALTY  \\\n",
       "0      100001         Cash loans           F            N               Y   \n",
       "1      100005         Cash loans           M            N               Y   \n",
       "2      100013         Cash loans           M            Y               Y   \n",
       "\n",
       "   CNT_CHILDREN  AMT_INCOME_TOTAL  AMT_CREDIT  AMT_ANNUITY  AMT_GOODS_PRICE  \\\n",
       "0             0          135000.0    568800.0      20560.5         450000.0   \n",
       "1             0           99000.0    222768.0      17370.0         180000.0   \n",
       "2             0          202500.0    663264.0      69777.0         630000.0   \n",
       "\n",
       "   ... FLAG_DOCUMENT_18 FLAG_DOCUMENT_19 FLAG_DOCUMENT_20 FLAG_DOCUMENT_21  \\\n",
       "0  ...            False                0                0                0   \n",
       "1  ...            False                0                0                0   \n",
       "2  ...            False                0                0                0   \n",
       "\n",
       "  AMT_REQ_CREDIT_BUREAU_HOUR  AMT_REQ_CREDIT_BUREAU_DAY  \\\n",
       "0                        0.0                        0.0   \n",
       "1                        0.0                        0.0   \n",
       "2                        0.0                        0.0   \n",
       "\n",
       "   AMT_REQ_CREDIT_BUREAU_WEEK  AMT_REQ_CREDIT_BUREAU_MON  \\\n",
       "0                         0.0                        0.0   \n",
       "1                         0.0                        0.0   \n",
       "2                         0.0                        0.0   \n",
       "\n",
       "   AMT_REQ_CREDIT_BUREAU_QRT  AMT_REQ_CREDIT_BUREAU_YEAR  \n",
       "0                        0.0                         0.0  \n",
       "1                        0.0                         3.0  \n",
       "2                        1.0                         4.0  \n",
       "\n",
       "[3 rows x 121 columns]"
      ]
     },
     "execution_count": 25,
     "metadata": {},
     "output_type": "execute_result"
    }
   ],
   "source": [
    "app_test.head(3)"
   ]
  },
  {
   "cell_type": "code",
   "execution_count": 26,
   "metadata": {},
   "outputs": [
    {
     "data": {
      "text/plain": [
       "['DAYS_EMPLOYED']"
      ]
     },
     "execution_count": 26,
     "metadata": {},
     "output_type": "execute_result"
    }
   ],
   "source": [
    "spot_365243(app_test)"
   ]
  },
  {
   "cell_type": "code",
   "execution_count": 27,
   "metadata": {},
   "outputs": [],
   "source": [
    "app_test=remove_365243(app_test,['DAYS_EMPLOYED'])"
   ]
  },
  {
   "cell_type": "code",
   "execution_count": 28,
   "metadata": {},
   "outputs": [
    {
     "data": {
      "text/plain": [
       "['ORGANIZATION_TYPE']"
      ]
     },
     "execution_count": 28,
     "metadata": {},
     "output_type": "execute_result"
    }
   ],
   "source": [
    "spot_XNA(app_test)"
   ]
  },
  {
   "cell_type": "code",
   "execution_count": 29,
   "metadata": {},
   "outputs": [],
   "source": [
    "app_test = remove_XNA(app_test, ['ORGANIZATION_TYPE'])"
   ]
  },
  {
   "cell_type": "code",
   "execution_count": 30,
   "metadata": {},
   "outputs": [],
   "source": [
    "app_test = remove_outliers(app_test)"
   ]
  },
  {
   "cell_type": "markdown",
   "metadata": {},
   "source": [
    "### Handling categorical data"
   ]
  },
  {
   "cell_type": "markdown",
   "metadata": {},
   "source": [
    "As well known, ML models are not designed to handle properly categorical data without an prealable numerical encoding. To avoid any bias a one-hot encoding is better (even if it dramatically increases the size of the dataset)."
   ]
  },
  {
   "cell_type": "code",
   "execution_count": 31,
   "metadata": {},
   "outputs": [],
   "source": [
    "app_train = pd.get_dummies(app_train)\n",
    "app_test = pd.get_dummies(app_test)"
   ]
  },
  {
   "cell_type": "code",
   "execution_count": 32,
   "metadata": {},
   "outputs": [
    {
     "name": "stdout",
     "output_type": "stream",
     "text": [
      "app_train database shape: (307511, 244)\n",
      "app_test database  shape: (48744, 241)\n"
     ]
    }
   ],
   "source": [
    "print('app_train database shape:',app_train.shape)\n",
    "print('app_test database  shape:',app_test.shape)"
   ]
  },
  {
   "cell_type": "markdown",
   "metadata": {},
   "source": [
    "Since we just used an one-hot encoding it's not strictly impossible that few categorical features of train dataset are not in test dataset (and vice versa). As we can see (and even if subtract the TARGET feature from the account) there are two surnumerary features in app_train compared to app_test. A good practice is to align the train and test dataset."
   ]
  },
  {
   "cell_type": "code",
   "execution_count": 33,
   "metadata": {},
   "outputs": [],
   "source": [
    "# Save the target (will be lost in aligning process)\n",
    "train_labels = app_train['TARGET']"
   ]
  },
  {
   "cell_type": "code",
   "execution_count": 34,
   "metadata": {},
   "outputs": [
    {
     "name": "stdout",
     "output_type": "stream",
     "text": [
      "app_train database shape:  (307511, 241)\n",
      "app_test database  shape:  (48744, 241)\n"
     ]
    }
   ],
   "source": [
    "# Match the columns in the dataframes\n",
    "app_train, app_test = app_train.align(app_test, join = 'inner', axis = 1)\n",
    "print('app_train database shape: ', app_train.shape)\n",
    "print('app_test database  shape: ', app_test.shape)"
   ]
  },
  {
   "cell_type": "code",
   "execution_count": 35,
   "metadata": {},
   "outputs": [],
   "source": [
    "# Restore the TARGET feature in app_train\n",
    "app_train['TARGET']=train_labels"
   ]
  },
  {
   "cell_type": "code",
   "execution_count": 36,
   "metadata": {},
   "outputs": [
    {
     "name": "stdout",
     "output_type": "stream",
     "text": [
      "Final app_train size: 0.15 Gbits\n",
      "Final app_test  size: 0.03 Gbits\n"
     ]
    }
   ],
   "source": [
    "# Memory volumes in Gbits (for information)\n",
    "print(f'Final app_train size: {return_size(app_train)} Gbits')\n",
    "print(f'Final app_test  size: {return_size(app_test)} Gbits')"
   ]
  },
  {
   "cell_type": "markdown",
   "metadata": {},
   "source": [
    "### Bureau"
   ]
  },
  {
   "cell_type": "code",
   "execution_count": 37,
   "metadata": {},
   "outputs": [
    {
     "name": "stdout",
     "output_type": "stream",
     "text": [
      "Original Memory Usage: 0.23 gb.\n",
      "New Memory Usage: 0.13 gb.\n",
      "bureau data shape:  (1716428, 17)\n"
     ]
    }
   ],
   "source": [
    "bureau = pd.read_csv(os.path.abspath('bureau.csv'))\n",
    "bureau = convert_types(bureau, print_info=True)\n",
    "print('bureau data shape: ', bureau.shape)"
   ]
  },
  {
   "cell_type": "code",
   "execution_count": 38,
   "metadata": {},
   "outputs": [
    {
     "data": {
      "text/html": [
       "<div>\n",
       "<style scoped>\n",
       "    .dataframe tbody tr th:only-of-type {\n",
       "        vertical-align: middle;\n",
       "    }\n",
       "\n",
       "    .dataframe tbody tr th {\n",
       "        vertical-align: top;\n",
       "    }\n",
       "\n",
       "    .dataframe thead th {\n",
       "        text-align: right;\n",
       "    }\n",
       "</style>\n",
       "<table border=\"1\" class=\"dataframe\">\n",
       "  <thead>\n",
       "    <tr style=\"text-align: right;\">\n",
       "      <th></th>\n",
       "      <th>SK_ID_CURR</th>\n",
       "      <th>SK_ID_BUREAU</th>\n",
       "      <th>CREDIT_ACTIVE</th>\n",
       "      <th>CREDIT_CURRENCY</th>\n",
       "      <th>DAYS_CREDIT</th>\n",
       "      <th>CREDIT_DAY_OVERDUE</th>\n",
       "      <th>DAYS_CREDIT_ENDDATE</th>\n",
       "      <th>DAYS_ENDDATE_FACT</th>\n",
       "      <th>AMT_CREDIT_MAX_OVERDUE</th>\n",
       "      <th>CNT_CREDIT_PROLONG</th>\n",
       "      <th>AMT_CREDIT_SUM</th>\n",
       "      <th>AMT_CREDIT_SUM_DEBT</th>\n",
       "      <th>AMT_CREDIT_SUM_LIMIT</th>\n",
       "      <th>AMT_CREDIT_SUM_OVERDUE</th>\n",
       "      <th>CREDIT_TYPE</th>\n",
       "      <th>DAYS_CREDIT_UPDATE</th>\n",
       "      <th>AMT_ANNUITY</th>\n",
       "    </tr>\n",
       "  </thead>\n",
       "  <tbody>\n",
       "    <tr>\n",
       "      <th>0</th>\n",
       "      <td>215354</td>\n",
       "      <td>5714462</td>\n",
       "      <td>Closed</td>\n",
       "      <td>currency 1</td>\n",
       "      <td>-497</td>\n",
       "      <td>0</td>\n",
       "      <td>-153.0</td>\n",
       "      <td>-153.0</td>\n",
       "      <td>NaN</td>\n",
       "      <td>0</td>\n",
       "      <td>91323.0</td>\n",
       "      <td>0.0</td>\n",
       "      <td>NaN</td>\n",
       "      <td>0.0</td>\n",
       "      <td>Consumer credit</td>\n",
       "      <td>-131</td>\n",
       "      <td>NaN</td>\n",
       "    </tr>\n",
       "    <tr>\n",
       "      <th>1</th>\n",
       "      <td>215354</td>\n",
       "      <td>5714463</td>\n",
       "      <td>Active</td>\n",
       "      <td>currency 1</td>\n",
       "      <td>-208</td>\n",
       "      <td>0</td>\n",
       "      <td>1075.0</td>\n",
       "      <td>NaN</td>\n",
       "      <td>NaN</td>\n",
       "      <td>0</td>\n",
       "      <td>225000.0</td>\n",
       "      <td>171342.0</td>\n",
       "      <td>NaN</td>\n",
       "      <td>0.0</td>\n",
       "      <td>Credit card</td>\n",
       "      <td>-20</td>\n",
       "      <td>NaN</td>\n",
       "    </tr>\n",
       "    <tr>\n",
       "      <th>2</th>\n",
       "      <td>215354</td>\n",
       "      <td>5714464</td>\n",
       "      <td>Active</td>\n",
       "      <td>currency 1</td>\n",
       "      <td>-203</td>\n",
       "      <td>0</td>\n",
       "      <td>528.0</td>\n",
       "      <td>NaN</td>\n",
       "      <td>NaN</td>\n",
       "      <td>0</td>\n",
       "      <td>464323.5</td>\n",
       "      <td>NaN</td>\n",
       "      <td>NaN</td>\n",
       "      <td>0.0</td>\n",
       "      <td>Consumer credit</td>\n",
       "      <td>-16</td>\n",
       "      <td>NaN</td>\n",
       "    </tr>\n",
       "  </tbody>\n",
       "</table>\n",
       "</div>"
      ],
      "text/plain": [
       "   SK_ID_CURR  SK_ID_BUREAU CREDIT_ACTIVE CREDIT_CURRENCY  DAYS_CREDIT  \\\n",
       "0      215354       5714462        Closed      currency 1         -497   \n",
       "1      215354       5714463        Active      currency 1         -208   \n",
       "2      215354       5714464        Active      currency 1         -203   \n",
       "\n",
       "   CREDIT_DAY_OVERDUE  DAYS_CREDIT_ENDDATE  DAYS_ENDDATE_FACT  \\\n",
       "0                   0               -153.0             -153.0   \n",
       "1                   0               1075.0                NaN   \n",
       "2                   0                528.0                NaN   \n",
       "\n",
       "   AMT_CREDIT_MAX_OVERDUE  CNT_CREDIT_PROLONG  AMT_CREDIT_SUM  \\\n",
       "0                     NaN                   0         91323.0   \n",
       "1                     NaN                   0        225000.0   \n",
       "2                     NaN                   0        464323.5   \n",
       "\n",
       "   AMT_CREDIT_SUM_DEBT  AMT_CREDIT_SUM_LIMIT  AMT_CREDIT_SUM_OVERDUE  \\\n",
       "0                  0.0                   NaN                     0.0   \n",
       "1             171342.0                   NaN                     0.0   \n",
       "2                  NaN                   NaN                     0.0   \n",
       "\n",
       "       CREDIT_TYPE  DAYS_CREDIT_UPDATE  AMT_ANNUITY  \n",
       "0  Consumer credit                -131          NaN  \n",
       "1      Credit card                 -20          NaN  \n",
       "2  Consumer credit                 -16          NaN  "
      ]
     },
     "execution_count": 38,
     "metadata": {},
     "output_type": "execute_result"
    }
   ],
   "source": [
    "bureau.head(3)"
   ]
  },
  {
   "cell_type": "code",
   "execution_count": 39,
   "metadata": {},
   "outputs": [
    {
     "name": "stdout",
     "output_type": "stream",
     "text": [
      "No 365243 anomalous value in this dataframe.\n"
     ]
    }
   ],
   "source": [
    "spot_365243(bureau)"
   ]
  },
  {
   "cell_type": "code",
   "execution_count": 40,
   "metadata": {},
   "outputs": [
    {
     "name": "stdout",
     "output_type": "stream",
     "text": [
      "No XNA string in this dataframe.\n"
     ]
    }
   ],
   "source": [
    "spot_XNA(bureau)"
   ]
  },
  {
   "cell_type": "code",
   "execution_count": 41,
   "metadata": {},
   "outputs": [],
   "source": [
    "bureau = remove_outliers(bureau)"
   ]
  },
  {
   "cell_type": "markdown",
   "metadata": {},
   "source": [
    "No need to encode the categorical data here, they will be encoded during the aggregation process."
   ]
  },
  {
   "cell_type": "markdown",
   "metadata": {},
   "source": [
    "### Bureau_balance"
   ]
  },
  {
   "cell_type": "code",
   "execution_count": 42,
   "metadata": {},
   "outputs": [
    {
     "name": "stdout",
     "output_type": "stream",
     "text": [
      "Original Memory Usage: 0.66 gb.\n",
      "New Memory Usage: 0.35 gb.\n",
      "bureau_balance data shape:  (27299925, 3)\n"
     ]
    }
   ],
   "source": [
    "bureau_balance = pd.read_csv(os.path.abspath('bureau_balance.csv'))\n",
    "bureau_balance = convert_types(bureau_balance, print_info=True)\n",
    "print('bureau_balance data shape: ', bureau_balance.shape)"
   ]
  },
  {
   "cell_type": "code",
   "execution_count": 43,
   "metadata": {},
   "outputs": [
    {
     "data": {
      "text/html": [
       "<div>\n",
       "<style scoped>\n",
       "    .dataframe tbody tr th:only-of-type {\n",
       "        vertical-align: middle;\n",
       "    }\n",
       "\n",
       "    .dataframe tbody tr th {\n",
       "        vertical-align: top;\n",
       "    }\n",
       "\n",
       "    .dataframe thead th {\n",
       "        text-align: right;\n",
       "    }\n",
       "</style>\n",
       "<table border=\"1\" class=\"dataframe\">\n",
       "  <thead>\n",
       "    <tr style=\"text-align: right;\">\n",
       "      <th></th>\n",
       "      <th>SK_ID_BUREAU</th>\n",
       "      <th>MONTHS_BALANCE</th>\n",
       "      <th>STATUS</th>\n",
       "    </tr>\n",
       "  </thead>\n",
       "  <tbody>\n",
       "    <tr>\n",
       "      <th>0</th>\n",
       "      <td>5715448</td>\n",
       "      <td>0</td>\n",
       "      <td>C</td>\n",
       "    </tr>\n",
       "    <tr>\n",
       "      <th>1</th>\n",
       "      <td>5715448</td>\n",
       "      <td>-1</td>\n",
       "      <td>C</td>\n",
       "    </tr>\n",
       "    <tr>\n",
       "      <th>2</th>\n",
       "      <td>5715448</td>\n",
       "      <td>-2</td>\n",
       "      <td>C</td>\n",
       "    </tr>\n",
       "  </tbody>\n",
       "</table>\n",
       "</div>"
      ],
      "text/plain": [
       "   SK_ID_BUREAU  MONTHS_BALANCE STATUS\n",
       "0       5715448               0      C\n",
       "1       5715448              -1      C\n",
       "2       5715448              -2      C"
      ]
     },
     "execution_count": 43,
     "metadata": {},
     "output_type": "execute_result"
    }
   ],
   "source": [
    "bureau_balance.head(3)"
   ]
  },
  {
   "cell_type": "code",
   "execution_count": 44,
   "metadata": {},
   "outputs": [
    {
     "name": "stdout",
     "output_type": "stream",
     "text": [
      "No 365243 anomalous value in this dataframe.\n"
     ]
    }
   ],
   "source": [
    "spot_365243(bureau_balance)"
   ]
  },
  {
   "cell_type": "code",
   "execution_count": 45,
   "metadata": {},
   "outputs": [
    {
     "name": "stdout",
     "output_type": "stream",
     "text": [
      "No XNA string in this dataframe.\n"
     ]
    }
   ],
   "source": [
    "spot_XNA(bureau_balance)"
   ]
  },
  {
   "cell_type": "code",
   "execution_count": 46,
   "metadata": {},
   "outputs": [],
   "source": [
    "bureau_balance = remove_outliers(bureau_balance)"
   ]
  },
  {
   "cell_type": "markdown",
   "metadata": {},
   "source": [
    "These two dataframes are peculiar in the whole set of data files. Unlike the other ones which already have 'SK_ID_CURR' as \"merging hold\", 'bureau_balance' doesn't have it and we need to pass through the 'SK_ID_BUREAU' feature (i.e. the identification number of the loan in the historic of the client).\n",
    "\n",
    "First we will performe the computation of several new features/statistics based on the data contained in 'bureau' and 'bureau_balance' datasets, use 'SK_ID_BUREAU' to asign the correct 'SK_ID_CURR' in 'bureau_balance' dataframe, aggregate the features for each client (a lot of rows of 'bureau' and 'bureau_balance' are related to sames clients), and finally merge these new datasets to 'train' and 'test' datasets through 'SK_ID_CURR'."
   ]
  },
  {
   "cell_type": "markdown",
   "metadata": {},
   "source": [
    "### Computation of statistics and aggregation by clients"
   ]
  },
  {
   "cell_type": "code",
   "execution_count": 47,
   "metadata": {},
   "outputs": [],
   "source": [
    "def agg_categorical(df, parent_var, df_name):\n",
    "    \"\"\"\n",
    "    Aggregates the categorical features in a child dataframe\n",
    "    for each observation of the parent variable.\n",
    "    \n",
    "    Parameters\n",
    "    --------\n",
    "    df : dataframe \n",
    "        The dataframe to calculate the value counts for.\n",
    "        \n",
    "    parent_var : string\n",
    "        The variable by which to group and aggregate the dataframe. For each unique\n",
    "        value of this variable, the final dataframe will have one row.\n",
    "        \n",
    "    df_name : string\n",
    "        Variable added to the front of column names to keep track of columns.\n",
    "    \n",
    "    Return\n",
    "    --------\n",
    "    categorical : dataframe\n",
    "        A dataframe with aggregated statistics for each observation of the parent_var\n",
    "        The columns are also renamed and columns with duplicate values are removed.\n",
    "        \n",
    "    \"\"\"\n",
    "    \n",
    "    # Select the categorical columns and apply a one-hot encoding\n",
    "    categorical = pd.get_dummies(df.select_dtypes('category'))\n",
    "\n",
    "    # Make sure to put the identifying id on the column\n",
    "    categorical[parent_var] = df[parent_var]\n",
    "\n",
    "    # Groupby the group var and calculate the sum and mean\n",
    "    categorical = categorical.groupby(parent_var).agg(['sum', 'count', 'mean'])\n",
    "    \n",
    "    column_names = []\n",
    "    \n",
    "    # Iterate through the columns in level 0\n",
    "    for var in categorical.columns.levels[0]:\n",
    "        # Iterate through the stats in level 1\n",
    "        for stat in ['sum', 'count', 'mean']:\n",
    "            # Make a new column name\n",
    "            column_names.append('%s_%s_%s' % (df_name, var, stat))\n",
    "    \n",
    "    categorical.columns = column_names\n",
    "    \n",
    "    # Remove duplicate columns by values\n",
    "    _, idx = np.unique(categorical, axis = 1, return_index = True)\n",
    "    categorical = categorical.iloc[:, idx]\n",
    "    \n",
    "    return categorical"
   ]
  },
  {
   "cell_type": "code",
   "execution_count": 48,
   "metadata": {},
   "outputs": [],
   "source": [
    "def agg_numeric(df, parent_var, df_name):\n",
    "    \"\"\"\n",
    "    Groups and aggregates the numeric values in a child dataframe\n",
    "    by the parent variable.\n",
    "    \n",
    "    Parameters\n",
    "    --------\n",
    "        df (dataframe): \n",
    "            The child dataframe to calculate the statistics on.\n",
    "            \n",
    "        parent_var (string): \n",
    "            The parent variable used for grouping and aggregating.\n",
    "            \n",
    "        df_name (string): \n",
    "            The variable used to rename the columns.\n",
    "        \n",
    "    Return\n",
    "    --------\n",
    "        agg (dataframe): \n",
    "            A dataframe with the statistics aggregated by the `parent_var` for \n",
    "            all numeric columns. Each observation of the parent variable will have \n",
    "            one row in the dataframe with the parent variable as the index. \n",
    "            The columns are also renamed using the `df_name`. Columns with all duplicate\n",
    "            values are removed. \n",
    "    \n",
    "    \"\"\"\n",
    "    \n",
    "    # Remove id variables other than grouping variable\n",
    "    for col in df:\n",
    "        if col != parent_var and 'SK_ID' in col:\n",
    "            df = df.drop(columns = col)\n",
    "            \n",
    "    # Only want the numeric variables\n",
    "    parent_ids = df[parent_var].copy()\n",
    "    numeric_df = df.select_dtypes('number').copy()\n",
    "    numeric_df[parent_var] = parent_ids\n",
    "\n",
    "    # Group by the specified variable and calculate the statistics\n",
    "    agg = numeric_df.groupby(parent_var).agg(['count', 'mean', 'max', 'min', 'sum'])\n",
    "\n",
    "    # Need to create new column names\n",
    "    columns = []\n",
    "\n",
    "    # Iterate through the variables names\n",
    "    for var in agg.columns.levels[0]:\n",
    "        if var != parent_var:\n",
    "            # Iterate through the stat names\n",
    "            for stat in agg.columns.levels[1]:\n",
    "                # Make a new column name for the variable and stat\n",
    "                columns.append('%s_%s_%s' % (df_name, var, stat))\n",
    "    \n",
    "    agg.columns = columns\n",
    "    \n",
    "    # Remove the columns with all redundant values\n",
    "    _, idx = np.unique(agg, axis = 1, return_index=True)\n",
    "    agg = agg.iloc[:, idx]\n",
    "    \n",
    "    return agg"
   ]
  },
  {
   "cell_type": "markdown",
   "metadata": {},
   "source": [
    "#### Bureau"
   ]
  },
  {
   "cell_type": "code",
   "execution_count": 49,
   "metadata": {},
   "outputs": [
    {
     "data": {
      "text/html": [
       "<div>\n",
       "<style scoped>\n",
       "    .dataframe tbody tr th:only-of-type {\n",
       "        vertical-align: middle;\n",
       "    }\n",
       "\n",
       "    .dataframe tbody tr th {\n",
       "        vertical-align: top;\n",
       "    }\n",
       "\n",
       "    .dataframe thead th {\n",
       "        text-align: right;\n",
       "    }\n",
       "</style>\n",
       "<table border=\"1\" class=\"dataframe\">\n",
       "  <thead>\n",
       "    <tr style=\"text-align: right;\">\n",
       "      <th></th>\n",
       "      <th>bureau_CREDIT_TYPE_Mobile operator loan_mean</th>\n",
       "      <th>bureau_CREDIT_TYPE_Mobile operator loan_sum</th>\n",
       "      <th>bureau_CREDIT_TYPE_Loan for purchase of shares (margin lending)_mean</th>\n",
       "      <th>bureau_CREDIT_TYPE_Loan for purchase of shares (margin lending)_sum</th>\n",
       "      <th>bureau_CREDIT_ACTIVE_Bad debt_mean</th>\n",
       "      <th>bureau_CREDIT_ACTIVE_Bad debt_sum</th>\n",
       "      <th>bureau_CREDIT_TYPE_Interbank credit_mean</th>\n",
       "      <th>bureau_CREDIT_TYPE_Interbank credit_sum</th>\n",
       "      <th>bureau_CREDIT_TYPE_Real estate loan_mean</th>\n",
       "      <th>bureau_CREDIT_TYPE_Real estate loan_sum</th>\n",
       "      <th>...</th>\n",
       "      <th>bureau_CREDIT_TYPE_Credit card_sum</th>\n",
       "      <th>bureau_CREDIT_ACTIVE_Active_mean</th>\n",
       "      <th>bureau_CREDIT_ACTIVE_Closed_mean</th>\n",
       "      <th>bureau_CREDIT_TYPE_Consumer credit_mean</th>\n",
       "      <th>bureau_CREDIT_CURRENCY_currency 1_mean</th>\n",
       "      <th>bureau_CREDIT_ACTIVE_Active_sum</th>\n",
       "      <th>bureau_CREDIT_ACTIVE_Closed_sum</th>\n",
       "      <th>bureau_CREDIT_TYPE_Consumer credit_sum</th>\n",
       "      <th>bureau_CREDIT_CURRENCY_currency 1_sum</th>\n",
       "      <th>bureau_CREDIT_ACTIVE_Active_count</th>\n",
       "    </tr>\n",
       "    <tr>\n",
       "      <th>SK_ID_CURR</th>\n",
       "      <th></th>\n",
       "      <th></th>\n",
       "      <th></th>\n",
       "      <th></th>\n",
       "      <th></th>\n",
       "      <th></th>\n",
       "      <th></th>\n",
       "      <th></th>\n",
       "      <th></th>\n",
       "      <th></th>\n",
       "      <th></th>\n",
       "      <th></th>\n",
       "      <th></th>\n",
       "      <th></th>\n",
       "      <th></th>\n",
       "      <th></th>\n",
       "      <th></th>\n",
       "      <th></th>\n",
       "      <th></th>\n",
       "      <th></th>\n",
       "      <th></th>\n",
       "    </tr>\n",
       "  </thead>\n",
       "  <tbody>\n",
       "    <tr>\n",
       "      <th>100001</th>\n",
       "      <td>0.0</td>\n",
       "      <td>0</td>\n",
       "      <td>0.0</td>\n",
       "      <td>0</td>\n",
       "      <td>0.0</td>\n",
       "      <td>0</td>\n",
       "      <td>0.0</td>\n",
       "      <td>0</td>\n",
       "      <td>0.0</td>\n",
       "      <td>0</td>\n",
       "      <td>...</td>\n",
       "      <td>0</td>\n",
       "      <td>0.428571</td>\n",
       "      <td>0.571429</td>\n",
       "      <td>1.0</td>\n",
       "      <td>1.0</td>\n",
       "      <td>3</td>\n",
       "      <td>4</td>\n",
       "      <td>7</td>\n",
       "      <td>7</td>\n",
       "      <td>7</td>\n",
       "    </tr>\n",
       "    <tr>\n",
       "      <th>100002</th>\n",
       "      <td>0.0</td>\n",
       "      <td>0</td>\n",
       "      <td>0.0</td>\n",
       "      <td>0</td>\n",
       "      <td>0.0</td>\n",
       "      <td>0</td>\n",
       "      <td>0.0</td>\n",
       "      <td>0</td>\n",
       "      <td>0.0</td>\n",
       "      <td>0</td>\n",
       "      <td>...</td>\n",
       "      <td>4</td>\n",
       "      <td>0.250000</td>\n",
       "      <td>0.750000</td>\n",
       "      <td>0.5</td>\n",
       "      <td>1.0</td>\n",
       "      <td>2</td>\n",
       "      <td>6</td>\n",
       "      <td>4</td>\n",
       "      <td>8</td>\n",
       "      <td>8</td>\n",
       "    </tr>\n",
       "    <tr>\n",
       "      <th>100003</th>\n",
       "      <td>0.0</td>\n",
       "      <td>0</td>\n",
       "      <td>0.0</td>\n",
       "      <td>0</td>\n",
       "      <td>0.0</td>\n",
       "      <td>0</td>\n",
       "      <td>0.0</td>\n",
       "      <td>0</td>\n",
       "      <td>0.0</td>\n",
       "      <td>0</td>\n",
       "      <td>...</td>\n",
       "      <td>2</td>\n",
       "      <td>0.250000</td>\n",
       "      <td>0.750000</td>\n",
       "      <td>0.5</td>\n",
       "      <td>1.0</td>\n",
       "      <td>1</td>\n",
       "      <td>3</td>\n",
       "      <td>2</td>\n",
       "      <td>4</td>\n",
       "      <td>4</td>\n",
       "    </tr>\n",
       "  </tbody>\n",
       "</table>\n",
       "<p>3 rows × 47 columns</p>\n",
       "</div>"
      ],
      "text/plain": [
       "            bureau_CREDIT_TYPE_Mobile operator loan_mean  \\\n",
       "SK_ID_CURR                                                 \n",
       "100001                                               0.0   \n",
       "100002                                               0.0   \n",
       "100003                                               0.0   \n",
       "\n",
       "            bureau_CREDIT_TYPE_Mobile operator loan_sum  \\\n",
       "SK_ID_CURR                                                \n",
       "100001                                                0   \n",
       "100002                                                0   \n",
       "100003                                                0   \n",
       "\n",
       "            bureau_CREDIT_TYPE_Loan for purchase of shares (margin lending)_mean  \\\n",
       "SK_ID_CURR                                                                         \n",
       "100001                                                    0.0                      \n",
       "100002                                                    0.0                      \n",
       "100003                                                    0.0                      \n",
       "\n",
       "            bureau_CREDIT_TYPE_Loan for purchase of shares (margin lending)_sum  \\\n",
       "SK_ID_CURR                                                                        \n",
       "100001                                                      0                     \n",
       "100002                                                      0                     \n",
       "100003                                                      0                     \n",
       "\n",
       "            bureau_CREDIT_ACTIVE_Bad debt_mean  \\\n",
       "SK_ID_CURR                                       \n",
       "100001                                     0.0   \n",
       "100002                                     0.0   \n",
       "100003                                     0.0   \n",
       "\n",
       "            bureau_CREDIT_ACTIVE_Bad debt_sum  \\\n",
       "SK_ID_CURR                                      \n",
       "100001                                      0   \n",
       "100002                                      0   \n",
       "100003                                      0   \n",
       "\n",
       "            bureau_CREDIT_TYPE_Interbank credit_mean  \\\n",
       "SK_ID_CURR                                             \n",
       "100001                                           0.0   \n",
       "100002                                           0.0   \n",
       "100003                                           0.0   \n",
       "\n",
       "            bureau_CREDIT_TYPE_Interbank credit_sum  \\\n",
       "SK_ID_CURR                                            \n",
       "100001                                            0   \n",
       "100002                                            0   \n",
       "100003                                            0   \n",
       "\n",
       "            bureau_CREDIT_TYPE_Real estate loan_mean  \\\n",
       "SK_ID_CURR                                             \n",
       "100001                                           0.0   \n",
       "100002                                           0.0   \n",
       "100003                                           0.0   \n",
       "\n",
       "            bureau_CREDIT_TYPE_Real estate loan_sum  ...  \\\n",
       "SK_ID_CURR                                           ...   \n",
       "100001                                            0  ...   \n",
       "100002                                            0  ...   \n",
       "100003                                            0  ...   \n",
       "\n",
       "            bureau_CREDIT_TYPE_Credit card_sum  \\\n",
       "SK_ID_CURR                                       \n",
       "100001                                       0   \n",
       "100002                                       4   \n",
       "100003                                       2   \n",
       "\n",
       "            bureau_CREDIT_ACTIVE_Active_mean  \\\n",
       "SK_ID_CURR                                     \n",
       "100001                              0.428571   \n",
       "100002                              0.250000   \n",
       "100003                              0.250000   \n",
       "\n",
       "            bureau_CREDIT_ACTIVE_Closed_mean  \\\n",
       "SK_ID_CURR                                     \n",
       "100001                              0.571429   \n",
       "100002                              0.750000   \n",
       "100003                              0.750000   \n",
       "\n",
       "            bureau_CREDIT_TYPE_Consumer credit_mean  \\\n",
       "SK_ID_CURR                                            \n",
       "100001                                          1.0   \n",
       "100002                                          0.5   \n",
       "100003                                          0.5   \n",
       "\n",
       "            bureau_CREDIT_CURRENCY_currency 1_mean  \\\n",
       "SK_ID_CURR                                           \n",
       "100001                                         1.0   \n",
       "100002                                         1.0   \n",
       "100003                                         1.0   \n",
       "\n",
       "            bureau_CREDIT_ACTIVE_Active_sum  bureau_CREDIT_ACTIVE_Closed_sum  \\\n",
       "SK_ID_CURR                                                                     \n",
       "100001                                    3                                4   \n",
       "100002                                    2                                6   \n",
       "100003                                    1                                3   \n",
       "\n",
       "            bureau_CREDIT_TYPE_Consumer credit_sum  \\\n",
       "SK_ID_CURR                                           \n",
       "100001                                           7   \n",
       "100002                                           4   \n",
       "100003                                           2   \n",
       "\n",
       "            bureau_CREDIT_CURRENCY_currency 1_sum  \\\n",
       "SK_ID_CURR                                          \n",
       "100001                                          7   \n",
       "100002                                          8   \n",
       "100003                                          4   \n",
       "\n",
       "            bureau_CREDIT_ACTIVE_Active_count  \n",
       "SK_ID_CURR                                     \n",
       "100001                                      7  \n",
       "100002                                      8  \n",
       "100003                                      4  \n",
       "\n",
       "[3 rows x 47 columns]"
      ]
     },
     "execution_count": 49,
     "metadata": {},
     "output_type": "execute_result"
    }
   ],
   "source": [
    "# Value counts of 'bureau' dataframe by client\n",
    "bureau_counts = agg_categorical(bureau, parent_var = 'SK_ID_CURR', df_name = 'bureau')\n",
    "bureau_counts.head(3)"
   ]
  },
  {
   "cell_type": "code",
   "execution_count": 50,
   "metadata": {},
   "outputs": [
    {
     "data": {
      "text/html": [
       "<div>\n",
       "<style scoped>\n",
       "    .dataframe tbody tr th:only-of-type {\n",
       "        vertical-align: middle;\n",
       "    }\n",
       "\n",
       "    .dataframe tbody tr th {\n",
       "        vertical-align: top;\n",
       "    }\n",
       "\n",
       "    .dataframe thead th {\n",
       "        text-align: right;\n",
       "    }\n",
       "</style>\n",
       "<table border=\"1\" class=\"dataframe\">\n",
       "  <thead>\n",
       "    <tr style=\"text-align: right;\">\n",
       "      <th></th>\n",
       "      <th>bureau_DAYS_CREDIT_sum</th>\n",
       "      <th>bureau_DAYS_ENDDATE_FACT_sum</th>\n",
       "      <th>bureau_DAYS_CREDIT_min</th>\n",
       "      <th>bureau_DAYS_CREDIT_ENDDATE_min</th>\n",
       "      <th>bureau_DAYS_ENDDATE_FACT_min</th>\n",
       "      <th>bureau_DAYS_ENDDATE_FACT_mean</th>\n",
       "      <th>bureau_DAYS_CREDIT_mean</th>\n",
       "      <th>bureau_DAYS_CREDIT_UPDATE_sum</th>\n",
       "      <th>bureau_DAYS_ENDDATE_FACT_max</th>\n",
       "      <th>bureau_DAYS_CREDIT_UPDATE_min</th>\n",
       "      <th>...</th>\n",
       "      <th>bureau_AMT_CREDIT_SUM_DEBT_mean</th>\n",
       "      <th>bureau_AMT_CREDIT_SUM_min</th>\n",
       "      <th>bureau_AMT_CREDIT_SUM_DEBT_max</th>\n",
       "      <th>bureau_AMT_CREDIT_SUM_mean</th>\n",
       "      <th>bureau_AMT_CREDIT_SUM_DEBT_sum</th>\n",
       "      <th>bureau_AMT_CREDIT_SUM_max</th>\n",
       "      <th>bureau_AMT_CREDIT_SUM_sum</th>\n",
       "      <th>bureau_AMT_CREDIT_MAX_OVERDUE_min</th>\n",
       "      <th>bureau_AMT_CREDIT_MAX_OVERDUE_mean</th>\n",
       "      <th>bureau_AMT_CREDIT_MAX_OVERDUE_max</th>\n",
       "    </tr>\n",
       "    <tr>\n",
       "      <th>SK_ID_CURR</th>\n",
       "      <th></th>\n",
       "      <th></th>\n",
       "      <th></th>\n",
       "      <th></th>\n",
       "      <th></th>\n",
       "      <th></th>\n",
       "      <th></th>\n",
       "      <th></th>\n",
       "      <th></th>\n",
       "      <th></th>\n",
       "      <th></th>\n",
       "      <th></th>\n",
       "      <th></th>\n",
       "      <th></th>\n",
       "      <th></th>\n",
       "      <th></th>\n",
       "      <th></th>\n",
       "      <th></th>\n",
       "      <th></th>\n",
       "      <th></th>\n",
       "      <th></th>\n",
       "    </tr>\n",
       "  </thead>\n",
       "  <tbody>\n",
       "    <tr>\n",
       "      <th>100001</th>\n",
       "      <td>-5145</td>\n",
       "      <td>-3302.0</td>\n",
       "      <td>-1572</td>\n",
       "      <td>-1329.0</td>\n",
       "      <td>-1328.0</td>\n",
       "      <td>-825.500000</td>\n",
       "      <td>-735.00</td>\n",
       "      <td>-652.0</td>\n",
       "      <td>-544.0</td>\n",
       "      <td>-155.0</td>\n",
       "      <td>...</td>\n",
       "      <td>37241.250000</td>\n",
       "      <td>85500.0</td>\n",
       "      <td>113166.0</td>\n",
       "      <td>207623.578125</td>\n",
       "      <td>223447.5</td>\n",
       "      <td>378000.0</td>\n",
       "      <td>1.453365e+06</td>\n",
       "      <td>NaN</td>\n",
       "      <td>NaN</td>\n",
       "      <td>NaN</td>\n",
       "    </tr>\n",
       "    <tr>\n",
       "      <th>100002</th>\n",
       "      <td>-6992</td>\n",
       "      <td>-4185.0</td>\n",
       "      <td>-1437</td>\n",
       "      <td>-1072.0</td>\n",
       "      <td>-1185.0</td>\n",
       "      <td>-697.500000</td>\n",
       "      <td>-874.00</td>\n",
       "      <td>-3999.0</td>\n",
       "      <td>-36.0</td>\n",
       "      <td>-1185.0</td>\n",
       "      <td>...</td>\n",
       "      <td>49156.199219</td>\n",
       "      <td>0.0</td>\n",
       "      <td>245781.0</td>\n",
       "      <td>108131.945312</td>\n",
       "      <td>245781.0</td>\n",
       "      <td>450000.0</td>\n",
       "      <td>8.650556e+05</td>\n",
       "      <td>0.0</td>\n",
       "      <td>13.5</td>\n",
       "      <td>40.5</td>\n",
       "    </tr>\n",
       "    <tr>\n",
       "      <th>100003</th>\n",
       "      <td>-5603</td>\n",
       "      <td>-3292.0</td>\n",
       "      <td>-2586</td>\n",
       "      <td>-2434.0</td>\n",
       "      <td>-2131.0</td>\n",
       "      <td>-1097.333374</td>\n",
       "      <td>-1400.75</td>\n",
       "      <td>-3264.0</td>\n",
       "      <td>-540.0</td>\n",
       "      <td>-2131.0</td>\n",
       "      <td>...</td>\n",
       "      <td>0.000000</td>\n",
       "      <td>22248.0</td>\n",
       "      <td>0.0</td>\n",
       "      <td>254350.125000</td>\n",
       "      <td>0.0</td>\n",
       "      <td>810000.0</td>\n",
       "      <td>1.017400e+06</td>\n",
       "      <td>0.0</td>\n",
       "      <td>0.0</td>\n",
       "      <td>0.0</td>\n",
       "    </tr>\n",
       "  </tbody>\n",
       "</table>\n",
       "<p>3 rows × 57 columns</p>\n",
       "</div>"
      ],
      "text/plain": [
       "            bureau_DAYS_CREDIT_sum  bureau_DAYS_ENDDATE_FACT_sum  \\\n",
       "SK_ID_CURR                                                         \n",
       "100001                       -5145                       -3302.0   \n",
       "100002                       -6992                       -4185.0   \n",
       "100003                       -5603                       -3292.0   \n",
       "\n",
       "            bureau_DAYS_CREDIT_min  bureau_DAYS_CREDIT_ENDDATE_min  \\\n",
       "SK_ID_CURR                                                           \n",
       "100001                       -1572                         -1329.0   \n",
       "100002                       -1437                         -1072.0   \n",
       "100003                       -2586                         -2434.0   \n",
       "\n",
       "            bureau_DAYS_ENDDATE_FACT_min  bureau_DAYS_ENDDATE_FACT_mean  \\\n",
       "SK_ID_CURR                                                                \n",
       "100001                           -1328.0                    -825.500000   \n",
       "100002                           -1185.0                    -697.500000   \n",
       "100003                           -2131.0                   -1097.333374   \n",
       "\n",
       "            bureau_DAYS_CREDIT_mean  bureau_DAYS_CREDIT_UPDATE_sum  \\\n",
       "SK_ID_CURR                                                           \n",
       "100001                      -735.00                         -652.0   \n",
       "100002                      -874.00                        -3999.0   \n",
       "100003                     -1400.75                        -3264.0   \n",
       "\n",
       "            bureau_DAYS_ENDDATE_FACT_max  bureau_DAYS_CREDIT_UPDATE_min  ...  \\\n",
       "SK_ID_CURR                                                               ...   \n",
       "100001                            -544.0                         -155.0  ...   \n",
       "100002                             -36.0                        -1185.0  ...   \n",
       "100003                            -540.0                        -2131.0  ...   \n",
       "\n",
       "            bureau_AMT_CREDIT_SUM_DEBT_mean  bureau_AMT_CREDIT_SUM_min  \\\n",
       "SK_ID_CURR                                                               \n",
       "100001                         37241.250000                    85500.0   \n",
       "100002                         49156.199219                        0.0   \n",
       "100003                             0.000000                    22248.0   \n",
       "\n",
       "            bureau_AMT_CREDIT_SUM_DEBT_max  bureau_AMT_CREDIT_SUM_mean  \\\n",
       "SK_ID_CURR                                                               \n",
       "100001                            113166.0               207623.578125   \n",
       "100002                            245781.0               108131.945312   \n",
       "100003                                 0.0               254350.125000   \n",
       "\n",
       "            bureau_AMT_CREDIT_SUM_DEBT_sum  bureau_AMT_CREDIT_SUM_max  \\\n",
       "SK_ID_CURR                                                              \n",
       "100001                            223447.5                   378000.0   \n",
       "100002                            245781.0                   450000.0   \n",
       "100003                                 0.0                   810000.0   \n",
       "\n",
       "            bureau_AMT_CREDIT_SUM_sum  bureau_AMT_CREDIT_MAX_OVERDUE_min  \\\n",
       "SK_ID_CURR                                                                 \n",
       "100001                   1.453365e+06                                NaN   \n",
       "100002                   8.650556e+05                                0.0   \n",
       "100003                   1.017400e+06                                0.0   \n",
       "\n",
       "            bureau_AMT_CREDIT_MAX_OVERDUE_mean  \\\n",
       "SK_ID_CURR                                       \n",
       "100001                                     NaN   \n",
       "100002                                    13.5   \n",
       "100003                                     0.0   \n",
       "\n",
       "            bureau_AMT_CREDIT_MAX_OVERDUE_max  \n",
       "SK_ID_CURR                                     \n",
       "100001                                    NaN  \n",
       "100002                                   40.5  \n",
       "100003                                    0.0  \n",
       "\n",
       "[3 rows x 57 columns]"
      ]
     },
     "execution_count": 50,
     "metadata": {},
     "output_type": "execute_result"
    }
   ],
   "source": [
    "# Aggregated Stats of 'bureau' dataframe by client\n",
    "bureau_agg = agg_numeric(bureau.drop(columns = ['SK_ID_BUREAU']), parent_var = 'SK_ID_CURR', df_name = 'bureau')\n",
    "bureau_agg.head(3)"
   ]
  },
  {
   "cell_type": "code",
   "execution_count": 51,
   "metadata": {},
   "outputs": [],
   "source": [
    "### Final merge for bureau_counts and bureau_agg dataframes\n",
    "bureau_by_client = bureau_counts.merge(bureau_agg, on = 'SK_ID_CURR', how = 'left')"
   ]
  },
  {
   "cell_type": "markdown",
   "metadata": {},
   "source": [
    "#### Bureau_balance"
   ]
  },
  {
   "cell_type": "code",
   "execution_count": 52,
   "metadata": {},
   "outputs": [
    {
     "data": {
      "text/html": [
       "<div>\n",
       "<style scoped>\n",
       "    .dataframe tbody tr th:only-of-type {\n",
       "        vertical-align: middle;\n",
       "    }\n",
       "\n",
       "    .dataframe tbody tr th {\n",
       "        vertical-align: top;\n",
       "    }\n",
       "\n",
       "    .dataframe thead th {\n",
       "        text-align: right;\n",
       "    }\n",
       "</style>\n",
       "<table border=\"1\" class=\"dataframe\">\n",
       "  <thead>\n",
       "    <tr style=\"text-align: right;\">\n",
       "      <th></th>\n",
       "      <th>bureau_balance_STATUS_4_mean</th>\n",
       "      <th>bureau_balance_STATUS_3_mean</th>\n",
       "      <th>bureau_balance_STATUS_2_mean</th>\n",
       "      <th>bureau_balance_STATUS_5_mean</th>\n",
       "      <th>bureau_balance_STATUS_4_sum</th>\n",
       "      <th>bureau_balance_STATUS_3_sum</th>\n",
       "      <th>bureau_balance_STATUS_2_sum</th>\n",
       "      <th>bureau_balance_STATUS_5_sum</th>\n",
       "      <th>bureau_balance_STATUS_1_mean</th>\n",
       "      <th>bureau_balance_STATUS_1_sum</th>\n",
       "      <th>bureau_balance_STATUS_0_mean</th>\n",
       "      <th>bureau_balance_STATUS_0_sum</th>\n",
       "      <th>bureau_balance_STATUS_X_mean</th>\n",
       "      <th>bureau_balance_STATUS_C_mean</th>\n",
       "      <th>bureau_balance_STATUS_X_sum</th>\n",
       "      <th>bureau_balance_STATUS_C_sum</th>\n",
       "      <th>bureau_balance_STATUS_0_count</th>\n",
       "    </tr>\n",
       "    <tr>\n",
       "      <th>SK_ID_BUREAU</th>\n",
       "      <th></th>\n",
       "      <th></th>\n",
       "      <th></th>\n",
       "      <th></th>\n",
       "      <th></th>\n",
       "      <th></th>\n",
       "      <th></th>\n",
       "      <th></th>\n",
       "      <th></th>\n",
       "      <th></th>\n",
       "      <th></th>\n",
       "      <th></th>\n",
       "      <th></th>\n",
       "      <th></th>\n",
       "      <th></th>\n",
       "      <th></th>\n",
       "      <th></th>\n",
       "    </tr>\n",
       "  </thead>\n",
       "  <tbody>\n",
       "    <tr>\n",
       "      <th>5001709</th>\n",
       "      <td>0.0</td>\n",
       "      <td>0.0</td>\n",
       "      <td>0.0</td>\n",
       "      <td>0.0</td>\n",
       "      <td>0</td>\n",
       "      <td>0</td>\n",
       "      <td>0</td>\n",
       "      <td>0</td>\n",
       "      <td>0.0</td>\n",
       "      <td>0</td>\n",
       "      <td>0.000000</td>\n",
       "      <td>0</td>\n",
       "      <td>0.113402</td>\n",
       "      <td>0.886598</td>\n",
       "      <td>11</td>\n",
       "      <td>86</td>\n",
       "      <td>97</td>\n",
       "    </tr>\n",
       "    <tr>\n",
       "      <th>5001710</th>\n",
       "      <td>0.0</td>\n",
       "      <td>0.0</td>\n",
       "      <td>0.0</td>\n",
       "      <td>0.0</td>\n",
       "      <td>0</td>\n",
       "      <td>0</td>\n",
       "      <td>0</td>\n",
       "      <td>0</td>\n",
       "      <td>0.0</td>\n",
       "      <td>0</td>\n",
       "      <td>0.060241</td>\n",
       "      <td>5</td>\n",
       "      <td>0.361446</td>\n",
       "      <td>0.578313</td>\n",
       "      <td>30</td>\n",
       "      <td>48</td>\n",
       "      <td>83</td>\n",
       "    </tr>\n",
       "    <tr>\n",
       "      <th>5001711</th>\n",
       "      <td>0.0</td>\n",
       "      <td>0.0</td>\n",
       "      <td>0.0</td>\n",
       "      <td>0.0</td>\n",
       "      <td>0</td>\n",
       "      <td>0</td>\n",
       "      <td>0</td>\n",
       "      <td>0</td>\n",
       "      <td>0.0</td>\n",
       "      <td>0</td>\n",
       "      <td>0.750000</td>\n",
       "      <td>3</td>\n",
       "      <td>0.250000</td>\n",
       "      <td>0.000000</td>\n",
       "      <td>1</td>\n",
       "      <td>0</td>\n",
       "      <td>4</td>\n",
       "    </tr>\n",
       "  </tbody>\n",
       "</table>\n",
       "</div>"
      ],
      "text/plain": [
       "              bureau_balance_STATUS_4_mean  bureau_balance_STATUS_3_mean  \\\n",
       "SK_ID_BUREAU                                                               \n",
       "5001709                                0.0                           0.0   \n",
       "5001710                                0.0                           0.0   \n",
       "5001711                                0.0                           0.0   \n",
       "\n",
       "              bureau_balance_STATUS_2_mean  bureau_balance_STATUS_5_mean  \\\n",
       "SK_ID_BUREAU                                                               \n",
       "5001709                                0.0                           0.0   \n",
       "5001710                                0.0                           0.0   \n",
       "5001711                                0.0                           0.0   \n",
       "\n",
       "              bureau_balance_STATUS_4_sum  bureau_balance_STATUS_3_sum  \\\n",
       "SK_ID_BUREAU                                                             \n",
       "5001709                                 0                            0   \n",
       "5001710                                 0                            0   \n",
       "5001711                                 0                            0   \n",
       "\n",
       "              bureau_balance_STATUS_2_sum  bureau_balance_STATUS_5_sum  \\\n",
       "SK_ID_BUREAU                                                             \n",
       "5001709                                 0                            0   \n",
       "5001710                                 0                            0   \n",
       "5001711                                 0                            0   \n",
       "\n",
       "              bureau_balance_STATUS_1_mean  bureau_balance_STATUS_1_sum  \\\n",
       "SK_ID_BUREAU                                                              \n",
       "5001709                                0.0                            0   \n",
       "5001710                                0.0                            0   \n",
       "5001711                                0.0                            0   \n",
       "\n",
       "              bureau_balance_STATUS_0_mean  bureau_balance_STATUS_0_sum  \\\n",
       "SK_ID_BUREAU                                                              \n",
       "5001709                           0.000000                            0   \n",
       "5001710                           0.060241                            5   \n",
       "5001711                           0.750000                            3   \n",
       "\n",
       "              bureau_balance_STATUS_X_mean  bureau_balance_STATUS_C_mean  \\\n",
       "SK_ID_BUREAU                                                               \n",
       "5001709                           0.113402                      0.886598   \n",
       "5001710                           0.361446                      0.578313   \n",
       "5001711                           0.250000                      0.000000   \n",
       "\n",
       "              bureau_balance_STATUS_X_sum  bureau_balance_STATUS_C_sum  \\\n",
       "SK_ID_BUREAU                                                             \n",
       "5001709                                11                           86   \n",
       "5001710                                30                           48   \n",
       "5001711                                 1                            0   \n",
       "\n",
       "              bureau_balance_STATUS_0_count  \n",
       "SK_ID_BUREAU                                 \n",
       "5001709                                  97  \n",
       "5001710                                  83  \n",
       "5001711                                   4  "
      ]
     },
     "execution_count": 52,
     "metadata": {},
     "output_type": "execute_result"
    }
   ],
   "source": [
    "# Value counts of 'bureau_balance' dataframe by loan\n",
    "bureau_balance_counts = agg_categorical(bureau_balance, parent_var = 'SK_ID_BUREAU', df_name = 'bureau_balance')\n",
    "bureau_balance_counts.head(3)"
   ]
  },
  {
   "cell_type": "code",
   "execution_count": 53,
   "metadata": {},
   "outputs": [
    {
     "data": {
      "text/html": [
       "<div>\n",
       "<style scoped>\n",
       "    .dataframe tbody tr th:only-of-type {\n",
       "        vertical-align: middle;\n",
       "    }\n",
       "\n",
       "    .dataframe tbody tr th {\n",
       "        vertical-align: top;\n",
       "    }\n",
       "\n",
       "    .dataframe thead th {\n",
       "        text-align: right;\n",
       "    }\n",
       "</style>\n",
       "<table border=\"1\" class=\"dataframe\">\n",
       "  <thead>\n",
       "    <tr style=\"text-align: right;\">\n",
       "      <th></th>\n",
       "      <th>bureau_balance_MONTHS_BALANCE_sum</th>\n",
       "      <th>bureau_balance_MONTHS_BALANCE_min</th>\n",
       "      <th>bureau_balance_MONTHS_BALANCE_mean</th>\n",
       "      <th>bureau_balance_MONTHS_BALANCE_max</th>\n",
       "      <th>bureau_balance_MONTHS_BALANCE_count</th>\n",
       "    </tr>\n",
       "    <tr>\n",
       "      <th>SK_ID_BUREAU</th>\n",
       "      <th></th>\n",
       "      <th></th>\n",
       "      <th></th>\n",
       "      <th></th>\n",
       "      <th></th>\n",
       "    </tr>\n",
       "  </thead>\n",
       "  <tbody>\n",
       "    <tr>\n",
       "      <th>5001709</th>\n",
       "      <td>-4656</td>\n",
       "      <td>-96</td>\n",
       "      <td>-48.0</td>\n",
       "      <td>0</td>\n",
       "      <td>97</td>\n",
       "    </tr>\n",
       "    <tr>\n",
       "      <th>5001710</th>\n",
       "      <td>-3403</td>\n",
       "      <td>-82</td>\n",
       "      <td>-41.0</td>\n",
       "      <td>0</td>\n",
       "      <td>83</td>\n",
       "    </tr>\n",
       "    <tr>\n",
       "      <th>5001711</th>\n",
       "      <td>-6</td>\n",
       "      <td>-3</td>\n",
       "      <td>-1.5</td>\n",
       "      <td>0</td>\n",
       "      <td>4</td>\n",
       "    </tr>\n",
       "  </tbody>\n",
       "</table>\n",
       "</div>"
      ],
      "text/plain": [
       "              bureau_balance_MONTHS_BALANCE_sum  \\\n",
       "SK_ID_BUREAU                                      \n",
       "5001709                                   -4656   \n",
       "5001710                                   -3403   \n",
       "5001711                                      -6   \n",
       "\n",
       "              bureau_balance_MONTHS_BALANCE_min  \\\n",
       "SK_ID_BUREAU                                      \n",
       "5001709                                     -96   \n",
       "5001710                                     -82   \n",
       "5001711                                      -3   \n",
       "\n",
       "              bureau_balance_MONTHS_BALANCE_mean  \\\n",
       "SK_ID_BUREAU                                       \n",
       "5001709                                    -48.0   \n",
       "5001710                                    -41.0   \n",
       "5001711                                     -1.5   \n",
       "\n",
       "              bureau_balance_MONTHS_BALANCE_max  \\\n",
       "SK_ID_BUREAU                                      \n",
       "5001709                                       0   \n",
       "5001710                                       0   \n",
       "5001711                                       0   \n",
       "\n",
       "              bureau_balance_MONTHS_BALANCE_count  \n",
       "SK_ID_BUREAU                                       \n",
       "5001709                                        97  \n",
       "5001710                                        83  \n",
       "5001711                                         4  "
      ]
     },
     "execution_count": 53,
     "metadata": {},
     "output_type": "execute_result"
    }
   ],
   "source": [
    "# Aggregated stats of bureau_balance dataframe by loan\n",
    "bureau_balance_agg = agg_numeric(bureau_balance, parent_var = 'SK_ID_BUREAU', df_name = 'bureau_balance')\n",
    "bureau_balance_agg.head(3)"
   ]
  },
  {
   "cell_type": "code",
   "execution_count": 54,
   "metadata": {},
   "outputs": [],
   "source": [
    "### Final merges and aggregation by clients for bureau_balance dataframes\n",
    "# Bureau_balance dataframes grouped by loan\n",
    "bureau_balance_by_loan = bureau_balance_agg.merge(bureau_balance_counts, \n",
    "                                                  right_index = True, \n",
    "                                                  left_on = 'SK_ID_BUREAU', \n",
    "                                                  how = 'outer')\n",
    "\n",
    "# Merge of bureau_by_loan with bureau[['SK_ID_BUREAU', 'SK_ID_CURR']] (just to include the SK_ID_CURR)\n",
    "bureau_balance_by_loan = bureau[['SK_ID_BUREAU', 'SK_ID_CURR']].merge(bureau_balance_by_loan, \n",
    "                                                                      on = 'SK_ID_BUREAU', \n",
    "                                                                      how = 'left')\n",
    "\n",
    "# Aggregate the stats for each client\n",
    "bureau_balance_by_client = agg_numeric(bureau_balance_by_loan.drop(columns = ['SK_ID_BUREAU']), \n",
    "                                       parent_var = 'SK_ID_CURR', df_name = 'client')"
   ]
  },
  {
   "cell_type": "markdown",
   "metadata": {},
   "source": [
    "### Insert computed features into train and test datasets"
   ]
  },
  {
   "cell_type": "code",
   "execution_count": 55,
   "metadata": {},
   "outputs": [
    {
     "name": "stdout",
     "output_type": "stream",
     "text": [
      "app_train data shape  :  (307511, 434)\n",
      "app_test  data shape  :  (48744, 433)\n"
     ]
    }
   ],
   "source": [
    "# Merge with the counts and stats of bureau and the monthly informations grouped by client\n",
    "app_train = app_train.merge(bureau_by_client, on = 'SK_ID_CURR', how = 'left')\n",
    "app_train = app_train.merge(bureau_balance_by_client, on = 'SK_ID_CURR', how = 'left')\n",
    "print('app_train data shape  : ', app_train.shape)\n",
    "\n",
    "app_test = app_test.merge(bureau_by_client, on = 'SK_ID_CURR', how = 'left')\n",
    "app_test = app_test.merge(bureau_balance_by_client, on = 'SK_ID_CURR', how = 'left')\n",
    "print('app_test  data shape  : ', app_test.shape)"
   ]
  },
  {
   "cell_type": "code",
   "execution_count": 56,
   "metadata": {},
   "outputs": [
    {
     "data": {
      "text/plain": [
       "171"
      ]
     },
     "execution_count": 56,
     "metadata": {},
     "output_type": "execute_result"
    }
   ],
   "source": [
    "# Remove obsolete dataframes to free memory space\n",
    "gc.enable()\n",
    "del bureau, bureau_counts, bureau_agg, bureau_by_client\n",
    "del bureau_balance, bureau_balance_counts, bureau_balance_agg, bureau_balance_by_loan, bureau_balance_by_client\n",
    "gc.collect()"
   ]
  },
  {
   "cell_type": "markdown",
   "metadata": {},
   "source": [
    "### Applying same process to the other datasets"
   ]
  },
  {
   "cell_type": "markdown",
   "metadata": {},
   "source": [
    "Basically the same treatment is going to be applied to the other datasets: 1) removing 365243 values of possible DAYS_ features, 2) removing outliers, 3) computation of statistic features (aggregation of numerical and categorical features), and finally 4) aggregation by client of these computed statistic features.  \n",
    "\n",
    "Since the general function hereafter contain both the aggregate_numerical and aggregate_categorical functions there is no need to encode them before applying it."
   ]
  },
  {
   "cell_type": "code",
   "execution_count": 57,
   "metadata": {},
   "outputs": [],
   "source": [
    "def aggregate_client(df, group_vars, df_names):\n",
    "    \"\"\"\n",
    "    Aggregate a dataframe with data at the loan level \n",
    "    at the client level\n",
    "    \n",
    "    Parameters\n",
    "    ----------\n",
    "        df (dataframe): data at the loan level\n",
    "        group_vars (list of two strings): grouping variables for the loan \n",
    "        and then the client (example ['SK_ID_PREV', 'SK_ID_CURR'])\n",
    "        names (list of two strings): names to call the resulting columns\n",
    "        (example ['cash', 'client'])\n",
    "        \n",
    "    Returns\n",
    "    -------\n",
    "        df_client (dataframe): aggregated numeric stats at the client level. \n",
    "        Each client will have a single row with all the numeric data aggregated\n",
    "        \n",
    "    \"\"\"\n",
    "    \n",
    "    # Aggregate the numeric columns\n",
    "    df_agg = agg_numeric(df, parent_var = group_vars[0], df_name = df_names[0])\n",
    "    \n",
    "    # If there are categorical variables\n",
    "    if any(df.dtypes == 'category'):\n",
    "    \n",
    "        # Count the categorical columns\n",
    "        df_counts = agg_categorical(df, parent_var = group_vars[0], df_name = df_names[0])\n",
    "\n",
    "        # Merge the numeric and categorical\n",
    "        df_by_loan = df_counts.merge(df_agg, on = group_vars[0], how = 'outer')\n",
    "\n",
    "        gc.enable()\n",
    "        del df_agg, df_counts\n",
    "        gc.collect()\n",
    "\n",
    "        # Merge to get the client id in dataframe\n",
    "        df_by_loan = df_by_loan.merge(df[[group_vars[0], group_vars[1]]], on = group_vars[0], how = 'left')\n",
    "\n",
    "        # Remove the loan id\n",
    "        df_by_loan = df_by_loan.drop(columns = [group_vars[0]])\n",
    "\n",
    "        # Aggregate numeric stats by column\n",
    "        df_by_client = agg_numeric(df_by_loan, parent_var = group_vars[1], df_name = df_names[1])\n",
    "\n",
    "        \n",
    "    # No categorical variables\n",
    "    else:\n",
    "        # Merge to get the client id in dataframe\n",
    "        df_by_loan = df_agg.merge(df[[group_vars[0], group_vars[1]]], on = group_vars[0], how = 'left')\n",
    "        \n",
    "        gc.enable()\n",
    "        del df_agg\n",
    "        gc.collect()\n",
    "        \n",
    "        # Remove the loan id\n",
    "        df_by_loan = df_by_loan.drop(columns = [group_vars[0]])\n",
    "        \n",
    "        # Aggregate numeric stats by column\n",
    "        df_by_client = agg_numeric(df_by_loan, parent_var = group_vars[1], df_name = df_names[1])\n",
    "        \n",
    "    # Memory management\n",
    "    gc.enable()\n",
    "    del df, df_by_loan\n",
    "    gc.collect()\n",
    "\n",
    "    return df_by_client"
   ]
  },
  {
   "cell_type": "markdown",
   "metadata": {},
   "source": [
    "### credit_card_balance"
   ]
  },
  {
   "cell_type": "code",
   "execution_count": 58,
   "metadata": {},
   "outputs": [
    {
     "name": "stdout",
     "output_type": "stream",
     "text": [
      "Original Memory Usage: 0.71 gb.\n",
      "New Memory Usage: 0.42 gb.\n",
      "credit_card_balance data shape:  (3840312, 23)\n"
     ]
    }
   ],
   "source": [
    "credit_card_balance = pd.read_csv(os.path.abspath('credit_card_balance.csv'))\n",
    "credit_card_balance = convert_types(credit_card_balance, print_info=True)\n",
    "print('credit_card_balance data shape: ', credit_card_balance.shape)"
   ]
  },
  {
   "cell_type": "code",
   "execution_count": 59,
   "metadata": {},
   "outputs": [
    {
     "data": {
      "text/html": [
       "<div>\n",
       "<style scoped>\n",
       "    .dataframe tbody tr th:only-of-type {\n",
       "        vertical-align: middle;\n",
       "    }\n",
       "\n",
       "    .dataframe tbody tr th {\n",
       "        vertical-align: top;\n",
       "    }\n",
       "\n",
       "    .dataframe thead th {\n",
       "        text-align: right;\n",
       "    }\n",
       "</style>\n",
       "<table border=\"1\" class=\"dataframe\">\n",
       "  <thead>\n",
       "    <tr style=\"text-align: right;\">\n",
       "      <th></th>\n",
       "      <th>SK_ID_PREV</th>\n",
       "      <th>SK_ID_CURR</th>\n",
       "      <th>MONTHS_BALANCE</th>\n",
       "      <th>AMT_BALANCE</th>\n",
       "      <th>AMT_CREDIT_LIMIT_ACTUAL</th>\n",
       "      <th>AMT_DRAWINGS_ATM_CURRENT</th>\n",
       "      <th>AMT_DRAWINGS_CURRENT</th>\n",
       "      <th>AMT_DRAWINGS_OTHER_CURRENT</th>\n",
       "      <th>AMT_DRAWINGS_POS_CURRENT</th>\n",
       "      <th>AMT_INST_MIN_REGULARITY</th>\n",
       "      <th>...</th>\n",
       "      <th>AMT_RECIVABLE</th>\n",
       "      <th>AMT_TOTAL_RECEIVABLE</th>\n",
       "      <th>CNT_DRAWINGS_ATM_CURRENT</th>\n",
       "      <th>CNT_DRAWINGS_CURRENT</th>\n",
       "      <th>CNT_DRAWINGS_OTHER_CURRENT</th>\n",
       "      <th>CNT_DRAWINGS_POS_CURRENT</th>\n",
       "      <th>CNT_INSTALMENT_MATURE_CUM</th>\n",
       "      <th>NAME_CONTRACT_STATUS</th>\n",
       "      <th>SK_DPD</th>\n",
       "      <th>SK_DPD_DEF</th>\n",
       "    </tr>\n",
       "  </thead>\n",
       "  <tbody>\n",
       "    <tr>\n",
       "      <th>0</th>\n",
       "      <td>2562384</td>\n",
       "      <td>378907</td>\n",
       "      <td>-6</td>\n",
       "      <td>56.970001</td>\n",
       "      <td>135000</td>\n",
       "      <td>0.0</td>\n",
       "      <td>877.5</td>\n",
       "      <td>0.0</td>\n",
       "      <td>877.5</td>\n",
       "      <td>1700.324951</td>\n",
       "      <td>...</td>\n",
       "      <td>0.000000</td>\n",
       "      <td>0.000000</td>\n",
       "      <td>0.0</td>\n",
       "      <td>1</td>\n",
       "      <td>0.0</td>\n",
       "      <td>1.0</td>\n",
       "      <td>35.0</td>\n",
       "      <td>Active</td>\n",
       "      <td>0</td>\n",
       "      <td>0</td>\n",
       "    </tr>\n",
       "    <tr>\n",
       "      <th>1</th>\n",
       "      <td>2582071</td>\n",
       "      <td>363914</td>\n",
       "      <td>-1</td>\n",
       "      <td>63975.554688</td>\n",
       "      <td>45000</td>\n",
       "      <td>2250.0</td>\n",
       "      <td>2250.0</td>\n",
       "      <td>0.0</td>\n",
       "      <td>0.0</td>\n",
       "      <td>2250.000000</td>\n",
       "      <td>...</td>\n",
       "      <td>64875.554688</td>\n",
       "      <td>64875.554688</td>\n",
       "      <td>1.0</td>\n",
       "      <td>1</td>\n",
       "      <td>0.0</td>\n",
       "      <td>0.0</td>\n",
       "      <td>69.0</td>\n",
       "      <td>Active</td>\n",
       "      <td>0</td>\n",
       "      <td>0</td>\n",
       "    </tr>\n",
       "    <tr>\n",
       "      <th>2</th>\n",
       "      <td>1740877</td>\n",
       "      <td>371185</td>\n",
       "      <td>-7</td>\n",
       "      <td>31815.224609</td>\n",
       "      <td>450000</td>\n",
       "      <td>0.0</td>\n",
       "      <td>0.0</td>\n",
       "      <td>0.0</td>\n",
       "      <td>0.0</td>\n",
       "      <td>2250.000000</td>\n",
       "      <td>...</td>\n",
       "      <td>31460.085938</td>\n",
       "      <td>31460.085938</td>\n",
       "      <td>0.0</td>\n",
       "      <td>0</td>\n",
       "      <td>0.0</td>\n",
       "      <td>0.0</td>\n",
       "      <td>30.0</td>\n",
       "      <td>Active</td>\n",
       "      <td>0</td>\n",
       "      <td>0</td>\n",
       "    </tr>\n",
       "  </tbody>\n",
       "</table>\n",
       "<p>3 rows × 23 columns</p>\n",
       "</div>"
      ],
      "text/plain": [
       "   SK_ID_PREV  SK_ID_CURR  MONTHS_BALANCE   AMT_BALANCE  \\\n",
       "0     2562384      378907              -6     56.970001   \n",
       "1     2582071      363914              -1  63975.554688   \n",
       "2     1740877      371185              -7  31815.224609   \n",
       "\n",
       "   AMT_CREDIT_LIMIT_ACTUAL  AMT_DRAWINGS_ATM_CURRENT  AMT_DRAWINGS_CURRENT  \\\n",
       "0                   135000                       0.0                 877.5   \n",
       "1                    45000                    2250.0                2250.0   \n",
       "2                   450000                       0.0                   0.0   \n",
       "\n",
       "   AMT_DRAWINGS_OTHER_CURRENT  AMT_DRAWINGS_POS_CURRENT  \\\n",
       "0                         0.0                     877.5   \n",
       "1                         0.0                       0.0   \n",
       "2                         0.0                       0.0   \n",
       "\n",
       "   AMT_INST_MIN_REGULARITY  ...  AMT_RECIVABLE  AMT_TOTAL_RECEIVABLE  \\\n",
       "0              1700.324951  ...       0.000000              0.000000   \n",
       "1              2250.000000  ...   64875.554688          64875.554688   \n",
       "2              2250.000000  ...   31460.085938          31460.085938   \n",
       "\n",
       "   CNT_DRAWINGS_ATM_CURRENT  CNT_DRAWINGS_CURRENT  CNT_DRAWINGS_OTHER_CURRENT  \\\n",
       "0                       0.0                     1                         0.0   \n",
       "1                       1.0                     1                         0.0   \n",
       "2                       0.0                     0                         0.0   \n",
       "\n",
       "   CNT_DRAWINGS_POS_CURRENT  CNT_INSTALMENT_MATURE_CUM  NAME_CONTRACT_STATUS  \\\n",
       "0                       1.0                       35.0                Active   \n",
       "1                       0.0                       69.0                Active   \n",
       "2                       0.0                       30.0                Active   \n",
       "\n",
       "   SK_DPD  SK_DPD_DEF  \n",
       "0       0           0  \n",
       "1       0           0  \n",
       "2       0           0  \n",
       "\n",
       "[3 rows x 23 columns]"
      ]
     },
     "execution_count": 59,
     "metadata": {},
     "output_type": "execute_result"
    }
   ],
   "source": [
    "credit_card_balance.head(3)"
   ]
  },
  {
   "cell_type": "code",
   "execution_count": 60,
   "metadata": {},
   "outputs": [
    {
     "name": "stdout",
     "output_type": "stream",
     "text": [
      "No 365243 anomalous value in this dataframe.\n"
     ]
    }
   ],
   "source": [
    "spot_365243(credit_card_balance)"
   ]
  },
  {
   "cell_type": "code",
   "execution_count": 61,
   "metadata": {},
   "outputs": [
    {
     "name": "stdout",
     "output_type": "stream",
     "text": [
      "No XNA string in this dataframe.\n"
     ]
    }
   ],
   "source": [
    "spot_XNA(credit_card_balance)"
   ]
  },
  {
   "cell_type": "code",
   "execution_count": 62,
   "metadata": {},
   "outputs": [],
   "source": [
    "credit_card_balance = remove_outliers(credit_card_balance)"
   ]
  },
  {
   "cell_type": "code",
   "execution_count": 63,
   "metadata": {},
   "outputs": [
    {
     "name": "stdout",
     "output_type": "stream",
     "text": [
      "credit_card_balance by client shape:  (103558, 390)\n"
     ]
    },
    {
     "data": {
      "text/html": [
       "<div>\n",
       "<style scoped>\n",
       "    .dataframe tbody tr th:only-of-type {\n",
       "        vertical-align: middle;\n",
       "    }\n",
       "\n",
       "    .dataframe tbody tr th {\n",
       "        vertical-align: top;\n",
       "    }\n",
       "\n",
       "    .dataframe thead th {\n",
       "        text-align: right;\n",
       "    }\n",
       "</style>\n",
       "<table border=\"1\" class=\"dataframe\">\n",
       "  <thead>\n",
       "    <tr style=\"text-align: right;\">\n",
       "      <th></th>\n",
       "      <th>client_cash_MONTHS_BALANCE_sum_sum</th>\n",
       "      <th>client_cash_MONTHS_BALANCE_min_sum</th>\n",
       "      <th>client_cash_MONTHS_BALANCE_mean_sum</th>\n",
       "      <th>client_cash_MONTHS_BALANCE_sum_min</th>\n",
       "      <th>client_cash_MONTHS_BALANCE_sum_mean</th>\n",
       "      <th>client_cash_MONTHS_BALANCE_sum_max</th>\n",
       "      <th>client_cash_MONTHS_BALANCE_max_sum</th>\n",
       "      <th>client_cash_MONTHS_BALANCE_min_min</th>\n",
       "      <th>client_cash_MONTHS_BALANCE_min_mean</th>\n",
       "      <th>client_cash_MONTHS_BALANCE_min_max</th>\n",
       "      <th>...</th>\n",
       "      <th>client_cash_CNT_DRAWINGS_ATM_CURRENT_min_min</th>\n",
       "      <th>client_cash_AMT_PAYMENT_CURRENT_min_min</th>\n",
       "      <th>client_cash_AMT_PAYMENT_CURRENT_min_mean</th>\n",
       "      <th>client_cash_AMT_PAYMENT_CURRENT_min_max</th>\n",
       "      <th>client_cash_AMT_PAYMENT_CURRENT_mean_min</th>\n",
       "      <th>client_cash_AMT_PAYMENT_CURRENT_mean_mean</th>\n",
       "      <th>client_cash_AMT_PAYMENT_CURRENT_mean_max</th>\n",
       "      <th>client_cash_AMT_PAYMENT_CURRENT_max_min</th>\n",
       "      <th>client_cash_AMT_PAYMENT_CURRENT_max_mean</th>\n",
       "      <th>client_cash_AMT_PAYMENT_CURRENT_max_max</th>\n",
       "    </tr>\n",
       "    <tr>\n",
       "      <th>SK_ID_CURR</th>\n",
       "      <th></th>\n",
       "      <th></th>\n",
       "      <th></th>\n",
       "      <th></th>\n",
       "      <th></th>\n",
       "      <th></th>\n",
       "      <th></th>\n",
       "      <th></th>\n",
       "      <th></th>\n",
       "      <th></th>\n",
       "      <th></th>\n",
       "      <th></th>\n",
       "      <th></th>\n",
       "      <th></th>\n",
       "      <th></th>\n",
       "      <th></th>\n",
       "      <th></th>\n",
       "      <th></th>\n",
       "      <th></th>\n",
       "      <th></th>\n",
       "      <th></th>\n",
       "    </tr>\n",
       "  </thead>\n",
       "  <tbody>\n",
       "    <tr>\n",
       "      <th>100006</th>\n",
       "      <td>-126</td>\n",
       "      <td>-36</td>\n",
       "      <td>-21.0</td>\n",
       "      <td>-21</td>\n",
       "      <td>-21.0</td>\n",
       "      <td>-21</td>\n",
       "      <td>-6</td>\n",
       "      <td>-6</td>\n",
       "      <td>-6.0</td>\n",
       "      <td>-6</td>\n",
       "      <td>...</td>\n",
       "      <td>NaN</td>\n",
       "      <td>NaN</td>\n",
       "      <td>NaN</td>\n",
       "      <td>NaN</td>\n",
       "      <td>NaN</td>\n",
       "      <td>NaN</td>\n",
       "      <td>NaN</td>\n",
       "      <td>NaN</td>\n",
       "      <td>NaN</td>\n",
       "      <td>NaN</td>\n",
       "    </tr>\n",
       "    <tr>\n",
       "      <th>100011</th>\n",
       "      <td>-210826</td>\n",
       "      <td>-5550</td>\n",
       "      <td>-2849.0</td>\n",
       "      <td>-2849</td>\n",
       "      <td>-2849.0</td>\n",
       "      <td>-2849</td>\n",
       "      <td>-148</td>\n",
       "      <td>-75</td>\n",
       "      <td>-75.0</td>\n",
       "      <td>-75</td>\n",
       "      <td>...</td>\n",
       "      <td>0.0</td>\n",
       "      <td>0.0</td>\n",
       "      <td>0.0</td>\n",
       "      <td>0.0</td>\n",
       "      <td>4149.338867</td>\n",
       "      <td>4149.338867</td>\n",
       "      <td>4149.338867</td>\n",
       "      <td>9000.0</td>\n",
       "      <td>9000.0</td>\n",
       "      <td>9000.0</td>\n",
       "    </tr>\n",
       "    <tr>\n",
       "      <th>100013</th>\n",
       "      <td>-446976</td>\n",
       "      <td>-9216</td>\n",
       "      <td>-4656.0</td>\n",
       "      <td>-4656</td>\n",
       "      <td>-4656.0</td>\n",
       "      <td>-4656</td>\n",
       "      <td>-96</td>\n",
       "      <td>-96</td>\n",
       "      <td>-96.0</td>\n",
       "      <td>-96</td>\n",
       "      <td>...</td>\n",
       "      <td>0.0</td>\n",
       "      <td>0.0</td>\n",
       "      <td>0.0</td>\n",
       "      <td>0.0</td>\n",
       "      <td>2842.996582</td>\n",
       "      <td>2842.996582</td>\n",
       "      <td>2842.996582</td>\n",
       "      <td>31500.0</td>\n",
       "      <td>31500.0</td>\n",
       "      <td>31500.0</td>\n",
       "    </tr>\n",
       "  </tbody>\n",
       "</table>\n",
       "<p>3 rows × 390 columns</p>\n",
       "</div>"
      ],
      "text/plain": [
       "            client_cash_MONTHS_BALANCE_sum_sum  \\\n",
       "SK_ID_CURR                                       \n",
       "100006                                    -126   \n",
       "100011                                 -210826   \n",
       "100013                                 -446976   \n",
       "\n",
       "            client_cash_MONTHS_BALANCE_min_sum  \\\n",
       "SK_ID_CURR                                       \n",
       "100006                                     -36   \n",
       "100011                                   -5550   \n",
       "100013                                   -9216   \n",
       "\n",
       "            client_cash_MONTHS_BALANCE_mean_sum  \\\n",
       "SK_ID_CURR                                        \n",
       "100006                                    -21.0   \n",
       "100011                                  -2849.0   \n",
       "100013                                  -4656.0   \n",
       "\n",
       "            client_cash_MONTHS_BALANCE_sum_min  \\\n",
       "SK_ID_CURR                                       \n",
       "100006                                     -21   \n",
       "100011                                   -2849   \n",
       "100013                                   -4656   \n",
       "\n",
       "            client_cash_MONTHS_BALANCE_sum_mean  \\\n",
       "SK_ID_CURR                                        \n",
       "100006                                    -21.0   \n",
       "100011                                  -2849.0   \n",
       "100013                                  -4656.0   \n",
       "\n",
       "            client_cash_MONTHS_BALANCE_sum_max  \\\n",
       "SK_ID_CURR                                       \n",
       "100006                                     -21   \n",
       "100011                                   -2849   \n",
       "100013                                   -4656   \n",
       "\n",
       "            client_cash_MONTHS_BALANCE_max_sum  \\\n",
       "SK_ID_CURR                                       \n",
       "100006                                      -6   \n",
       "100011                                    -148   \n",
       "100013                                     -96   \n",
       "\n",
       "            client_cash_MONTHS_BALANCE_min_min  \\\n",
       "SK_ID_CURR                                       \n",
       "100006                                      -6   \n",
       "100011                                     -75   \n",
       "100013                                     -96   \n",
       "\n",
       "            client_cash_MONTHS_BALANCE_min_mean  \\\n",
       "SK_ID_CURR                                        \n",
       "100006                                     -6.0   \n",
       "100011                                    -75.0   \n",
       "100013                                    -96.0   \n",
       "\n",
       "            client_cash_MONTHS_BALANCE_min_max  ...  \\\n",
       "SK_ID_CURR                                      ...   \n",
       "100006                                      -6  ...   \n",
       "100011                                     -75  ...   \n",
       "100013                                     -96  ...   \n",
       "\n",
       "            client_cash_CNT_DRAWINGS_ATM_CURRENT_min_min  \\\n",
       "SK_ID_CURR                                                 \n",
       "100006                                               NaN   \n",
       "100011                                               0.0   \n",
       "100013                                               0.0   \n",
       "\n",
       "            client_cash_AMT_PAYMENT_CURRENT_min_min  \\\n",
       "SK_ID_CURR                                            \n",
       "100006                                          NaN   \n",
       "100011                                          0.0   \n",
       "100013                                          0.0   \n",
       "\n",
       "            client_cash_AMT_PAYMENT_CURRENT_min_mean  \\\n",
       "SK_ID_CURR                                             \n",
       "100006                                           NaN   \n",
       "100011                                           0.0   \n",
       "100013                                           0.0   \n",
       "\n",
       "            client_cash_AMT_PAYMENT_CURRENT_min_max  \\\n",
       "SK_ID_CURR                                            \n",
       "100006                                          NaN   \n",
       "100011                                          0.0   \n",
       "100013                                          0.0   \n",
       "\n",
       "            client_cash_AMT_PAYMENT_CURRENT_mean_min  \\\n",
       "SK_ID_CURR                                             \n",
       "100006                                           NaN   \n",
       "100011                                   4149.338867   \n",
       "100013                                   2842.996582   \n",
       "\n",
       "            client_cash_AMT_PAYMENT_CURRENT_mean_mean  \\\n",
       "SK_ID_CURR                                              \n",
       "100006                                            NaN   \n",
       "100011                                    4149.338867   \n",
       "100013                                    2842.996582   \n",
       "\n",
       "            client_cash_AMT_PAYMENT_CURRENT_mean_max  \\\n",
       "SK_ID_CURR                                             \n",
       "100006                                           NaN   \n",
       "100011                                   4149.338867   \n",
       "100013                                   2842.996582   \n",
       "\n",
       "            client_cash_AMT_PAYMENT_CURRENT_max_min  \\\n",
       "SK_ID_CURR                                            \n",
       "100006                                          NaN   \n",
       "100011                                       9000.0   \n",
       "100013                                      31500.0   \n",
       "\n",
       "            client_cash_AMT_PAYMENT_CURRENT_max_mean  \\\n",
       "SK_ID_CURR                                             \n",
       "100006                                           NaN   \n",
       "100011                                        9000.0   \n",
       "100013                                       31500.0   \n",
       "\n",
       "            client_cash_AMT_PAYMENT_CURRENT_max_max  \n",
       "SK_ID_CURR                                           \n",
       "100006                                          NaN  \n",
       "100011                                       9000.0  \n",
       "100013                                      31500.0  \n",
       "\n",
       "[3 rows x 390 columns]"
      ]
     },
     "execution_count": 63,
     "metadata": {},
     "output_type": "execute_result"
    }
   ],
   "source": [
    "# Aggregation by client\n",
    "credit_card_balance_by_client = aggregate_client(credit_card_balance, group_vars = ['SK_ID_PREV', 'SK_ID_CURR'], df_names = ['cash', 'client'])\n",
    "print('credit_card_balance by client shape: ', credit_card_balance_by_client.shape)\n",
    "credit_card_balance_by_client.head(3)"
   ]
  },
  {
   "cell_type": "code",
   "execution_count": 64,
   "metadata": {},
   "outputs": [
    {
     "name": "stdout",
     "output_type": "stream",
     "text": [
      "app_train data shape  :  (307511, 824)\n",
      "app_test  data shape  :  (48744, 823)\n"
     ]
    }
   ],
   "source": [
    "# Merge of credit_card_by_client data to app_train and app_test datasets \n",
    "app_train = app_train.merge(credit_card_balance_by_client, on = 'SK_ID_CURR', how = 'left')\n",
    "app_test = app_test.merge(credit_card_balance_by_client, on = 'SK_ID_CURR', how = 'left')\n",
    "print('app_train data shape  : ', app_train.shape)\n",
    "print('app_test  data shape  : ', app_test.shape)"
   ]
  },
  {
   "cell_type": "code",
   "execution_count": 65,
   "metadata": {},
   "outputs": [
    {
     "data": {
      "text/plain": [
       "20"
      ]
     },
     "execution_count": 65,
     "metadata": {},
     "output_type": "execute_result"
    }
   ],
   "source": [
    "# Remove obsolete dataframes to free memory space\n",
    "gc.enable()\n",
    "del credit_card_balance, credit_card_balance_by_client\n",
    "gc.collect()"
   ]
  },
  {
   "cell_type": "markdown",
   "metadata": {},
   "source": [
    "### Installments_payments"
   ]
  },
  {
   "cell_type": "code",
   "execution_count": 66,
   "metadata": {},
   "outputs": [
    {
     "name": "stdout",
     "output_type": "stream",
     "text": [
      "Original Memory Usage: 0.87 gb.\n",
      "New Memory Usage: 0.49 gb.\n",
      "installments_payments data shape:  (13605401, 8)\n"
     ]
    }
   ],
   "source": [
    "installments_payments = pd.read_csv(os.path.abspath('installments_payments.csv'))\n",
    "installments_payments = convert_types(installments_payments, print_info=True)\n",
    "print('installments_payments data shape: ', installments_payments.shape)"
   ]
  },
  {
   "cell_type": "code",
   "execution_count": 67,
   "metadata": {},
   "outputs": [
    {
     "data": {
      "text/html": [
       "<div>\n",
       "<style scoped>\n",
       "    .dataframe tbody tr th:only-of-type {\n",
       "        vertical-align: middle;\n",
       "    }\n",
       "\n",
       "    .dataframe tbody tr th {\n",
       "        vertical-align: top;\n",
       "    }\n",
       "\n",
       "    .dataframe thead th {\n",
       "        text-align: right;\n",
       "    }\n",
       "</style>\n",
       "<table border=\"1\" class=\"dataframe\">\n",
       "  <thead>\n",
       "    <tr style=\"text-align: right;\">\n",
       "      <th></th>\n",
       "      <th>SK_ID_PREV</th>\n",
       "      <th>SK_ID_CURR</th>\n",
       "      <th>NUM_INSTALMENT_VERSION</th>\n",
       "      <th>NUM_INSTALMENT_NUMBER</th>\n",
       "      <th>DAYS_INSTALMENT</th>\n",
       "      <th>DAYS_ENTRY_PAYMENT</th>\n",
       "      <th>AMT_INSTALMENT</th>\n",
       "      <th>AMT_PAYMENT</th>\n",
       "    </tr>\n",
       "  </thead>\n",
       "  <tbody>\n",
       "    <tr>\n",
       "      <th>0</th>\n",
       "      <td>1054186</td>\n",
       "      <td>161674</td>\n",
       "      <td>1.0</td>\n",
       "      <td>6</td>\n",
       "      <td>-1180.0</td>\n",
       "      <td>-1187.0</td>\n",
       "      <td>6948.359863</td>\n",
       "      <td>6948.359863</td>\n",
       "    </tr>\n",
       "    <tr>\n",
       "      <th>1</th>\n",
       "      <td>1330831</td>\n",
       "      <td>151639</td>\n",
       "      <td>0.0</td>\n",
       "      <td>34</td>\n",
       "      <td>-2156.0</td>\n",
       "      <td>-2156.0</td>\n",
       "      <td>1716.525024</td>\n",
       "      <td>1716.525024</td>\n",
       "    </tr>\n",
       "    <tr>\n",
       "      <th>2</th>\n",
       "      <td>2085231</td>\n",
       "      <td>193053</td>\n",
       "      <td>2.0</td>\n",
       "      <td>1</td>\n",
       "      <td>-63.0</td>\n",
       "      <td>-63.0</td>\n",
       "      <td>25425.000000</td>\n",
       "      <td>25425.000000</td>\n",
       "    </tr>\n",
       "  </tbody>\n",
       "</table>\n",
       "</div>"
      ],
      "text/plain": [
       "   SK_ID_PREV  SK_ID_CURR  NUM_INSTALMENT_VERSION  NUM_INSTALMENT_NUMBER  \\\n",
       "0     1054186      161674                     1.0                      6   \n",
       "1     1330831      151639                     0.0                     34   \n",
       "2     2085231      193053                     2.0                      1   \n",
       "\n",
       "   DAYS_INSTALMENT  DAYS_ENTRY_PAYMENT  AMT_INSTALMENT   AMT_PAYMENT  \n",
       "0          -1180.0             -1187.0     6948.359863   6948.359863  \n",
       "1          -2156.0             -2156.0     1716.525024   1716.525024  \n",
       "2            -63.0               -63.0    25425.000000  25425.000000  "
      ]
     },
     "execution_count": 67,
     "metadata": {},
     "output_type": "execute_result"
    }
   ],
   "source": [
    "installments_payments.head(3)"
   ]
  },
  {
   "cell_type": "code",
   "execution_count": 68,
   "metadata": {},
   "outputs": [
    {
     "name": "stdout",
     "output_type": "stream",
     "text": [
      "No 365243 anomalous value in this dataframe.\n"
     ]
    }
   ],
   "source": [
    "spot_365243(installments_payments)"
   ]
  },
  {
   "cell_type": "code",
   "execution_count": 69,
   "metadata": {},
   "outputs": [
    {
     "name": "stdout",
     "output_type": "stream",
     "text": [
      "No XNA string in this dataframe.\n"
     ]
    }
   ],
   "source": [
    "spot_XNA(installments_payments)"
   ]
  },
  {
   "cell_type": "code",
   "execution_count": 70,
   "metadata": {},
   "outputs": [],
   "source": [
    "installments_payments = remove_outliers(installments_payments)"
   ]
  },
  {
   "cell_type": "code",
   "execution_count": null,
   "metadata": {},
   "outputs": [],
   "source": [
    "# Aggregation by client\n",
    "installments_payments_by_client = aggregate_client(installments_payments, group_vars = ['SK_ID_PREV', 'SK_ID_CURR'], df_names = ['installments', 'client'])\n",
    "print('installments_payments_by_client shape: ', installments_payments_by_client.shape)\n",
    "installments_payments_by_client.head(3)"
   ]
  },
  {
   "cell_type": "code",
   "execution_count": null,
   "metadata": {},
   "outputs": [],
   "source": [
    "# Merge of installments_payments_by_client data to train and test datasets \n",
    "app_train = app_train.merge(installments_payments_by_client, on = 'SK_ID_CURR', how = 'left')\n",
    "app_test = app_test.merge(installments_payments_by_client, on = 'SK_ID_CURR', how = 'left')\n",
    "print('app_train data shape  : ', app_train.shape)\n",
    "print('app_test  data shape  : ', app_test.shape)"
   ]
  },
  {
   "cell_type": "code",
   "execution_count": null,
   "metadata": {},
   "outputs": [],
   "source": [
    "# Remove obsolete dataframes to free memory space\n",
    "gc.enable()\n",
    "del installments_payments, installments_payments_by_client\n",
    "gc.collect()"
   ]
  },
  {
   "cell_type": "markdown",
   "metadata": {},
   "source": [
    "### POS_CASH_balance"
   ]
  },
  {
   "cell_type": "code",
   "execution_count": null,
   "metadata": {},
   "outputs": [],
   "source": [
    "POS_CASH_balance = pd.read_csv(os.path.abspath('POS_CASH_balance.csv'))\n",
    "POS_CASH_balance = convert_types(POS_CASH_balance, print_info=True)\n",
    "print('POS_CASH_balance data shape: ', POS_CASH_balance.shape)"
   ]
  },
  {
   "cell_type": "code",
   "execution_count": null,
   "metadata": {},
   "outputs": [],
   "source": [
    "POS_CASH_balance.head(3)"
   ]
  },
  {
   "cell_type": "code",
   "execution_count": null,
   "metadata": {},
   "outputs": [],
   "source": [
    "spot_365243(POS_CASH_balance)"
   ]
  },
  {
   "cell_type": "code",
   "execution_count": null,
   "metadata": {},
   "outputs": [],
   "source": [
    "spot_XNA(POS_CASH_balance)"
   ]
  },
  {
   "cell_type": "code",
   "execution_count": null,
   "metadata": {},
   "outputs": [],
   "source": [
    "POS_CASH_balance=remove_XNA(POS_CASH_balance,['NAME_CONTRACT_STATUS'])"
   ]
  },
  {
   "cell_type": "code",
   "execution_count": null,
   "metadata": {},
   "outputs": [],
   "source": [
    "POS_CASH_balance = remove_outliers(POS_CASH_balance)"
   ]
  },
  {
   "cell_type": "code",
   "execution_count": null,
   "metadata": {},
   "outputs": [],
   "source": [
    "# Aggregation by client\n",
    "POS_CASH_balance_by_client = aggregate_client(POS_CASH_balance, group_vars = ['SK_ID_PREV', 'SK_ID_CURR'], df_names = ['installments', 'client'])\n",
    "print('POS_CASH_balance_by_client shape: ', POS_CASH_balance_by_client.shape)\n",
    "POS_CASH_balance_by_client.head(3)"
   ]
  },
  {
   "cell_type": "code",
   "execution_count": null,
   "metadata": {},
   "outputs": [],
   "source": [
    "# Merge of installments_payments_by_client data to train and test datasets \n",
    "app_train = app_train.merge(POS_CASH_balance_by_client, on = 'SK_ID_CURR', how = 'left')\n",
    "app_test = app_test.merge(POS_CASH_balance_by_client, on = 'SK_ID_CURR', how = 'left')\n",
    "print('app_train data shape  : ', app_train.shape)\n",
    "print('app_test  data shape  : ', app_test.shape)"
   ]
  },
  {
   "cell_type": "code",
   "execution_count": null,
   "metadata": {},
   "outputs": [],
   "source": [
    "# Remove obsolete dataframes to free memory space\n",
    "gc.enable()\n",
    "del POS_CASH_balance, POS_CASH_balance_by_client\n",
    "gc.collect()"
   ]
  },
  {
   "cell_type": "markdown",
   "metadata": {},
   "source": [
    "### Previous_application"
   ]
  },
  {
   "cell_type": "code",
   "execution_count": null,
   "metadata": {},
   "outputs": [],
   "source": [
    "previous_application = pd.read_csv(os.path.abspath('previous_application.csv'))\n",
    "previous_application = convert_types(previous_application, print_info=True)\n",
    "print('POS_CASH_balance data shape: ', previous_application.shape)"
   ]
  },
  {
   "cell_type": "code",
   "execution_count": null,
   "metadata": {},
   "outputs": [],
   "source": [
    "previous_application.head(3)"
   ]
  },
  {
   "cell_type": "code",
   "execution_count": null,
   "metadata": {},
   "outputs": [],
   "source": [
    "spot_365243(previous_application)"
   ]
  },
  {
   "cell_type": "code",
   "execution_count": null,
   "metadata": {},
   "outputs": [],
   "source": [
    "list_365 = ['DAYS_FIRST_DRAWING','DAYS_FIRST_DUE','DAYS_LAST_DUE_1ST_VERSION','DAYS_LAST_DUE','DAYS_TERMINATION']"
   ]
  },
  {
   "cell_type": "code",
   "execution_count": null,
   "metadata": {},
   "outputs": [],
   "source": [
    "previous_application = remove_365243(previous_application, list_365)"
   ]
  },
  {
   "cell_type": "code",
   "execution_count": null,
   "metadata": {},
   "outputs": [],
   "source": [
    "spot_XNA(previous_application)"
   ]
  },
  {
   "cell_type": "code",
   "execution_count": null,
   "metadata": {},
   "outputs": [],
   "source": [
    "list_XNA = ['NAME_CONTRACT_TYPE','NAME_CASH_LOAN_PURPOSE','NAME_PAYMENT_TYPE','CODE_REJECT_REASON','NAME_CLIENT_TYPE',\n",
    "            'NAME_GOODS_CATEGORY','NAME_PORTFOLIO','NAME_PRODUCT_TYPE','NAME_SELLER_INDUSTRY','NAME_YIELD_GROUP']"
   ]
  },
  {
   "cell_type": "code",
   "execution_count": null,
   "metadata": {},
   "outputs": [],
   "source": [
    "previous_application = remove_XNA(previous_application, list_XNA)"
   ]
  },
  {
   "cell_type": "code",
   "execution_count": null,
   "metadata": {},
   "outputs": [],
   "source": [
    "previous_application = remove_outliers(previous_application)"
   ]
  },
  {
   "cell_type": "code",
   "execution_count": null,
   "metadata": {},
   "outputs": [],
   "source": [
    "# Aggregation by client\n",
    "previous_application_by_client = aggregate_client(previous_application, group_vars = ['SK_ID_PREV', 'SK_ID_CURR'], df_names = ['installments', 'client'])\n",
    "print('previous_application_by_client shape: ', previous_application_by_client.shape)\n",
    "previous_application_by_client.head(3)"
   ]
  },
  {
   "cell_type": "code",
   "execution_count": null,
   "metadata": {},
   "outputs": [],
   "source": [
    "# Merge of installments_payments_by_client data to train and test datasets \n",
    "app_train = app_train.merge(previous_application_by_client, on = 'SK_ID_CURR', how = 'left')\n",
    "app_test = app_test.merge(previous_application_by_client, on = 'SK_ID_CURR', how = 'left')\n",
    "print('app_train data shape  : ', app_train.shape)\n",
    "print('app_test  data shape  : ', app_test.shape)"
   ]
  },
  {
   "cell_type": "code",
   "execution_count": null,
   "metadata": {},
   "outputs": [],
   "source": [
    "# Remove obsolete dataframes to free memory space\n",
    "gc.enable()\n",
    "del previous_application, previous_application_by_client\n",
    "gc.collect()"
   ]
  },
  {
   "cell_type": "code",
   "execution_count": null,
   "metadata": {},
   "outputs": [],
   "source": [
    "# Rename app_train and app_test databases for convenience\n",
    "train=app_train.copy()\n",
    "test=app_test.copy()"
   ]
  },
  {
   "cell_type": "code",
   "execution_count": null,
   "metadata": {},
   "outputs": [],
   "source": [
    "# Remove obsolete dataframes to free memory space\n",
    "gc.enable()\n",
    "del app_train, app_test\n",
    "gc.collect()"
   ]
  },
  {
   "cell_type": "markdown",
   "metadata": {},
   "source": [
    "### IDs columns"
   ]
  },
  {
   "cell_type": "markdown",
   "metadata": {},
   "source": [
    "We may have added unwanted IDs columns during the features engineering that won't be relevant for modeling (or even worse add some bias). No action will be necessary if there is no more than 'SK_ID_CURR' present in the dataframes."
   ]
  },
  {
   "cell_type": "code",
   "execution_count": null,
   "metadata": {},
   "outputs": [],
   "source": [
    "def spot_str(txt,df):\n",
    "    cols_with_txt = [x for x in df.columns if txt in x]\n",
    "    print('There are %d columns that contain %s: %s' % (len(cols_with_txt), txt, cols_with_txt))"
   ]
  },
  {
   "cell_type": "code",
   "execution_count": null,
   "metadata": {},
   "outputs": [],
   "source": [
    "spot_str('SK_ID_',train)"
   ]
  },
  {
   "cell_type": "code",
   "execution_count": null,
   "metadata": {},
   "outputs": [],
   "source": [
    "spot_str('SK_ID',test)"
   ]
  },
  {
   "cell_type": "markdown",
   "metadata": {},
   "source": [
    "No action needed."
   ]
  },
  {
   "cell_type": "code",
   "execution_count": null,
   "metadata": {},
   "outputs": [],
   "source": [
    "# Just to be sure there is no categorical data remaining (expected to be null)\n",
    "train.select_dtypes('category').shape[1]"
   ]
  },
  {
   "cell_type": "markdown",
   "metadata": {},
   "source": [
    "We now have two very large databases consisting of all the merged dataframes. We will have to reduce theses bases to make them usable. To do so, we will proceed to a reduction based on two indicators: the missing values percentages and the  features colinearity. Too many nan values can indeed make a feature less relevant and possibly pathologic for ML models, and colinear ones don't really add any information and surely increase the time computing.\n",
    "\n",
    "Subsequently we will proceed to an even more drastic selection via the 'feature importance' calculated via a selection of models (this will be the subject of a future notebook). "
   ]
  },
  {
   "cell_type": "markdown",
   "metadata": {},
   "source": [
    "### Missing values"
   ]
  },
  {
   "cell_type": "markdown",
   "metadata": {},
   "source": [
    "The more a feature has missing values, the less relevant it is, and most models have serious problems handling them. The best thing to do is remove the ones that have too many missing values. Even though it is likely that the percentages of missing values are the same between the training set and the test set, we are going to check the percentages in both and remove any features that have more than 75% missing values."
   ]
  },
  {
   "cell_type": "code",
   "execution_count": null,
   "metadata": {},
   "outputs": [],
   "source": [
    "# Train missing values (in percent)\n",
    "train_missing = (train.isnull().sum() / len(train)).sort_values(ascending = False)\n",
    "train_missing.head(3)"
   ]
  },
  {
   "cell_type": "code",
   "execution_count": null,
   "metadata": {},
   "outputs": [],
   "source": [
    "# Test missing values (in percent)\n",
    "test_missing = (test.isnull().sum() / len(test)).sort_values(ascending = False)\n",
    "test_missing.head(3)"
   ]
  },
  {
   "cell_type": "markdown",
   "metadata": {},
   "source": [
    "As we can see on these first lines the features, which are exactly the same, seem to have the same issue but with slightly different percentages."
   ]
  },
  {
   "cell_type": "code",
   "execution_count": null,
   "metadata": {},
   "outputs": [],
   "source": [
    "# Identify missing values above threshold\n",
    "train_missing = train_missing.index[train_missing > 0.75]\n",
    "test_missing = test_missing.index[test_missing > 0.75]\n",
    "\n",
    "all_missing = list(set(set(train_missing) | set(test_missing)))\n",
    "print('There are %d columns with more than 75%% missing values.' % len(all_missing))"
   ]
  },
  {
   "cell_type": "markdown",
   "metadata": {},
   "source": [
    "Only 90 features out of more than 1900 is really not a lot (not even 5%) but it's a start. "
   ]
  },
  {
   "cell_type": "code",
   "execution_count": null,
   "metadata": {},
   "outputs": [],
   "source": [
    "# Drop the \"too empty\" columns\n",
    "train = train.drop(columns = all_missing)\n",
    "test = test.drop(columns = all_missing)"
   ]
  },
  {
   "cell_type": "markdown",
   "metadata": {},
   "source": [
    "To be sure that we have the same features in each of the databases, we again align the columns. "
   ]
  },
  {
   "cell_type": "code",
   "execution_count": null,
   "metadata": {},
   "outputs": [],
   "source": [
    "# Save the TARGET (will be lost in aligning process)\n",
    "train_labels = train['TARGET']"
   ]
  },
  {
   "cell_type": "code",
   "execution_count": null,
   "metadata": {},
   "outputs": [],
   "source": [
    "train, test = train.align(test, join = 'inner', axis = 1)\n",
    "print('Training set full shape: ', train.shape)\n",
    "print('Testing set full shape: ' , test.shape)"
   ]
  },
  {
   "cell_type": "markdown",
   "metadata": {},
   "source": [
    "### Collinear features"
   ]
  },
  {
   "cell_type": "markdown",
   "metadata": {},
   "source": [
    "Some features can be highly correlated to each other. Not to mention the fact that it can unnecessarily burden the datasets, it can dramatically increase the computation time and reduce the overall quality of the modelisation as well. Thus it is clearly necessary to identify correlated features and remove them from our datasets. Since we have a pretty big train dataset it will be quite long to compute all the correlations but it won't be misused time."
   ]
  },
  {
   "cell_type": "code",
   "execution_count": null,
   "metadata": {},
   "outputs": [],
   "source": [
    "# Saving the current clients IDs of each datasets\n",
    "train_ids = train['SK_ID_CURR']\n",
    "test_ids = test['SK_ID_CURR']"
   ]
  },
  {
   "cell_type": "code",
   "execution_count": null,
   "metadata": {},
   "outputs": [],
   "source": [
    "# Momentary drop of IDs\n",
    "train = train.drop(columns=['SK_ID_CURR'])\n",
    "test = test.drop(columns=['SK_ID_CURR'])"
   ]
  },
  {
   "cell_type": "code",
   "execution_count": 109,
   "metadata": {},
   "outputs": [
    {
     "name": "stdout",
     "output_type": "stream",
     "text": [
      "Total computing time: 54 minutes\n"
     ]
    },
    {
     "data": {
      "text/html": [
       "<div>\n",
       "<style scoped>\n",
       "    .dataframe tbody tr th:only-of-type {\n",
       "        vertical-align: middle;\n",
       "    }\n",
       "\n",
       "    .dataframe tbody tr th {\n",
       "        vertical-align: top;\n",
       "    }\n",
       "\n",
       "    .dataframe thead th {\n",
       "        text-align: right;\n",
       "    }\n",
       "</style>\n",
       "<table border=\"1\" class=\"dataframe\">\n",
       "  <thead>\n",
       "    <tr style=\"text-align: right;\">\n",
       "      <th></th>\n",
       "      <th>CNT_CHILDREN</th>\n",
       "      <th>AMT_INCOME_TOTAL</th>\n",
       "      <th>AMT_CREDIT</th>\n",
       "      <th>AMT_ANNUITY</th>\n",
       "      <th>AMT_GOODS_PRICE</th>\n",
       "      <th>REGION_POPULATION_RELATIVE</th>\n",
       "      <th>DAYS_BIRTH</th>\n",
       "      <th>DAYS_EMPLOYED</th>\n",
       "      <th>DAYS_REGISTRATION</th>\n",
       "      <th>DAYS_ID_PUBLISH</th>\n",
       "      <th>...</th>\n",
       "      <th>client_installments_AMT_APPLICATION_sum_max</th>\n",
       "      <th>client_installments_AMT_APPLICATION_mean_max</th>\n",
       "      <th>client_installments_AMT_APPLICATION_max_max</th>\n",
       "      <th>client_installments_AMT_APPLICATION_min_max</th>\n",
       "      <th>client_installments_AMT_GOODS_PRICE_sum_max</th>\n",
       "      <th>client_installments_AMT_GOODS_PRICE_mean_max</th>\n",
       "      <th>client_installments_AMT_GOODS_PRICE_max_max</th>\n",
       "      <th>client_installments_AMT_GOODS_PRICE_min_max</th>\n",
       "      <th>client_installments_AMT_APPLICATION_sum_sum</th>\n",
       "      <th>client_installments_AMT_GOODS_PRICE_sum_sum</th>\n",
       "    </tr>\n",
       "  </thead>\n",
       "  <tbody>\n",
       "    <tr>\n",
       "      <th>CNT_CHILDREN</th>\n",
       "      <td>1.000000</td>\n",
       "      <td>0.028206</td>\n",
       "      <td>0.002658</td>\n",
       "      <td>0.022715</td>\n",
       "      <td>0.001084</td>\n",
       "      <td>0.025630</td>\n",
       "      <td>0.337901</td>\n",
       "      <td>0.022380</td>\n",
       "      <td>0.185402</td>\n",
       "      <td>0.028364</td>\n",
       "      <td>...</td>\n",
       "      <td>0.059350</td>\n",
       "      <td>0.059709</td>\n",
       "      <td>0.059709</td>\n",
       "      <td>0.059709</td>\n",
       "      <td>0.055552</td>\n",
       "      <td>0.056682</td>\n",
       "      <td>0.056682</td>\n",
       "      <td>0.056682</td>\n",
       "      <td>0.053468</td>\n",
       "      <td>0.053482</td>\n",
       "    </tr>\n",
       "    <tr>\n",
       "      <th>AMT_INCOME_TOTAL</th>\n",
       "      <td>0.028206</td>\n",
       "      <td>1.000000</td>\n",
       "      <td>0.388399</td>\n",
       "      <td>0.462973</td>\n",
       "      <td>0.392785</td>\n",
       "      <td>0.178325</td>\n",
       "      <td>0.074193</td>\n",
       "      <td>0.048461</td>\n",
       "      <td>0.072063</td>\n",
       "      <td>0.026464</td>\n",
       "      <td>...</td>\n",
       "      <td>0.166677</td>\n",
       "      <td>0.171130</td>\n",
       "      <td>0.171130</td>\n",
       "      <td>0.171130</td>\n",
       "      <td>0.183661</td>\n",
       "      <td>0.189799</td>\n",
       "      <td>0.189799</td>\n",
       "      <td>0.189799</td>\n",
       "      <td>0.125011</td>\n",
       "      <td>0.138617</td>\n",
       "    </tr>\n",
       "    <tr>\n",
       "      <th>AMT_CREDIT</th>\n",
       "      <td>0.002658</td>\n",
       "      <td>0.388399</td>\n",
       "      <td>1.000000</td>\n",
       "      <td>0.779190</td>\n",
       "      <td>0.986196</td>\n",
       "      <td>0.093136</td>\n",
       "      <td>0.057547</td>\n",
       "      <td>0.097782</td>\n",
       "      <td>0.008454</td>\n",
       "      <td>0.005467</td>\n",
       "      <td>...</td>\n",
       "      <td>0.085164</td>\n",
       "      <td>0.088825</td>\n",
       "      <td>0.088825</td>\n",
       "      <td>0.088825</td>\n",
       "      <td>0.095290</td>\n",
       "      <td>0.099945</td>\n",
       "      <td>0.099945</td>\n",
       "      <td>0.099945</td>\n",
       "      <td>0.025936</td>\n",
       "      <td>0.036526</td>\n",
       "    </tr>\n",
       "  </tbody>\n",
       "</table>\n",
       "<p>3 rows × 1818 columns</p>\n",
       "</div>"
      ],
      "text/plain": [
       "                  CNT_CHILDREN  AMT_INCOME_TOTAL  AMT_CREDIT  AMT_ANNUITY  \\\n",
       "CNT_CHILDREN          1.000000          0.028206    0.002658     0.022715   \n",
       "AMT_INCOME_TOTAL      0.028206          1.000000    0.388399     0.462973   \n",
       "AMT_CREDIT            0.002658          0.388399    1.000000     0.779190   \n",
       "\n",
       "                  AMT_GOODS_PRICE  REGION_POPULATION_RELATIVE  DAYS_BIRTH  \\\n",
       "CNT_CHILDREN             0.001084                    0.025630    0.337901   \n",
       "AMT_INCOME_TOTAL         0.392785                    0.178325    0.074193   \n",
       "AMT_CREDIT               0.986196                    0.093136    0.057547   \n",
       "\n",
       "                  DAYS_EMPLOYED  DAYS_REGISTRATION  DAYS_ID_PUBLISH  ...  \\\n",
       "CNT_CHILDREN           0.022380           0.185402         0.028364  ...   \n",
       "AMT_INCOME_TOTAL       0.048461           0.072063         0.026464  ...   \n",
       "AMT_CREDIT             0.097782           0.008454         0.005467  ...   \n",
       "\n",
       "                  client_installments_AMT_APPLICATION_sum_max  \\\n",
       "CNT_CHILDREN                                         0.059350   \n",
       "AMT_INCOME_TOTAL                                     0.166677   \n",
       "AMT_CREDIT                                           0.085164   \n",
       "\n",
       "                  client_installments_AMT_APPLICATION_mean_max  \\\n",
       "CNT_CHILDREN                                          0.059709   \n",
       "AMT_INCOME_TOTAL                                      0.171130   \n",
       "AMT_CREDIT                                            0.088825   \n",
       "\n",
       "                  client_installments_AMT_APPLICATION_max_max  \\\n",
       "CNT_CHILDREN                                         0.059709   \n",
       "AMT_INCOME_TOTAL                                     0.171130   \n",
       "AMT_CREDIT                                           0.088825   \n",
       "\n",
       "                  client_installments_AMT_APPLICATION_min_max  \\\n",
       "CNT_CHILDREN                                         0.059709   \n",
       "AMT_INCOME_TOTAL                                     0.171130   \n",
       "AMT_CREDIT                                           0.088825   \n",
       "\n",
       "                  client_installments_AMT_GOODS_PRICE_sum_max  \\\n",
       "CNT_CHILDREN                                         0.055552   \n",
       "AMT_INCOME_TOTAL                                     0.183661   \n",
       "AMT_CREDIT                                           0.095290   \n",
       "\n",
       "                  client_installments_AMT_GOODS_PRICE_mean_max  \\\n",
       "CNT_CHILDREN                                          0.056682   \n",
       "AMT_INCOME_TOTAL                                      0.189799   \n",
       "AMT_CREDIT                                            0.099945   \n",
       "\n",
       "                  client_installments_AMT_GOODS_PRICE_max_max  \\\n",
       "CNT_CHILDREN                                         0.056682   \n",
       "AMT_INCOME_TOTAL                                     0.189799   \n",
       "AMT_CREDIT                                           0.099945   \n",
       "\n",
       "                  client_installments_AMT_GOODS_PRICE_min_max  \\\n",
       "CNT_CHILDREN                                         0.056682   \n",
       "AMT_INCOME_TOTAL                                     0.189799   \n",
       "AMT_CREDIT                                           0.099945   \n",
       "\n",
       "                  client_installments_AMT_APPLICATION_sum_sum  \\\n",
       "CNT_CHILDREN                                         0.053468   \n",
       "AMT_INCOME_TOTAL                                     0.125011   \n",
       "AMT_CREDIT                                           0.025936   \n",
       "\n",
       "                  client_installments_AMT_GOODS_PRICE_sum_sum  \n",
       "CNT_CHILDREN                                         0.053482  \n",
       "AMT_INCOME_TOTAL                                     0.138617  \n",
       "AMT_CREDIT                                           0.036526  \n",
       "\n",
       "[3 rows x 1818 columns]"
      ]
     },
     "execution_count": 109,
     "metadata": {},
     "output_type": "execute_result"
    }
   ],
   "source": [
    "# /!\\ long computation time, almost 1h /!\\\n",
    "\n",
    "start_time = timeit.default_timer() # start timer\n",
    "corr_matrix = train.corr().abs() # absolute correlation matrix\n",
    "time_elapsed = round((timeit.default_timer() - start_time)/60,2) # stop timer\n",
    "\n",
    "print('Total computing time: %d minutes' % time_elapsed)\n",
    "corr_matrix.head(3)"
   ]
  },
  {
   "cell_type": "code",
   "execution_count": 110,
   "metadata": {},
   "outputs": [
    {
     "data": {
      "text/html": [
       "<div>\n",
       "<style scoped>\n",
       "    .dataframe tbody tr th:only-of-type {\n",
       "        vertical-align: middle;\n",
       "    }\n",
       "\n",
       "    .dataframe tbody tr th {\n",
       "        vertical-align: top;\n",
       "    }\n",
       "\n",
       "    .dataframe thead th {\n",
       "        text-align: right;\n",
       "    }\n",
       "</style>\n",
       "<table border=\"1\" class=\"dataframe\">\n",
       "  <thead>\n",
       "    <tr style=\"text-align: right;\">\n",
       "      <th></th>\n",
       "      <th>CNT_CHILDREN</th>\n",
       "      <th>AMT_INCOME_TOTAL</th>\n",
       "      <th>AMT_CREDIT</th>\n",
       "      <th>AMT_ANNUITY</th>\n",
       "      <th>AMT_GOODS_PRICE</th>\n",
       "      <th>REGION_POPULATION_RELATIVE</th>\n",
       "      <th>DAYS_BIRTH</th>\n",
       "      <th>DAYS_EMPLOYED</th>\n",
       "      <th>DAYS_REGISTRATION</th>\n",
       "      <th>DAYS_ID_PUBLISH</th>\n",
       "      <th>...</th>\n",
       "      <th>client_installments_AMT_APPLICATION_sum_max</th>\n",
       "      <th>client_installments_AMT_APPLICATION_mean_max</th>\n",
       "      <th>client_installments_AMT_APPLICATION_max_max</th>\n",
       "      <th>client_installments_AMT_APPLICATION_min_max</th>\n",
       "      <th>client_installments_AMT_GOODS_PRICE_sum_max</th>\n",
       "      <th>client_installments_AMT_GOODS_PRICE_mean_max</th>\n",
       "      <th>client_installments_AMT_GOODS_PRICE_max_max</th>\n",
       "      <th>client_installments_AMT_GOODS_PRICE_min_max</th>\n",
       "      <th>client_installments_AMT_APPLICATION_sum_sum</th>\n",
       "      <th>client_installments_AMT_GOODS_PRICE_sum_sum</th>\n",
       "    </tr>\n",
       "  </thead>\n",
       "  <tbody>\n",
       "    <tr>\n",
       "      <th>CNT_CHILDREN</th>\n",
       "      <td>NaN</td>\n",
       "      <td>0.028206</td>\n",
       "      <td>0.002658</td>\n",
       "      <td>0.022715</td>\n",
       "      <td>0.001084</td>\n",
       "      <td>0.025630</td>\n",
       "      <td>0.337901</td>\n",
       "      <td>0.022380</td>\n",
       "      <td>0.185402</td>\n",
       "      <td>0.028364</td>\n",
       "      <td>...</td>\n",
       "      <td>0.059350</td>\n",
       "      <td>0.059709</td>\n",
       "      <td>0.059709</td>\n",
       "      <td>0.059709</td>\n",
       "      <td>0.055552</td>\n",
       "      <td>0.056682</td>\n",
       "      <td>0.056682</td>\n",
       "      <td>0.056682</td>\n",
       "      <td>0.053468</td>\n",
       "      <td>0.053482</td>\n",
       "    </tr>\n",
       "    <tr>\n",
       "      <th>AMT_INCOME_TOTAL</th>\n",
       "      <td>NaN</td>\n",
       "      <td>NaN</td>\n",
       "      <td>0.388399</td>\n",
       "      <td>0.462973</td>\n",
       "      <td>0.392785</td>\n",
       "      <td>0.178325</td>\n",
       "      <td>0.074193</td>\n",
       "      <td>0.048461</td>\n",
       "      <td>0.072063</td>\n",
       "      <td>0.026464</td>\n",
       "      <td>...</td>\n",
       "      <td>0.166677</td>\n",
       "      <td>0.171130</td>\n",
       "      <td>0.171130</td>\n",
       "      <td>0.171130</td>\n",
       "      <td>0.183661</td>\n",
       "      <td>0.189799</td>\n",
       "      <td>0.189799</td>\n",
       "      <td>0.189799</td>\n",
       "      <td>0.125011</td>\n",
       "      <td>0.138617</td>\n",
       "    </tr>\n",
       "    <tr>\n",
       "      <th>AMT_CREDIT</th>\n",
       "      <td>NaN</td>\n",
       "      <td>NaN</td>\n",
       "      <td>NaN</td>\n",
       "      <td>0.779190</td>\n",
       "      <td>0.986196</td>\n",
       "      <td>0.093136</td>\n",
       "      <td>0.057547</td>\n",
       "      <td>0.097782</td>\n",
       "      <td>0.008454</td>\n",
       "      <td>0.005467</td>\n",
       "      <td>...</td>\n",
       "      <td>0.085164</td>\n",
       "      <td>0.088825</td>\n",
       "      <td>0.088825</td>\n",
       "      <td>0.088825</td>\n",
       "      <td>0.095290</td>\n",
       "      <td>0.099945</td>\n",
       "      <td>0.099945</td>\n",
       "      <td>0.099945</td>\n",
       "      <td>0.025936</td>\n",
       "      <td>0.036526</td>\n",
       "    </tr>\n",
       "  </tbody>\n",
       "</table>\n",
       "<p>3 rows × 1818 columns</p>\n",
       "</div>"
      ],
      "text/plain": [
       "                  CNT_CHILDREN  AMT_INCOME_TOTAL  AMT_CREDIT  AMT_ANNUITY  \\\n",
       "CNT_CHILDREN               NaN          0.028206    0.002658     0.022715   \n",
       "AMT_INCOME_TOTAL           NaN               NaN    0.388399     0.462973   \n",
       "AMT_CREDIT                 NaN               NaN         NaN     0.779190   \n",
       "\n",
       "                  AMT_GOODS_PRICE  REGION_POPULATION_RELATIVE  DAYS_BIRTH  \\\n",
       "CNT_CHILDREN             0.001084                    0.025630    0.337901   \n",
       "AMT_INCOME_TOTAL         0.392785                    0.178325    0.074193   \n",
       "AMT_CREDIT               0.986196                    0.093136    0.057547   \n",
       "\n",
       "                  DAYS_EMPLOYED  DAYS_REGISTRATION  DAYS_ID_PUBLISH  ...  \\\n",
       "CNT_CHILDREN           0.022380           0.185402         0.028364  ...   \n",
       "AMT_INCOME_TOTAL       0.048461           0.072063         0.026464  ...   \n",
       "AMT_CREDIT             0.097782           0.008454         0.005467  ...   \n",
       "\n",
       "                  client_installments_AMT_APPLICATION_sum_max  \\\n",
       "CNT_CHILDREN                                         0.059350   \n",
       "AMT_INCOME_TOTAL                                     0.166677   \n",
       "AMT_CREDIT                                           0.085164   \n",
       "\n",
       "                  client_installments_AMT_APPLICATION_mean_max  \\\n",
       "CNT_CHILDREN                                          0.059709   \n",
       "AMT_INCOME_TOTAL                                      0.171130   \n",
       "AMT_CREDIT                                            0.088825   \n",
       "\n",
       "                  client_installments_AMT_APPLICATION_max_max  \\\n",
       "CNT_CHILDREN                                         0.059709   \n",
       "AMT_INCOME_TOTAL                                     0.171130   \n",
       "AMT_CREDIT                                           0.088825   \n",
       "\n",
       "                  client_installments_AMT_APPLICATION_min_max  \\\n",
       "CNT_CHILDREN                                         0.059709   \n",
       "AMT_INCOME_TOTAL                                     0.171130   \n",
       "AMT_CREDIT                                           0.088825   \n",
       "\n",
       "                  client_installments_AMT_GOODS_PRICE_sum_max  \\\n",
       "CNT_CHILDREN                                         0.055552   \n",
       "AMT_INCOME_TOTAL                                     0.183661   \n",
       "AMT_CREDIT                                           0.095290   \n",
       "\n",
       "                  client_installments_AMT_GOODS_PRICE_mean_max  \\\n",
       "CNT_CHILDREN                                          0.056682   \n",
       "AMT_INCOME_TOTAL                                      0.189799   \n",
       "AMT_CREDIT                                            0.099945   \n",
       "\n",
       "                  client_installments_AMT_GOODS_PRICE_max_max  \\\n",
       "CNT_CHILDREN                                         0.056682   \n",
       "AMT_INCOME_TOTAL                                     0.189799   \n",
       "AMT_CREDIT                                           0.099945   \n",
       "\n",
       "                  client_installments_AMT_GOODS_PRICE_min_max  \\\n",
       "CNT_CHILDREN                                         0.056682   \n",
       "AMT_INCOME_TOTAL                                     0.189799   \n",
       "AMT_CREDIT                                           0.099945   \n",
       "\n",
       "                  client_installments_AMT_APPLICATION_sum_sum  \\\n",
       "CNT_CHILDREN                                         0.053468   \n",
       "AMT_INCOME_TOTAL                                     0.125011   \n",
       "AMT_CREDIT                                           0.025936   \n",
       "\n",
       "                  client_installments_AMT_GOODS_PRICE_sum_sum  \n",
       "CNT_CHILDREN                                         0.053482  \n",
       "AMT_INCOME_TOTAL                                     0.138617  \n",
       "AMT_CREDIT                                           0.036526  \n",
       "\n",
       "[3 rows x 1818 columns]"
      ]
     },
     "execution_count": 110,
     "metadata": {},
     "output_type": "execute_result"
    }
   ],
   "source": [
    "# Upper triangle of correlations\n",
    "upper = corr_matrix.where(np.triu(np.ones(corr_matrix.shape), k=1).astype(np.bool))\n",
    "upper.head(3)"
   ]
  },
  {
   "cell_type": "code",
   "execution_count": 111,
   "metadata": {},
   "outputs": [],
   "source": [
    "# Threshold for removing correlated variables\n",
    "threshold = 0.9"
   ]
  },
  {
   "cell_type": "code",
   "execution_count": 112,
   "metadata": {},
   "outputs": [
    {
     "name": "stdout",
     "output_type": "stream",
     "text": [
      "There are 719 columns to remove.\n"
     ]
    }
   ],
   "source": [
    "# Select columns with correlations above threshold\n",
    "to_drop = [column for column in upper.columns if any(upper[column] > threshold)]\n",
    "print('There are %d columns to remove.' % (len(to_drop)))"
   ]
  },
  {
   "cell_type": "code",
   "execution_count": 113,
   "metadata": {},
   "outputs": [
    {
     "name": "stdout",
     "output_type": "stream",
     "text": [
      "Training shape:  (307511, 1099)\n",
      "Testing shape:  (48744, 1099)\n"
     ]
    }
   ],
   "source": [
    "# Drop Correlated Variables\n",
    "train = train.drop(columns = to_drop)\n",
    "test = test.drop(columns = to_drop)\n",
    "print('Training shape: ', train.shape)\n",
    "print('Testing shape: ', test.shape)"
   ]
  },
  {
   "cell_type": "code",
   "execution_count": 114,
   "metadata": {},
   "outputs": [],
   "source": [
    "# Restore of TARGET and SK_ID_CURR features\n",
    "train['TARGET'] = train_labels\n",
    "train['SK_ID_CURR'] = train_ids\n",
    "test['SK_ID_CURR'] = test_ids"
   ]
  },
  {
   "cell_type": "code",
   "execution_count": 57,
   "metadata": {},
   "outputs": [],
   "source": [
    "train_labels = train['TARGET']"
   ]
  },
  {
   "cell_type": "markdown",
   "metadata": {},
   "source": [
    "### Saving of the final bases"
   ]
  },
  {
   "cell_type": "markdown",
   "metadata": {},
   "source": [
    "At this stage it is better to save the bases in order to avoid any loss in case of modeling failure."
   ]
  },
  {
   "cell_type": "code",
   "execution_count": 115,
   "metadata": {},
   "outputs": [],
   "source": [
    "train.to_csv('train_LargeGlobalBase.csv', index = False)\n",
    "test.to_csv('test_LargeGlobalBase.csv', index = False)"
   ]
  },
  {
   "cell_type": "code",
   "execution_count": 15,
   "metadata": {},
   "outputs": [],
   "source": [
    "# Uncomment lines below if needed\n",
    "#train = pd.read_csv(os.path.abspath('train_LargeGlobalBase.csv'))\n",
    "#test = pd.read_csv(os.path.abspath('test_LargeGlobalBase.csv'))"
   ]
  },
  {
   "cell_type": "markdown",
   "metadata": {},
   "source": [
    "### Feature Selection through Feature Importances"
   ]
  },
  {
   "cell_type": "markdown",
   "metadata": {},
   "source": [
    "Last method of reduction developped here, the removing of features which are not relevant for our model. Some algorithmes (e.g. tree-based models) can determine an \"importance\" for each feature by measuring the reduction in impurity for including the feature in the model. The relative value of the importances can be used as an approximation of the \"relevance\" of different features in a model, and thus we can use the feature importances to remove features that the model does not consider particularly important.  \n",
    "\n",
    "Since we still don't know exactly which model we are going to use, we are going to make a first run with the application_train database and select the model which seems to give the best overall performance (accuracy of predictions, performance gap between training and validation, computing time). We cannot do it with the global base considering its extremely large size."
   ]
  },
  {
   "cell_type": "code",
   "execution_count": 46,
   "metadata": {},
   "outputs": [
    {
     "name": "stdout",
     "output_type": "stream",
     "text": [
      "Original Memory Usage: 0.3 gb.\n",
      "New Memory Usage: 0.11 gb.\n"
     ]
    }
   ],
   "source": [
    "# Reload application_train base in its initial form\n",
    "app_train = pd.read_csv(os.path.abspath('application_train.csv'))\n",
    "app_train = convert_types(app_train, print_info=True)"
   ]
  },
  {
   "cell_type": "code",
   "execution_count": 47,
   "metadata": {},
   "outputs": [
    {
     "name": "stdout",
     "output_type": "stream",
     "text": [
      "app_train data shape:  (307511, 122)\n"
     ]
    }
   ],
   "source": [
    "# Usual pre-treatment\n",
    "app_train=remove_365243(app_train,['DAYS_EMPLOYED'])\n",
    "app_train = remove_XNA(app_train, ['CODE_GENDER', 'ORGANIZATION_TYPE'])\n",
    "print('app_train data shape: ', app_train.shape)"
   ]
  },
  {
   "cell_type": "code",
   "execution_count": 48,
   "metadata": {},
   "outputs": [
    {
     "name": "stdout",
     "output_type": "stream",
     "text": [
      "app_train shape:  (307511, 244)\n"
     ]
    }
   ],
   "source": [
    "# One-hot encoding of categorical data\n",
    "app_train = pd.get_dummies(app_train)\n",
    "print('app_train shape: ', app_train.shape)"
   ]
  },
  {
   "cell_type": "code",
   "execution_count": 49,
   "metadata": {},
   "outputs": [],
   "source": [
    "# Missing values in app_train\n",
    "app_train_missing = (app_train.isnull().sum() / len(app_train)).sort_values(ascending = False)"
   ]
  },
  {
   "cell_type": "code",
   "execution_count": 50,
   "metadata": {},
   "outputs": [
    {
     "name": "stdout",
     "output_type": "stream",
     "text": [
      "There are 0 columns with more than 75% missing values.\n"
     ]
    }
   ],
   "source": [
    "# Identify missing values above threshold\n",
    "app_train_missing = app_train_missing.index[app_train_missing > 0.75]\n",
    "\n",
    "print('There are %d columns with more than 75%% missing values.' % len(app_train_missing))"
   ]
  },
  {
   "cell_type": "markdown",
   "metadata": {},
   "source": [
    "No action needed regarding the emptiness of the columns."
   ]
  },
  {
   "cell_type": "code",
   "execution_count": 51,
   "metadata": {},
   "outputs": [],
   "source": [
    "# Saving the current clients IDs and TARGET values\n",
    "app_train_ids = app_train['SK_ID_CURR']\n",
    "app_train_target = app_train['TARGET']"
   ]
  },
  {
   "cell_type": "code",
   "execution_count": 52,
   "metadata": {},
   "outputs": [],
   "source": [
    "# Momentary drop of IDs and targets\n",
    "app_train = app_train.drop(columns=['SK_ID_CURR'])\n",
    "app_train = app_train.drop(columns=['TARGET'])"
   ]
  },
  {
   "cell_type": "code",
   "execution_count": 53,
   "metadata": {},
   "outputs": [
    {
     "name": "stdout",
     "output_type": "stream",
     "text": [
      "Total computing time: 1.05 minutes\n"
     ]
    }
   ],
   "source": [
    "# Calculation of correlations\n",
    "start_time = timeit.default_timer() # start timer\n",
    "corr_matrix = app_train.corr().abs() # absolute correlation matrix\n",
    "time_elapsed = round((timeit.default_timer() - start_time)/60,2) # stop timer\n",
    "print('Total computing time: %0.2f minutes' % time_elapsed)"
   ]
  },
  {
   "cell_type": "code",
   "execution_count": 54,
   "metadata": {},
   "outputs": [],
   "source": [
    "# Upper triangle of correlations\n",
    "upper = corr_matrix.where(np.triu(np.ones(corr_matrix.shape), k=1).astype(np.bool))"
   ]
  },
  {
   "cell_type": "code",
   "execution_count": 55,
   "metadata": {},
   "outputs": [],
   "source": [
    "# Threshold for removing correlated variables\n",
    "threshold = 0.9"
   ]
  },
  {
   "cell_type": "code",
   "execution_count": 56,
   "metadata": {},
   "outputs": [
    {
     "name": "stdout",
     "output_type": "stream",
     "text": [
      "There are 40 columns to remove.\n"
     ]
    }
   ],
   "source": [
    "# Select columns with correlations above threshold\n",
    "to_drop = [column for column in upper.columns if any(upper[column] > threshold)]\n",
    "print('There are %d columns to remove.' % (len(to_drop)))"
   ]
  },
  {
   "cell_type": "code",
   "execution_count": 57,
   "metadata": {},
   "outputs": [
    {
     "name": "stdout",
     "output_type": "stream",
     "text": [
      "['AMT_GOODS_PRICE', 'REGION_RATING_CLIENT_W_CITY', 'LIVINGAPARTMENTS_AVG', 'LIVINGAREA_AVG', 'APARTMENTS_MODE', 'BASEMENTAREA_MODE', 'YEARS_BEGINEXPLUATATION_MODE', 'YEARS_BUILD_MODE', 'COMMONAREA_MODE', 'ELEVATORS_MODE', 'ENTRANCES_MODE', 'FLOORSMAX_MODE', 'FLOORSMIN_MODE', 'LANDAREA_MODE', 'LIVINGAPARTMENTS_MODE', 'LIVINGAREA_MODE', 'NONLIVINGAPARTMENTS_MODE', 'NONLIVINGAREA_MODE', 'APARTMENTS_MEDI', 'BASEMENTAREA_MEDI', 'YEARS_BEGINEXPLUATATION_MEDI', 'YEARS_BUILD_MEDI', 'COMMONAREA_MEDI', 'ELEVATORS_MEDI', 'ENTRANCES_MEDI', 'FLOORSMAX_MEDI', 'FLOORSMIN_MEDI', 'LANDAREA_MEDI', 'LIVINGAPARTMENTS_MEDI', 'LIVINGAREA_MEDI', 'NONLIVINGAPARTMENTS_MEDI', 'NONLIVINGAREA_MEDI', 'TOTALAREA_MODE', 'OBS_60_CNT_SOCIAL_CIRCLE', 'NAME_CONTRACT_TYPE_Revolving loans', 'CODE_GENDER_M', 'FLAG_OWN_CAR_Y', 'FLAG_OWN_REALTY_Y', 'NAME_INCOME_TYPE_Pensioner', 'EMERGENCYSTATE_MODE_No']\n"
     ]
    }
   ],
   "source": [
    "print(to_drop)"
   ]
  },
  {
   "cell_type": "code",
   "execution_count": 58,
   "metadata": {},
   "outputs": [
    {
     "name": "stdout",
     "output_type": "stream",
     "text": [
      "app_train shape:  (307511, 202)\n"
     ]
    }
   ],
   "source": [
    "# Drop Correlated Variables\n",
    "app_train.drop(columns = to_drop, inplace=True)\n",
    "print('app_train shape: ', app_train.shape)"
   ]
  },
  {
   "cell_type": "code",
   "execution_count": 59,
   "metadata": {},
   "outputs": [],
   "source": [
    "# Restore of TARGET and SK_ID_CURR features\n",
    "app_train['TARGET'] = app_train_target\n",
    "app_train['SK_ID_CURR'] = app_train_ids"
   ]
  },
  {
   "cell_type": "markdown",
   "metadata": {},
   "source": [
    "We now have a cleaned base for the various models. We will be able to select more quickly the model to use for the last phase of feature selection. "
   ]
  },
  {
   "cell_type": "code",
   "execution_count": 20,
   "metadata": {},
   "outputs": [],
   "source": [
    "# Tools from Scikitlearn\n",
    "from sklearn.impute import SimpleImputer\n",
    "from sklearn.preprocessing import MinMaxScaler\n",
    "from sklearn.model_selection import train_test_split\n",
    "from sklearn.model_selection import KFold\n",
    "from sklearn.metrics import roc_auc_score"
   ]
  },
  {
   "cell_type": "code",
   "execution_count": 21,
   "metadata": {},
   "outputs": [],
   "source": [
    "def run_experiment(model_input, data, feat_imp = False, n_folds = 5):\n",
    "    \n",
    "    \"\"\"\n",
    "    Train and evaluate a model using cross validation.\n",
    "    Give the features importances if desired.\n",
    "    \n",
    "    Parameters\n",
    "    --------\n",
    "        features (pd.DataFrame): \n",
    "            dataframe of training features to use \n",
    "            for training a model. Must include the TARGET column.\n",
    "        n_folds (int, default = 5): number of folds to use for cross validation\n",
    "        \n",
    "    Return\n",
    "    --------\n",
    "        feature_importances (pd.DataFrame) if parameter set 'True': \n",
    "            dataframe with the feature importances from the model.\n",
    "        valid_metrics (pd.DataFrame): \n",
    "            dataframe with training and validation metrics (ROC AUC) for each fold and overall.\n",
    "        \n",
    "    \"\"\"\n",
    "    \n",
    "    # Extract the ids\n",
    "    ids = data['SK_ID_CURR']\n",
    "    \n",
    "    # Extract the labels for training\n",
    "    labels = data['TARGET']\n",
    "    \n",
    "    # Remove the ids and target\n",
    "    data = data.drop(columns = ['SK_ID_CURR', 'TARGET'])\n",
    "\n",
    "    # Extract feature names\n",
    "    feature_names = list(data.columns)\n",
    "    \n",
    "    # Median imputation of missing values\n",
    "    imputer = SimpleImputer(missing_values=np.nan, strategy='median')\n",
    "    # Transform training data\n",
    "    data = imputer.fit_transform(data)\n",
    "\n",
    "    # Scale the features\n",
    "    scaler = MinMaxScaler(feature_range = (0, 1))\n",
    "    # Transform training data\n",
    "    data = scaler.fit_transform(data)\n",
    "\n",
    "    # Create the kfold object\n",
    "    k_fold = KFold(n_splits = n_folds, random_state = 0, shuffle = True)\n",
    "    \n",
    "    if feat_imp == True:\n",
    "        # Empty array for feature importances\n",
    "        feature_importance_values = np.zeros(len(feature_names))\n",
    "    else:\n",
    "        pass\n",
    "   \n",
    "    # Empty lists for scores\n",
    "    train_scores = list()\n",
    "    valid_scores = list()\n",
    "\n",
    "    # Iterate through each fold\n",
    "    for train_indices, valid_indices in k_fold.split(data):\n",
    "        \n",
    "        # Training data for the fold\n",
    "        train_features, train_labels = data[train_indices], labels[train_indices]\n",
    "        \n",
    "        # Validation data for the fold\n",
    "        valid_features, valid_labels = data[valid_indices], labels[valid_indices]\n",
    "        \n",
    "        # Call the model\n",
    "        model=model_input\n",
    "        \n",
    "        # Train the model\n",
    "        model.fit(train_features, train_labels)\n",
    "\n",
    "        if feat_imp == True:\n",
    "            # Record the feature importances\n",
    "            feature_importance_values += model.feature_importances_ / k_fold.n_splits\n",
    "        else:\n",
    "            pass\n",
    "        \n",
    "        # Make train/valid predictions\n",
    "        train_predictions = model.predict_proba(train_features)[:, 1]\n",
    "        valid_predictions = model.predict_proba(valid_features)[:, 1]\n",
    "        \n",
    "        # Compute roc_auc scores\n",
    "        train_score = roc_auc_score(train_labels, train_predictions)\n",
    "        valid_score = roc_auc_score(valid_labels, valid_predictions)\n",
    "                \n",
    "        # Record the scores of the fold\n",
    "        train_scores.append(train_score)\n",
    "        valid_scores.append(valid_score)\n",
    "\n",
    "        # Clean up memory\n",
    "        gc.enable()\n",
    "        del model, train_features, valid_features\n",
    "        gc.collect   \n",
    "    \n",
    "    if feat_imp == True:\n",
    "        # Make the feature importance dataframe\n",
    "        feature_importances = pd.DataFrame({'feature': feature_names, 'importance': feature_importance_values})\n",
    "    else:\n",
    "        pass\n",
    "        \n",
    "    # Add the overall scores to the metrics\n",
    "    valid_scores.append(np.mean(valid_scores))\n",
    "    train_scores.append(np.mean(train_scores))\n",
    "    \n",
    "    # Needed for creating dataframe of validation scores\n",
    "    fold_names = list(range(n_folds))\n",
    "    fold_names.append('overall')\n",
    "    \n",
    "    # Dataframe of validation scores\n",
    "    metrics = pd.DataFrame({'fold': fold_names,\n",
    "                            'train': train_scores,\n",
    "                            'valid': valid_scores})\n",
    "    \n",
    "    if feat_imp == True:\n",
    "        return feature_importances, metrics\n",
    "    else:\n",
    "        return metrics"
   ]
  },
  {
   "cell_type": "markdown",
   "metadata": {},
   "source": [
    "As we are going to need a model including the predict_proba and feature_importances methods, the panel of models is already reduced to:  \n",
    "- AdaBoostClassifier   \n",
    "- GardientBoostingClassifier  \n",
    "- LGBMClassifier\n",
    "- DecisionTreeClassifier  \n",
    "- RandomForestClassifier  \n",
    "- ExtraTreesClassifier  \n",
    "\n",
    "For convenience we will keep the default values for the models hyperparameters. The only one that will be explicitly set will be the random_state for reproducibility reasons. To save computing time we will set the number of folds to 3 (for afterwards deeper investigations it will be reset to 5)."
   ]
  },
  {
   "cell_type": "markdown",
   "metadata": {},
   "source": [
    "#### AdaBoostClassifier"
   ]
  },
  {
   "cell_type": "code",
   "execution_count": 77,
   "metadata": {},
   "outputs": [],
   "source": [
    "from sklearn.ensemble import AdaBoostClassifier"
   ]
  },
  {
   "cell_type": "code",
   "execution_count": 78,
   "metadata": {},
   "outputs": [],
   "source": [
    "adaboost = AdaBoostClassifier(random_state=0)"
   ]
  },
  {
   "cell_type": "code",
   "execution_count": 79,
   "metadata": {},
   "outputs": [
    {
     "name": "stdout",
     "output_type": "stream",
     "text": [
      "Total computing time: 3.99 minutes\n"
     ]
    }
   ],
   "source": [
    "start_time = timeit.default_timer()\n",
    "\n",
    "# Training and testing of the model\n",
    "metrics = run_experiment(adaboost, app_train, n_folds = 3)\n",
    "\n",
    "time_elapsed = round((timeit.default_timer() - start_time)/60,2)\n",
    "print('Total computing time: %0.2f minutes' % time_elapsed)"
   ]
  },
  {
   "cell_type": "code",
   "execution_count": 80,
   "metadata": {},
   "outputs": [
    {
     "data": {
      "text/html": [
       "<div>\n",
       "<style scoped>\n",
       "    .dataframe tbody tr th:only-of-type {\n",
       "        vertical-align: middle;\n",
       "    }\n",
       "\n",
       "    .dataframe tbody tr th {\n",
       "        vertical-align: top;\n",
       "    }\n",
       "\n",
       "    .dataframe thead th {\n",
       "        text-align: right;\n",
       "    }\n",
       "</style>\n",
       "<table border=\"1\" class=\"dataframe\">\n",
       "  <thead>\n",
       "    <tr style=\"text-align: right;\">\n",
       "      <th></th>\n",
       "      <th>fold</th>\n",
       "      <th>train</th>\n",
       "      <th>valid</th>\n",
       "    </tr>\n",
       "  </thead>\n",
       "  <tbody>\n",
       "    <tr>\n",
       "      <th>0</th>\n",
       "      <td>0</td>\n",
       "      <td>0.745524</td>\n",
       "      <td>0.742043</td>\n",
       "    </tr>\n",
       "    <tr>\n",
       "      <th>1</th>\n",
       "      <td>1</td>\n",
       "      <td>0.746894</td>\n",
       "      <td>0.735719</td>\n",
       "    </tr>\n",
       "    <tr>\n",
       "      <th>2</th>\n",
       "      <td>2</td>\n",
       "      <td>0.745235</td>\n",
       "      <td>0.741821</td>\n",
       "    </tr>\n",
       "    <tr>\n",
       "      <th>3</th>\n",
       "      <td>overall</td>\n",
       "      <td>0.745884</td>\n",
       "      <td>0.739861</td>\n",
       "    </tr>\n",
       "  </tbody>\n",
       "</table>\n",
       "</div>"
      ],
      "text/plain": [
       "      fold     train     valid\n",
       "0        0  0.745524  0.742043\n",
       "1        1  0.746894  0.735719\n",
       "2        2  0.745235  0.741821\n",
       "3  overall  0.745884  0.739861"
      ]
     },
     "execution_count": 80,
     "metadata": {},
     "output_type": "execute_result"
    }
   ],
   "source": [
    "metrics"
   ]
  },
  {
   "cell_type": "markdown",
   "metadata": {},
   "source": [
    "#### GradientBoostingClassifier"
   ]
  },
  {
   "cell_type": "code",
   "execution_count": 81,
   "metadata": {},
   "outputs": [],
   "source": [
    "from sklearn.ensemble import GradientBoostingClassifier"
   ]
  },
  {
   "cell_type": "code",
   "execution_count": 82,
   "metadata": {},
   "outputs": [],
   "source": [
    "gradientboost = GradientBoostingClassifier(random_state=0)"
   ]
  },
  {
   "cell_type": "code",
   "execution_count": 83,
   "metadata": {},
   "outputs": [
    {
     "name": "stdout",
     "output_type": "stream",
     "text": [
      "Total computing time: 15.09 minutes\n"
     ]
    }
   ],
   "source": [
    "start_time = timeit.default_timer()\n",
    "\n",
    "# Training and testing of the model\n",
    "metrics = run_experiment(gradientboost, app_train, n_folds = 3)\n",
    "\n",
    "time_elapsed = round((timeit.default_timer() - start_time)/60,2)\n",
    "print('Total computing time: %0.2f minutes' % time_elapsed)"
   ]
  },
  {
   "cell_type": "code",
   "execution_count": 84,
   "metadata": {},
   "outputs": [
    {
     "data": {
      "text/html": [
       "<div>\n",
       "<style scoped>\n",
       "    .dataframe tbody tr th:only-of-type {\n",
       "        vertical-align: middle;\n",
       "    }\n",
       "\n",
       "    .dataframe tbody tr th {\n",
       "        vertical-align: top;\n",
       "    }\n",
       "\n",
       "    .dataframe thead th {\n",
       "        text-align: right;\n",
       "    }\n",
       "</style>\n",
       "<table border=\"1\" class=\"dataframe\">\n",
       "  <thead>\n",
       "    <tr style=\"text-align: right;\">\n",
       "      <th></th>\n",
       "      <th>fold</th>\n",
       "      <th>train</th>\n",
       "      <th>valid</th>\n",
       "    </tr>\n",
       "  </thead>\n",
       "  <tbody>\n",
       "    <tr>\n",
       "      <th>0</th>\n",
       "      <td>0</td>\n",
       "      <td>0.757279</td>\n",
       "      <td>0.749866</td>\n",
       "    </tr>\n",
       "    <tr>\n",
       "      <th>1</th>\n",
       "      <td>1</td>\n",
       "      <td>0.759555</td>\n",
       "      <td>0.746657</td>\n",
       "    </tr>\n",
       "    <tr>\n",
       "      <th>2</th>\n",
       "      <td>2</td>\n",
       "      <td>0.757865</td>\n",
       "      <td>0.750189</td>\n",
       "    </tr>\n",
       "    <tr>\n",
       "      <th>3</th>\n",
       "      <td>overall</td>\n",
       "      <td>0.758233</td>\n",
       "      <td>0.748904</td>\n",
       "    </tr>\n",
       "  </tbody>\n",
       "</table>\n",
       "</div>"
      ],
      "text/plain": [
       "      fold     train     valid\n",
       "0        0  0.757279  0.749866\n",
       "1        1  0.759555  0.746657\n",
       "2        2  0.757865  0.750189\n",
       "3  overall  0.758233  0.748904"
      ]
     },
     "execution_count": 84,
     "metadata": {},
     "output_type": "execute_result"
    }
   ],
   "source": [
    "metrics"
   ]
  },
  {
   "cell_type": "markdown",
   "metadata": {},
   "source": [
    "As a reminder, AdaBoost and GradientBoosting are very close to each other. In fact, AdadBoost is a special case of gradient boosting where the loss function is exponential and not binomial deviance. "
   ]
  },
  {
   "cell_type": "markdown",
   "metadata": {},
   "source": [
    "#### LGBMClassifier"
   ]
  },
  {
   "cell_type": "code",
   "execution_count": 16,
   "metadata": {},
   "outputs": [],
   "source": [
    "from lightgbm import LGBMClassifier"
   ]
  },
  {
   "cell_type": "code",
   "execution_count": 17,
   "metadata": {},
   "outputs": [],
   "source": [
    "lgbm = LGBMClassifier(random_state=0)"
   ]
  },
  {
   "cell_type": "code",
   "execution_count": 90,
   "metadata": {},
   "outputs": [
    {
     "name": "stdout",
     "output_type": "stream",
     "text": [
      "Total computing time: 0.46 minutes\n"
     ]
    }
   ],
   "source": [
    "start_time = timeit.default_timer()\n",
    "\n",
    "# Training and testing of the model\n",
    "metrics = run_experiment(lgbm, app_train, n_folds = 3)\n",
    "\n",
    "time_elapsed = round((timeit.default_timer() - start_time)/60,2)\n",
    "print('Total computing time: %0.2f minutes' % time_elapsed)"
   ]
  },
  {
   "cell_type": "code",
   "execution_count": 91,
   "metadata": {},
   "outputs": [
    {
     "data": {
      "text/html": [
       "<div>\n",
       "<style scoped>\n",
       "    .dataframe tbody tr th:only-of-type {\n",
       "        vertical-align: middle;\n",
       "    }\n",
       "\n",
       "    .dataframe tbody tr th {\n",
       "        vertical-align: top;\n",
       "    }\n",
       "\n",
       "    .dataframe thead th {\n",
       "        text-align: right;\n",
       "    }\n",
       "</style>\n",
       "<table border=\"1\" class=\"dataframe\">\n",
       "  <thead>\n",
       "    <tr style=\"text-align: right;\">\n",
       "      <th></th>\n",
       "      <th>fold</th>\n",
       "      <th>train</th>\n",
       "      <th>valid</th>\n",
       "    </tr>\n",
       "  </thead>\n",
       "  <tbody>\n",
       "    <tr>\n",
       "      <th>0</th>\n",
       "      <td>0</td>\n",
       "      <td>0.800924</td>\n",
       "      <td>0.753877</td>\n",
       "    </tr>\n",
       "    <tr>\n",
       "      <th>1</th>\n",
       "      <td>1</td>\n",
       "      <td>0.803511</td>\n",
       "      <td>0.749684</td>\n",
       "    </tr>\n",
       "    <tr>\n",
       "      <th>2</th>\n",
       "      <td>2</td>\n",
       "      <td>0.800598</td>\n",
       "      <td>0.753753</td>\n",
       "    </tr>\n",
       "    <tr>\n",
       "      <th>3</th>\n",
       "      <td>overall</td>\n",
       "      <td>0.801678</td>\n",
       "      <td>0.752438</td>\n",
       "    </tr>\n",
       "  </tbody>\n",
       "</table>\n",
       "</div>"
      ],
      "text/plain": [
       "      fold     train     valid\n",
       "0        0  0.800924  0.753877\n",
       "1        1  0.803511  0.749684\n",
       "2        2  0.800598  0.753753\n",
       "3  overall  0.801678  0.752438"
      ]
     },
     "execution_count": 91,
     "metadata": {},
     "output_type": "execute_result"
    }
   ],
   "source": [
    "metrics"
   ]
  },
  {
   "cell_type": "markdown",
   "metadata": {},
   "source": [
    "#### DecisionTreeClassifier"
   ]
  },
  {
   "cell_type": "code",
   "execution_count": 92,
   "metadata": {},
   "outputs": [],
   "source": [
    "from sklearn.tree import DecisionTreeClassifier"
   ]
  },
  {
   "cell_type": "code",
   "execution_count": 93,
   "metadata": {},
   "outputs": [],
   "source": [
    "decisiontree = DecisionTreeClassifier(random_state=0)"
   ]
  },
  {
   "cell_type": "code",
   "execution_count": 94,
   "metadata": {},
   "outputs": [
    {
     "name": "stdout",
     "output_type": "stream",
     "text": [
      "Total computing time: 1.17 minutes\n"
     ]
    }
   ],
   "source": [
    "start_time = timeit.default_timer()\n",
    "\n",
    "# Training and testing of the model\n",
    "metrics = run_experiment(decisiontree, app_train, n_folds = 3)\n",
    "\n",
    "time_elapsed = round((timeit.default_timer() - start_time)/60,2)\n",
    "print('Total computing time: %0.2f minutes' % time_elapsed)"
   ]
  },
  {
   "cell_type": "code",
   "execution_count": 95,
   "metadata": {},
   "outputs": [
    {
     "data": {
      "text/html": [
       "<div>\n",
       "<style scoped>\n",
       "    .dataframe tbody tr th:only-of-type {\n",
       "        vertical-align: middle;\n",
       "    }\n",
       "\n",
       "    .dataframe tbody tr th {\n",
       "        vertical-align: top;\n",
       "    }\n",
       "\n",
       "    .dataframe thead th {\n",
       "        text-align: right;\n",
       "    }\n",
       "</style>\n",
       "<table border=\"1\" class=\"dataframe\">\n",
       "  <thead>\n",
       "    <tr style=\"text-align: right;\">\n",
       "      <th></th>\n",
       "      <th>fold</th>\n",
       "      <th>train</th>\n",
       "      <th>valid</th>\n",
       "    </tr>\n",
       "  </thead>\n",
       "  <tbody>\n",
       "    <tr>\n",
       "      <th>0</th>\n",
       "      <td>0</td>\n",
       "      <td>1.0</td>\n",
       "      <td>0.538920</td>\n",
       "    </tr>\n",
       "    <tr>\n",
       "      <th>1</th>\n",
       "      <td>1</td>\n",
       "      <td>1.0</td>\n",
       "      <td>0.536554</td>\n",
       "    </tr>\n",
       "    <tr>\n",
       "      <th>2</th>\n",
       "      <td>2</td>\n",
       "      <td>1.0</td>\n",
       "      <td>0.536617</td>\n",
       "    </tr>\n",
       "    <tr>\n",
       "      <th>3</th>\n",
       "      <td>overall</td>\n",
       "      <td>1.0</td>\n",
       "      <td>0.537364</td>\n",
       "    </tr>\n",
       "  </tbody>\n",
       "</table>\n",
       "</div>"
      ],
      "text/plain": [
       "      fold  train     valid\n",
       "0        0    1.0  0.538920\n",
       "1        1    1.0  0.536554\n",
       "2        2    1.0  0.536617\n",
       "3  overall    1.0  0.537364"
      ]
     },
     "execution_count": 95,
     "metadata": {},
     "output_type": "execute_result"
    }
   ],
   "source": [
    "metrics"
   ]
  },
  {
   "cell_type": "markdown",
   "metadata": {},
   "source": [
    "#### RandomForestClassifier"
   ]
  },
  {
   "cell_type": "code",
   "execution_count": 96,
   "metadata": {},
   "outputs": [],
   "source": [
    "from sklearn.ensemble import RandomForestClassifier"
   ]
  },
  {
   "cell_type": "code",
   "execution_count": 97,
   "metadata": {},
   "outputs": [],
   "source": [
    "randomforest = RandomForestClassifier(random_state=0)"
   ]
  },
  {
   "cell_type": "code",
   "execution_count": 98,
   "metadata": {},
   "outputs": [
    {
     "name": "stdout",
     "output_type": "stream",
     "text": [
      "Total computing time: 4.72 minutes\n"
     ]
    }
   ],
   "source": [
    "start_time = timeit.default_timer()\n",
    "\n",
    "# Training and testing of the model\n",
    "metrics = run_experiment(randomforest, app_train, n_folds = 3)\n",
    "\n",
    "time_elapsed = round((timeit.default_timer() - start_time)/60,2)\n",
    "print('Total computing time: %0.2f minutes' % time_elapsed)"
   ]
  },
  {
   "cell_type": "code",
   "execution_count": 99,
   "metadata": {},
   "outputs": [
    {
     "data": {
      "text/html": [
       "<div>\n",
       "<style scoped>\n",
       "    .dataframe tbody tr th:only-of-type {\n",
       "        vertical-align: middle;\n",
       "    }\n",
       "\n",
       "    .dataframe tbody tr th {\n",
       "        vertical-align: top;\n",
       "    }\n",
       "\n",
       "    .dataframe thead th {\n",
       "        text-align: right;\n",
       "    }\n",
       "</style>\n",
       "<table border=\"1\" class=\"dataframe\">\n",
       "  <thead>\n",
       "    <tr style=\"text-align: right;\">\n",
       "      <th></th>\n",
       "      <th>fold</th>\n",
       "      <th>train</th>\n",
       "      <th>valid</th>\n",
       "    </tr>\n",
       "  </thead>\n",
       "  <tbody>\n",
       "    <tr>\n",
       "      <th>0</th>\n",
       "      <td>0</td>\n",
       "      <td>1.0</td>\n",
       "      <td>0.710888</td>\n",
       "    </tr>\n",
       "    <tr>\n",
       "      <th>1</th>\n",
       "      <td>1</td>\n",
       "      <td>1.0</td>\n",
       "      <td>0.714071</td>\n",
       "    </tr>\n",
       "    <tr>\n",
       "      <th>2</th>\n",
       "      <td>2</td>\n",
       "      <td>1.0</td>\n",
       "      <td>0.712971</td>\n",
       "    </tr>\n",
       "    <tr>\n",
       "      <th>3</th>\n",
       "      <td>overall</td>\n",
       "      <td>1.0</td>\n",
       "      <td>0.712643</td>\n",
       "    </tr>\n",
       "  </tbody>\n",
       "</table>\n",
       "</div>"
      ],
      "text/plain": [
       "      fold  train     valid\n",
       "0        0    1.0  0.710888\n",
       "1        1    1.0  0.714071\n",
       "2        2    1.0  0.712971\n",
       "3  overall    1.0  0.712643"
      ]
     },
     "execution_count": 99,
     "metadata": {},
     "output_type": "execute_result"
    }
   ],
   "source": [
    "metrics"
   ]
  },
  {
   "cell_type": "markdown",
   "metadata": {},
   "source": [
    "Against all expectations it seems that Random Forest is leading to a case of over-fitting. This type of model has yet the reputation of avoiding it by combining trees. "
   ]
  },
  {
   "cell_type": "markdown",
   "metadata": {},
   "source": [
    "#### ExtraTreeClassifier"
   ]
  },
  {
   "cell_type": "code",
   "execution_count": 100,
   "metadata": {},
   "outputs": [],
   "source": [
    "from sklearn.ensemble import ExtraTreesClassifier"
   ]
  },
  {
   "cell_type": "code",
   "execution_count": 104,
   "metadata": {},
   "outputs": [],
   "source": [
    "extratrees = ExtraTreesClassifier(random_state=0)"
   ]
  },
  {
   "cell_type": "code",
   "execution_count": 105,
   "metadata": {},
   "outputs": [
    {
     "name": "stdout",
     "output_type": "stream",
     "text": [
      "Total computing time: 5.30 minutes\n"
     ]
    }
   ],
   "source": [
    "start_time = timeit.default_timer()\n",
    "\n",
    "# Training and testing of the model\n",
    "metrics = run_experiment(extratrees, app_train, n_folds = 3)\n",
    "\n",
    "time_elapsed = round((timeit.default_timer() - start_time)/60,2)\n",
    "print('Total computing time: %0.2f minutes' % time_elapsed)"
   ]
  },
  {
   "cell_type": "code",
   "execution_count": 106,
   "metadata": {},
   "outputs": [
    {
     "data": {
      "text/html": [
       "<div>\n",
       "<style scoped>\n",
       "    .dataframe tbody tr th:only-of-type {\n",
       "        vertical-align: middle;\n",
       "    }\n",
       "\n",
       "    .dataframe tbody tr th {\n",
       "        vertical-align: top;\n",
       "    }\n",
       "\n",
       "    .dataframe thead th {\n",
       "        text-align: right;\n",
       "    }\n",
       "</style>\n",
       "<table border=\"1\" class=\"dataframe\">\n",
       "  <thead>\n",
       "    <tr style=\"text-align: right;\">\n",
       "      <th></th>\n",
       "      <th>fold</th>\n",
       "      <th>train</th>\n",
       "      <th>valid</th>\n",
       "    </tr>\n",
       "  </thead>\n",
       "  <tbody>\n",
       "    <tr>\n",
       "      <th>0</th>\n",
       "      <td>0</td>\n",
       "      <td>1.0</td>\n",
       "      <td>0.703030</td>\n",
       "    </tr>\n",
       "    <tr>\n",
       "      <th>1</th>\n",
       "      <td>1</td>\n",
       "      <td>1.0</td>\n",
       "      <td>0.701912</td>\n",
       "    </tr>\n",
       "    <tr>\n",
       "      <th>2</th>\n",
       "      <td>2</td>\n",
       "      <td>1.0</td>\n",
       "      <td>0.702189</td>\n",
       "    </tr>\n",
       "    <tr>\n",
       "      <th>3</th>\n",
       "      <td>overall</td>\n",
       "      <td>1.0</td>\n",
       "      <td>0.702377</td>\n",
       "    </tr>\n",
       "  </tbody>\n",
       "</table>\n",
       "</div>"
      ],
      "text/plain": [
       "      fold  train     valid\n",
       "0        0    1.0  0.703030\n",
       "1        1    1.0  0.701912\n",
       "2        2    1.0  0.702189\n",
       "3  overall    1.0  0.702377"
      ]
     },
     "execution_count": 106,
     "metadata": {},
     "output_type": "execute_result"
    }
   ],
   "source": [
    "metrics"
   ]
  },
  {
   "cell_type": "markdown",
   "metadata": {},
   "source": [
    "<ins>Observations:</ins>  \n",
    "We have models that clearly perform less well than others. The DecisionTreeClassifier model is among the fastest (with LGBMClassifier) but the test carried out on the validation base shows a very significant drop in performance compared to those obtained on the training base. A typical case of overfitting where the training is perfect but the validation almost as good as a random guess. RandomForestClassifier and ExtratreesClassifier have the same flaw although the results obtained on the validation base are better (the computation time is however much more important compared to the DecisionTreeClassifier).  \n",
    "\n",
    "On the other hand, we have models with more satisfactory performance that do not show overfitting. The main difference is in the computing time required. GradientBoostingClassifier is by far the slowest model, it takes about 15 minutes to complete the cross-validation. Adaboost is already doing much better with just about 4 minutes of computing. The best of the models remains LGBMClassifier with less than 30 seconds (the loss of performance between the training base and the validation base is however greater than that observed for AdaBoostClassifier).  \n",
    "\n",
    "In the light of these first results we will opt for the LightGradientBoostedMachine model (mainly for reasons of computation time). In order to improve the process we no longer consider 3 folds but 5 for the cross-validation. Since there are now much more features in the train dataset the time computation will be much greater as well."
   ]
  },
  {
   "cell_type": "code",
   "execution_count": 22,
   "metadata": {},
   "outputs": [
    {
     "name": "stdout",
     "output_type": "stream",
     "text": [
      "Total computing time: 12.48 minutes\n"
     ]
    }
   ],
   "source": [
    "start_time = timeit.default_timer()\n",
    "\n",
    "# Training and testing of the model\n",
    "feature_importances, metrics = run_experiment(lgbm, train, feat_imp = True, n_folds = 5)\n",
    "\n",
    "time_elapsed = round((timeit.default_timer() - start_time)/60,2)\n",
    "print('Total computing time: %0.2f minutes' % time_elapsed)"
   ]
  },
  {
   "cell_type": "code",
   "execution_count": 23,
   "metadata": {},
   "outputs": [
    {
     "data": {
      "text/html": [
       "<div>\n",
       "<style scoped>\n",
       "    .dataframe tbody tr th:only-of-type {\n",
       "        vertical-align: middle;\n",
       "    }\n",
       "\n",
       "    .dataframe tbody tr th {\n",
       "        vertical-align: top;\n",
       "    }\n",
       "\n",
       "    .dataframe thead th {\n",
       "        text-align: right;\n",
       "    }\n",
       "</style>\n",
       "<table border=\"1\" class=\"dataframe\">\n",
       "  <thead>\n",
       "    <tr style=\"text-align: right;\">\n",
       "      <th></th>\n",
       "      <th>fold</th>\n",
       "      <th>train</th>\n",
       "      <th>valid</th>\n",
       "    </tr>\n",
       "  </thead>\n",
       "  <tbody>\n",
       "    <tr>\n",
       "      <th>0</th>\n",
       "      <td>0</td>\n",
       "      <td>0.825131</td>\n",
       "      <td>0.778542</td>\n",
       "    </tr>\n",
       "    <tr>\n",
       "      <th>1</th>\n",
       "      <td>1</td>\n",
       "      <td>0.826593</td>\n",
       "      <td>0.777732</td>\n",
       "    </tr>\n",
       "    <tr>\n",
       "      <th>2</th>\n",
       "      <td>2</td>\n",
       "      <td>0.827429</td>\n",
       "      <td>0.770343</td>\n",
       "    </tr>\n",
       "    <tr>\n",
       "      <th>3</th>\n",
       "      <td>3</td>\n",
       "      <td>0.827624</td>\n",
       "      <td>0.774205</td>\n",
       "    </tr>\n",
       "    <tr>\n",
       "      <th>4</th>\n",
       "      <td>4</td>\n",
       "      <td>0.825952</td>\n",
       "      <td>0.775467</td>\n",
       "    </tr>\n",
       "    <tr>\n",
       "      <th>5</th>\n",
       "      <td>overall</td>\n",
       "      <td>0.826546</td>\n",
       "      <td>0.775257</td>\n",
       "    </tr>\n",
       "  </tbody>\n",
       "</table>\n",
       "</div>"
      ],
      "text/plain": [
       "      fold     train     valid\n",
       "0        0  0.825131  0.778542\n",
       "1        1  0.826593  0.777732\n",
       "2        2  0.827429  0.770343\n",
       "3        3  0.827624  0.774205\n",
       "4        4  0.825952  0.775467\n",
       "5  overall  0.826546  0.775257"
      ]
     },
     "execution_count": 23,
     "metadata": {},
     "output_type": "execute_result"
    }
   ],
   "source": [
    "metrics"
   ]
  },
  {
   "cell_type": "code",
   "execution_count": 24,
   "metadata": {},
   "outputs": [
    {
     "name": "stdout",
     "output_type": "stream",
     "text": [
      "There are 522 features with 0.0 importance\n"
     ]
    }
   ],
   "source": [
    "# Find the features with zero importance\n",
    "zero_features = list(feature_importances[feature_importances['importance'] == 0.0]['feature'])\n",
    "print('There are %i features with 0.0 importance' % len(zero_features))"
   ]
  },
  {
   "cell_type": "code",
   "execution_count": 25,
   "metadata": {},
   "outputs": [
    {
     "name": "stdout",
     "output_type": "stream",
     "text": [
      "train shape:  (307511, 579)\n"
     ]
    }
   ],
   "source": [
    "# Drop features with zero importance\n",
    "train = train.drop(columns = zero_features)\n",
    "print('train shape: ', train.shape)"
   ]
  },
  {
   "cell_type": "markdown",
   "metadata": {},
   "source": [
    "At this stage all the \"zero importance\" features have been removed. For verification we launch a second run with the reduced train dataset."
   ]
  },
  {
   "cell_type": "code",
   "execution_count": 26,
   "metadata": {},
   "outputs": [
    {
     "name": "stdout",
     "output_type": "stream",
     "text": [
      "Total computing time: 2.66 minutes\n"
     ]
    }
   ],
   "source": [
    "start_time = timeit.default_timer()\n",
    "\n",
    "# Training and testing of the model\n",
    "feature_importances, metrics = run_experiment(lgbm, train, feat_imp = True, n_folds = 5)\n",
    "\n",
    "time_elapsed = round((timeit.default_timer() - start_time)/60,2)\n",
    "print('Total computing time: %0.2f minutes' % time_elapsed)"
   ]
  },
  {
   "cell_type": "code",
   "execution_count": 27,
   "metadata": {},
   "outputs": [
    {
     "data": {
      "text/html": [
       "<div>\n",
       "<style scoped>\n",
       "    .dataframe tbody tr th:only-of-type {\n",
       "        vertical-align: middle;\n",
       "    }\n",
       "\n",
       "    .dataframe tbody tr th {\n",
       "        vertical-align: top;\n",
       "    }\n",
       "\n",
       "    .dataframe thead th {\n",
       "        text-align: right;\n",
       "    }\n",
       "</style>\n",
       "<table border=\"1\" class=\"dataframe\">\n",
       "  <thead>\n",
       "    <tr style=\"text-align: right;\">\n",
       "      <th></th>\n",
       "      <th>fold</th>\n",
       "      <th>train</th>\n",
       "      <th>valid</th>\n",
       "    </tr>\n",
       "  </thead>\n",
       "  <tbody>\n",
       "    <tr>\n",
       "      <th>0</th>\n",
       "      <td>0</td>\n",
       "      <td>0.826041</td>\n",
       "      <td>0.778040</td>\n",
       "    </tr>\n",
       "    <tr>\n",
       "      <th>1</th>\n",
       "      <td>1</td>\n",
       "      <td>0.825844</td>\n",
       "      <td>0.777861</td>\n",
       "    </tr>\n",
       "    <tr>\n",
       "      <th>2</th>\n",
       "      <td>2</td>\n",
       "      <td>0.826939</td>\n",
       "      <td>0.770811</td>\n",
       "    </tr>\n",
       "    <tr>\n",
       "      <th>3</th>\n",
       "      <td>3</td>\n",
       "      <td>0.827533</td>\n",
       "      <td>0.774627</td>\n",
       "    </tr>\n",
       "    <tr>\n",
       "      <th>4</th>\n",
       "      <td>4</td>\n",
       "      <td>0.827411</td>\n",
       "      <td>0.775125</td>\n",
       "    </tr>\n",
       "    <tr>\n",
       "      <th>5</th>\n",
       "      <td>overall</td>\n",
       "      <td>0.826754</td>\n",
       "      <td>0.775293</td>\n",
       "    </tr>\n",
       "  </tbody>\n",
       "</table>\n",
       "</div>"
      ],
      "text/plain": [
       "      fold     train     valid\n",
       "0        0  0.826041  0.778040\n",
       "1        1  0.825844  0.777861\n",
       "2        2  0.826939  0.770811\n",
       "3        3  0.827533  0.774627\n",
       "4        4  0.827411  0.775125\n",
       "5  overall  0.826754  0.775293"
      ]
     },
     "execution_count": 27,
     "metadata": {},
     "output_type": "execute_result"
    }
   ],
   "source": [
    "metrics"
   ]
  },
  {
   "cell_type": "code",
   "execution_count": 28,
   "metadata": {},
   "outputs": [
    {
     "name": "stdout",
     "output_type": "stream",
     "text": [
      "There are 43 features with 0.0 importance\n"
     ]
    }
   ],
   "source": [
    "# Find the features with zero importance\n",
    "zero_features = list(feature_importances[feature_importances['importance'] == 0.0]['feature'])\n",
    "print('There are %i features with 0.0 importance' % len(zero_features))"
   ]
  },
  {
   "cell_type": "markdown",
   "metadata": {},
   "source": [
    "It's indeed much quicker, without any loss of performance. More surprisingly there are still \"zero importance\" features despite the first deletion."
   ]
  },
  {
   "cell_type": "code",
   "execution_count": 29,
   "metadata": {},
   "outputs": [
    {
     "name": "stdout",
     "output_type": "stream",
     "text": [
      "train shape:  (307511, 536)\n"
     ]
    }
   ],
   "source": [
    "# Drop features with zero importance\n",
    "train = train.drop(columns = zero_features)\n",
    "print('train shape: ', train.shape)"
   ]
  },
  {
   "cell_type": "markdown",
   "metadata": {},
   "source": [
    "Third run with the last reduced train dataset."
   ]
  },
  {
   "cell_type": "code",
   "execution_count": 30,
   "metadata": {},
   "outputs": [
    {
     "name": "stdout",
     "output_type": "stream",
     "text": [
      "Total computing time: 2.53 minutes\n"
     ]
    }
   ],
   "source": [
    "start_time = timeit.default_timer()\n",
    "\n",
    "# Training and testing of the model\n",
    "feature_importances, metrics = run_experiment(lgbm, train, feat_imp = True, n_folds = 5)\n",
    "\n",
    "time_elapsed = round((timeit.default_timer() - start_time)/60,2)\n",
    "print('Total computing time: %0.2f minutes' % time_elapsed)"
   ]
  },
  {
   "cell_type": "code",
   "execution_count": 31,
   "metadata": {},
   "outputs": [
    {
     "data": {
      "text/html": [
       "<div>\n",
       "<style scoped>\n",
       "    .dataframe tbody tr th:only-of-type {\n",
       "        vertical-align: middle;\n",
       "    }\n",
       "\n",
       "    .dataframe tbody tr th {\n",
       "        vertical-align: top;\n",
       "    }\n",
       "\n",
       "    .dataframe thead th {\n",
       "        text-align: right;\n",
       "    }\n",
       "</style>\n",
       "<table border=\"1\" class=\"dataframe\">\n",
       "  <thead>\n",
       "    <tr style=\"text-align: right;\">\n",
       "      <th></th>\n",
       "      <th>fold</th>\n",
       "      <th>train</th>\n",
       "      <th>valid</th>\n",
       "    </tr>\n",
       "  </thead>\n",
       "  <tbody>\n",
       "    <tr>\n",
       "      <th>0</th>\n",
       "      <td>0</td>\n",
       "      <td>0.826571</td>\n",
       "      <td>0.778204</td>\n",
       "    </tr>\n",
       "    <tr>\n",
       "      <th>1</th>\n",
       "      <td>1</td>\n",
       "      <td>0.825844</td>\n",
       "      <td>0.777861</td>\n",
       "    </tr>\n",
       "    <tr>\n",
       "      <th>2</th>\n",
       "      <td>2</td>\n",
       "      <td>0.827255</td>\n",
       "      <td>0.770815</td>\n",
       "    </tr>\n",
       "    <tr>\n",
       "      <th>3</th>\n",
       "      <td>3</td>\n",
       "      <td>0.827533</td>\n",
       "      <td>0.774627</td>\n",
       "    </tr>\n",
       "    <tr>\n",
       "      <th>4</th>\n",
       "      <td>4</td>\n",
       "      <td>0.826706</td>\n",
       "      <td>0.775071</td>\n",
       "    </tr>\n",
       "    <tr>\n",
       "      <th>5</th>\n",
       "      <td>overall</td>\n",
       "      <td>0.826782</td>\n",
       "      <td>0.775316</td>\n",
       "    </tr>\n",
       "  </tbody>\n",
       "</table>\n",
       "</div>"
      ],
      "text/plain": [
       "      fold     train     valid\n",
       "0        0  0.826571  0.778204\n",
       "1        1  0.825844  0.777861\n",
       "2        2  0.827255  0.770815\n",
       "3        3  0.827533  0.774627\n",
       "4        4  0.826706  0.775071\n",
       "5  overall  0.826782  0.775316"
      ]
     },
     "execution_count": 31,
     "metadata": {},
     "output_type": "execute_result"
    }
   ],
   "source": [
    "metrics"
   ]
  },
  {
   "cell_type": "markdown",
   "metadata": {},
   "source": [
    "No loss in term of performance and a slightly better computation time. "
   ]
  },
  {
   "cell_type": "code",
   "execution_count": 32,
   "metadata": {},
   "outputs": [
    {
     "name": "stdout",
     "output_type": "stream",
     "text": [
      "There are 9 features with 0.0 importance\n"
     ]
    }
   ],
   "source": [
    "# Find the features with zero importance\n",
    "zero_features = list(feature_importances[feature_importances['importance'] == 0.0]['feature'])\n",
    "print('There are %i features with 0.0 importance' % len(zero_features))"
   ]
  },
  {
   "cell_type": "markdown",
   "metadata": {},
   "source": [
    "Again, some \"zero importance\" features still remain (that is surprising as well). Let's delete these features and re-run the process a fourth time."
   ]
  },
  {
   "cell_type": "code",
   "execution_count": 33,
   "metadata": {},
   "outputs": [
    {
     "name": "stdout",
     "output_type": "stream",
     "text": [
      "train shape:  (307511, 527)\n"
     ]
    }
   ],
   "source": [
    "# Drop features with zero importance\n",
    "train = train.drop(columns = zero_features)\n",
    "print('train shape: ', train.shape)"
   ]
  },
  {
   "cell_type": "code",
   "execution_count": 34,
   "metadata": {},
   "outputs": [
    {
     "name": "stdout",
     "output_type": "stream",
     "text": [
      "Total computing time: 2.23 minutes\n"
     ]
    }
   ],
   "source": [
    "start_time = timeit.default_timer()\n",
    "\n",
    "# Training and testing of the model\n",
    "feature_importances, metrics = run_experiment(lgbm, train, feat_imp = True, n_folds = 5)\n",
    "\n",
    "time_elapsed = round((timeit.default_timer() - start_time)/60,2)\n",
    "print('Total computing time: %0.2f minutes' % time_elapsed)"
   ]
  },
  {
   "cell_type": "code",
   "execution_count": 61,
   "metadata": {},
   "outputs": [
    {
     "data": {
      "text/html": [
       "<div>\n",
       "<style scoped>\n",
       "    .dataframe tbody tr th:only-of-type {\n",
       "        vertical-align: middle;\n",
       "    }\n",
       "\n",
       "    .dataframe tbody tr th {\n",
       "        vertical-align: top;\n",
       "    }\n",
       "\n",
       "    .dataframe thead th {\n",
       "        text-align: right;\n",
       "    }\n",
       "</style>\n",
       "<table border=\"1\" class=\"dataframe\">\n",
       "  <thead>\n",
       "    <tr style=\"text-align: right;\">\n",
       "      <th></th>\n",
       "      <th>fold</th>\n",
       "      <th>train</th>\n",
       "      <th>valid</th>\n",
       "    </tr>\n",
       "  </thead>\n",
       "  <tbody>\n",
       "    <tr>\n",
       "      <th>0</th>\n",
       "      <td>0</td>\n",
       "      <td>0.823802</td>\n",
       "      <td>0.778640</td>\n",
       "    </tr>\n",
       "    <tr>\n",
       "      <th>1</th>\n",
       "      <td>1</td>\n",
       "      <td>0.824518</td>\n",
       "      <td>0.778701</td>\n",
       "    </tr>\n",
       "    <tr>\n",
       "      <th>2</th>\n",
       "      <td>2</td>\n",
       "      <td>0.825634</td>\n",
       "      <td>0.771952</td>\n",
       "    </tr>\n",
       "    <tr>\n",
       "      <th>3</th>\n",
       "      <td>3</td>\n",
       "      <td>0.825431</td>\n",
       "      <td>0.777261</td>\n",
       "    </tr>\n",
       "    <tr>\n",
       "      <th>4</th>\n",
       "      <td>4</td>\n",
       "      <td>0.824913</td>\n",
       "      <td>0.776319</td>\n",
       "    </tr>\n",
       "    <tr>\n",
       "      <th>5</th>\n",
       "      <td>overall</td>\n",
       "      <td>0.824860</td>\n",
       "      <td>0.776575</td>\n",
       "    </tr>\n",
       "  </tbody>\n",
       "</table>\n",
       "</div>"
      ],
      "text/plain": [
       "      fold     train     valid\n",
       "0        0  0.823802  0.778640\n",
       "1        1  0.824518  0.778701\n",
       "2        2  0.825634  0.771952\n",
       "3        3  0.825431  0.777261\n",
       "4        4  0.824913  0.776319\n",
       "5  overall  0.824860  0.776575"
      ]
     },
     "execution_count": 61,
     "metadata": {},
     "output_type": "execute_result"
    }
   ],
   "source": [
    "metrics"
   ]
  },
  {
   "cell_type": "code",
   "execution_count": 35,
   "metadata": {},
   "outputs": [
    {
     "name": "stdout",
     "output_type": "stream",
     "text": [
      "There are 8 features with 0.0 importance.\n"
     ]
    }
   ],
   "source": [
    "# Find the features with zero importance\n",
    "zero_features = list(feature_importances[feature_importances['importance'] == 0.0]['feature'])\n",
    "print('There are %i features with 0.0 importance.' % len(zero_features))"
   ]
  },
  {
   "cell_type": "markdown",
   "metadata": {},
   "source": [
    "Still few \"zero importance\" features remaining."
   ]
  },
  {
   "cell_type": "code",
   "execution_count": 36,
   "metadata": {},
   "outputs": [
    {
     "name": "stdout",
     "output_type": "stream",
     "text": [
      "train shape:  (307511, 519)\n"
     ]
    }
   ],
   "source": [
    "# Drop features with zero importance\n",
    "train = train.drop(columns = zero_features)\n",
    "print('train shape: ', train.shape)"
   ]
  },
  {
   "cell_type": "code",
   "execution_count": 37,
   "metadata": {},
   "outputs": [
    {
     "name": "stdout",
     "output_type": "stream",
     "text": [
      "Total computing time: 2.15 minutes\n"
     ]
    }
   ],
   "source": [
    "start_time = timeit.default_timer()\n",
    "\n",
    "# Training and testing of the model\n",
    "feature_importances, metrics = run_experiment(lgbm, train, feat_imp = True, n_folds = 5)\n",
    "\n",
    "time_elapsed = round((timeit.default_timer() - start_time)/60,2)\n",
    "print('Total computing time: %0.2f minutes' % time_elapsed)"
   ]
  },
  {
   "cell_type": "code",
   "execution_count": 38,
   "metadata": {},
   "outputs": [
    {
     "data": {
      "text/html": [
       "<div>\n",
       "<style scoped>\n",
       "    .dataframe tbody tr th:only-of-type {\n",
       "        vertical-align: middle;\n",
       "    }\n",
       "\n",
       "    .dataframe tbody tr th {\n",
       "        vertical-align: top;\n",
       "    }\n",
       "\n",
       "    .dataframe thead th {\n",
       "        text-align: right;\n",
       "    }\n",
       "</style>\n",
       "<table border=\"1\" class=\"dataframe\">\n",
       "  <thead>\n",
       "    <tr style=\"text-align: right;\">\n",
       "      <th></th>\n",
       "      <th>fold</th>\n",
       "      <th>train</th>\n",
       "      <th>valid</th>\n",
       "    </tr>\n",
       "  </thead>\n",
       "  <tbody>\n",
       "    <tr>\n",
       "      <th>0</th>\n",
       "      <td>0</td>\n",
       "      <td>0.826341</td>\n",
       "      <td>0.779164</td>\n",
       "    </tr>\n",
       "    <tr>\n",
       "      <th>1</th>\n",
       "      <td>1</td>\n",
       "      <td>0.825844</td>\n",
       "      <td>0.777861</td>\n",
       "    </tr>\n",
       "    <tr>\n",
       "      <th>2</th>\n",
       "      <td>2</td>\n",
       "      <td>0.827167</td>\n",
       "      <td>0.770889</td>\n",
       "    </tr>\n",
       "    <tr>\n",
       "      <th>3</th>\n",
       "      <td>3</td>\n",
       "      <td>0.826908</td>\n",
       "      <td>0.775093</td>\n",
       "    </tr>\n",
       "    <tr>\n",
       "      <th>4</th>\n",
       "      <td>4</td>\n",
       "      <td>0.826838</td>\n",
       "      <td>0.775410</td>\n",
       "    </tr>\n",
       "    <tr>\n",
       "      <th>5</th>\n",
       "      <td>overall</td>\n",
       "      <td>0.826620</td>\n",
       "      <td>0.775684</td>\n",
       "    </tr>\n",
       "  </tbody>\n",
       "</table>\n",
       "</div>"
      ],
      "text/plain": [
       "      fold     train     valid\n",
       "0        0  0.826341  0.779164\n",
       "1        1  0.825844  0.777861\n",
       "2        2  0.827167  0.770889\n",
       "3        3  0.826908  0.775093\n",
       "4        4  0.826838  0.775410\n",
       "5  overall  0.826620  0.775684"
      ]
     },
     "execution_count": 38,
     "metadata": {},
     "output_type": "execute_result"
    }
   ],
   "source": [
    "metrics"
   ]
  },
  {
   "cell_type": "code",
   "execution_count": 39,
   "metadata": {},
   "outputs": [
    {
     "name": "stdout",
     "output_type": "stream",
     "text": [
      "There are 6 features with 0.0 importance.\n"
     ]
    }
   ],
   "source": [
    "# Find the features with zero importance\n",
    "zero_features = list(feature_importances[feature_importances['importance'] == 0.0]['feature'])\n",
    "print('There are %i features with 0.0 importance.' % len(zero_features))"
   ]
  },
  {
   "cell_type": "markdown",
   "metadata": {},
   "source": [
    "Again..."
   ]
  },
  {
   "cell_type": "code",
   "execution_count": 40,
   "metadata": {},
   "outputs": [
    {
     "name": "stdout",
     "output_type": "stream",
     "text": [
      "train shape:  (307511, 513)\n"
     ]
    }
   ],
   "source": [
    "# Drop features with zero importance\n",
    "train = train.drop(columns = zero_features)\n",
    "print('train shape: ', train.shape)"
   ]
  },
  {
   "cell_type": "code",
   "execution_count": 41,
   "metadata": {},
   "outputs": [
    {
     "name": "stdout",
     "output_type": "stream",
     "text": [
      "Total computing time: 2.18 minutes\n"
     ]
    }
   ],
   "source": [
    "start_time = timeit.default_timer()\n",
    "\n",
    "# Training and testing of the model\n",
    "feature_importances, metrics = run_experiment(lgbm, train, feat_imp = True, n_folds = 5)\n",
    "\n",
    "time_elapsed = round((timeit.default_timer() - start_time)/60,2)\n",
    "print('Total computing time: %0.2f minutes' % time_elapsed)"
   ]
  },
  {
   "cell_type": "code",
   "execution_count": 42,
   "metadata": {},
   "outputs": [
    {
     "data": {
      "text/html": [
       "<div>\n",
       "<style scoped>\n",
       "    .dataframe tbody tr th:only-of-type {\n",
       "        vertical-align: middle;\n",
       "    }\n",
       "\n",
       "    .dataframe tbody tr th {\n",
       "        vertical-align: top;\n",
       "    }\n",
       "\n",
       "    .dataframe thead th {\n",
       "        text-align: right;\n",
       "    }\n",
       "</style>\n",
       "<table border=\"1\" class=\"dataframe\">\n",
       "  <thead>\n",
       "    <tr style=\"text-align: right;\">\n",
       "      <th></th>\n",
       "      <th>fold</th>\n",
       "      <th>train</th>\n",
       "      <th>valid</th>\n",
       "    </tr>\n",
       "  </thead>\n",
       "  <tbody>\n",
       "    <tr>\n",
       "      <th>0</th>\n",
       "      <td>0</td>\n",
       "      <td>0.825702</td>\n",
       "      <td>0.779106</td>\n",
       "    </tr>\n",
       "    <tr>\n",
       "      <th>1</th>\n",
       "      <td>1</td>\n",
       "      <td>0.825845</td>\n",
       "      <td>0.777861</td>\n",
       "    </tr>\n",
       "    <tr>\n",
       "      <th>2</th>\n",
       "      <td>2</td>\n",
       "      <td>0.827167</td>\n",
       "      <td>0.770889</td>\n",
       "    </tr>\n",
       "    <tr>\n",
       "      <th>3</th>\n",
       "      <td>3</td>\n",
       "      <td>0.826908</td>\n",
       "      <td>0.775093</td>\n",
       "    </tr>\n",
       "    <tr>\n",
       "      <th>4</th>\n",
       "      <td>4</td>\n",
       "      <td>0.826529</td>\n",
       "      <td>0.774648</td>\n",
       "    </tr>\n",
       "    <tr>\n",
       "      <th>5</th>\n",
       "      <td>overall</td>\n",
       "      <td>0.826430</td>\n",
       "      <td>0.775520</td>\n",
       "    </tr>\n",
       "  </tbody>\n",
       "</table>\n",
       "</div>"
      ],
      "text/plain": [
       "      fold     train     valid\n",
       "0        0  0.825702  0.779106\n",
       "1        1  0.825845  0.777861\n",
       "2        2  0.827167  0.770889\n",
       "3        3  0.826908  0.775093\n",
       "4        4  0.826529  0.774648\n",
       "5  overall  0.826430  0.775520"
      ]
     },
     "execution_count": 42,
     "metadata": {},
     "output_type": "execute_result"
    }
   ],
   "source": [
    "metrics"
   ]
  },
  {
   "cell_type": "code",
   "execution_count": 43,
   "metadata": {},
   "outputs": [
    {
     "name": "stdout",
     "output_type": "stream",
     "text": [
      "There are 2 features with 0.0 importance.\n"
     ]
    }
   ],
   "source": [
    "# Find the features with zero importance\n",
    "zero_features = list(feature_importances[feature_importances['importance'] == 0.0]['feature'])\n",
    "print('There are %i features with 0.0 importance.' % len(zero_features))"
   ]
  },
  {
   "cell_type": "code",
   "execution_count": 44,
   "metadata": {},
   "outputs": [
    {
     "name": "stdout",
     "output_type": "stream",
     "text": [
      "train shape:  (307511, 511)\n"
     ]
    }
   ],
   "source": [
    "# Drop features with zero importance\n",
    "train = train.drop(columns = zero_features)\n",
    "print('train shape: ', train.shape)"
   ]
  },
  {
   "cell_type": "code",
   "execution_count": 45,
   "metadata": {},
   "outputs": [
    {
     "name": "stdout",
     "output_type": "stream",
     "text": [
      "Total computing time: 2.21 minutes\n"
     ]
    }
   ],
   "source": [
    "start_time = timeit.default_timer()\n",
    "\n",
    "# Training and testing of the model\n",
    "feature_importances, metrics = run_experiment(lgbm, train, feat_imp = True, n_folds = 5)\n",
    "\n",
    "time_elapsed = round((timeit.default_timer() - start_time)/60,2)\n",
    "print('Total computing time: %0.2f minutes' % time_elapsed)"
   ]
  },
  {
   "cell_type": "code",
   "execution_count": 46,
   "metadata": {},
   "outputs": [
    {
     "data": {
      "text/html": [
       "<div>\n",
       "<style scoped>\n",
       "    .dataframe tbody tr th:only-of-type {\n",
       "        vertical-align: middle;\n",
       "    }\n",
       "\n",
       "    .dataframe tbody tr th {\n",
       "        vertical-align: top;\n",
       "    }\n",
       "\n",
       "    .dataframe thead th {\n",
       "        text-align: right;\n",
       "    }\n",
       "</style>\n",
       "<table border=\"1\" class=\"dataframe\">\n",
       "  <thead>\n",
       "    <tr style=\"text-align: right;\">\n",
       "      <th></th>\n",
       "      <th>fold</th>\n",
       "      <th>train</th>\n",
       "      <th>valid</th>\n",
       "    </tr>\n",
       "  </thead>\n",
       "  <tbody>\n",
       "    <tr>\n",
       "      <th>0</th>\n",
       "      <td>0</td>\n",
       "      <td>0.825702</td>\n",
       "      <td>0.779106</td>\n",
       "    </tr>\n",
       "    <tr>\n",
       "      <th>1</th>\n",
       "      <td>1</td>\n",
       "      <td>0.825459</td>\n",
       "      <td>0.777144</td>\n",
       "    </tr>\n",
       "    <tr>\n",
       "      <th>2</th>\n",
       "      <td>2</td>\n",
       "      <td>0.827833</td>\n",
       "      <td>0.769951</td>\n",
       "    </tr>\n",
       "    <tr>\n",
       "      <th>3</th>\n",
       "      <td>3</td>\n",
       "      <td>0.826928</td>\n",
       "      <td>0.773971</td>\n",
       "    </tr>\n",
       "    <tr>\n",
       "      <th>4</th>\n",
       "      <td>4</td>\n",
       "      <td>0.827065</td>\n",
       "      <td>0.774938</td>\n",
       "    </tr>\n",
       "    <tr>\n",
       "      <th>5</th>\n",
       "      <td>overall</td>\n",
       "      <td>0.826598</td>\n",
       "      <td>0.775022</td>\n",
       "    </tr>\n",
       "  </tbody>\n",
       "</table>\n",
       "</div>"
      ],
      "text/plain": [
       "      fold     train     valid\n",
       "0        0  0.825702  0.779106\n",
       "1        1  0.825459  0.777144\n",
       "2        2  0.827833  0.769951\n",
       "3        3  0.826928  0.773971\n",
       "4        4  0.827065  0.774938\n",
       "5  overall  0.826598  0.775022"
      ]
     },
     "execution_count": 46,
     "metadata": {},
     "output_type": "execute_result"
    }
   ],
   "source": [
    "metrics"
   ]
  },
  {
   "cell_type": "code",
   "execution_count": 47,
   "metadata": {},
   "outputs": [
    {
     "name": "stdout",
     "output_type": "stream",
     "text": [
      "There are 8 features with 0.0 importance.\n"
     ]
    }
   ],
   "source": [
    "# Find the features with zero importance\n",
    "zero_features = list(feature_importances[feature_importances['importance'] == 0.0]['feature'])\n",
    "print('There are %i features with 0.0 importance.' % len(zero_features))"
   ]
  },
  {
   "cell_type": "markdown",
   "metadata": {},
   "source": [
    "For the first time the trend is reversed: there are more unnecessary features than in the previous run. "
   ]
  },
  {
   "cell_type": "code",
   "execution_count": 48,
   "metadata": {},
   "outputs": [
    {
     "name": "stdout",
     "output_type": "stream",
     "text": [
      "train shape:  (307511, 503)\n"
     ]
    }
   ],
   "source": [
    "# Drop features with zero importance\n",
    "train = train.drop(columns = zero_features)\n",
    "print('train shape: ', train.shape)"
   ]
  },
  {
   "cell_type": "code",
   "execution_count": 49,
   "metadata": {},
   "outputs": [
    {
     "name": "stdout",
     "output_type": "stream",
     "text": [
      "Total computing time: 2.19 minutes\n"
     ]
    }
   ],
   "source": [
    "start_time = timeit.default_timer()\n",
    "\n",
    "# Training and testing of the model\n",
    "feature_importances, metrics = run_experiment(lgbm, train, feat_imp = True, n_folds = 5)\n",
    "\n",
    "time_elapsed = round((timeit.default_timer() - start_time)/60,2)\n",
    "print('Total computing time: %0.2f minutes' % time_elapsed)"
   ]
  },
  {
   "cell_type": "code",
   "execution_count": 50,
   "metadata": {},
   "outputs": [
    {
     "data": {
      "text/html": [
       "<div>\n",
       "<style scoped>\n",
       "    .dataframe tbody tr th:only-of-type {\n",
       "        vertical-align: middle;\n",
       "    }\n",
       "\n",
       "    .dataframe tbody tr th {\n",
       "        vertical-align: top;\n",
       "    }\n",
       "\n",
       "    .dataframe thead th {\n",
       "        text-align: right;\n",
       "    }\n",
       "</style>\n",
       "<table border=\"1\" class=\"dataframe\">\n",
       "  <thead>\n",
       "    <tr style=\"text-align: right;\">\n",
       "      <th></th>\n",
       "      <th>fold</th>\n",
       "      <th>train</th>\n",
       "      <th>valid</th>\n",
       "    </tr>\n",
       "  </thead>\n",
       "  <tbody>\n",
       "    <tr>\n",
       "      <th>0</th>\n",
       "      <td>0</td>\n",
       "      <td>0.825702</td>\n",
       "      <td>0.779106</td>\n",
       "    </tr>\n",
       "    <tr>\n",
       "      <th>1</th>\n",
       "      <td>1</td>\n",
       "      <td>0.825823</td>\n",
       "      <td>0.777449</td>\n",
       "    </tr>\n",
       "    <tr>\n",
       "      <th>2</th>\n",
       "      <td>2</td>\n",
       "      <td>0.827167</td>\n",
       "      <td>0.770889</td>\n",
       "    </tr>\n",
       "    <tr>\n",
       "      <th>3</th>\n",
       "      <td>3</td>\n",
       "      <td>0.826474</td>\n",
       "      <td>0.774853</td>\n",
       "    </tr>\n",
       "    <tr>\n",
       "      <th>4</th>\n",
       "      <td>4</td>\n",
       "      <td>0.827419</td>\n",
       "      <td>0.775107</td>\n",
       "    </tr>\n",
       "    <tr>\n",
       "      <th>5</th>\n",
       "      <td>overall</td>\n",
       "      <td>0.826517</td>\n",
       "      <td>0.775481</td>\n",
       "    </tr>\n",
       "  </tbody>\n",
       "</table>\n",
       "</div>"
      ],
      "text/plain": [
       "      fold     train     valid\n",
       "0        0  0.825702  0.779106\n",
       "1        1  0.825823  0.777449\n",
       "2        2  0.827167  0.770889\n",
       "3        3  0.826474  0.774853\n",
       "4        4  0.827419  0.775107\n",
       "5  overall  0.826517  0.775481"
      ]
     },
     "execution_count": 50,
     "metadata": {},
     "output_type": "execute_result"
    }
   ],
   "source": [
    "metrics"
   ]
  },
  {
   "cell_type": "code",
   "execution_count": 51,
   "metadata": {},
   "outputs": [
    {
     "name": "stdout",
     "output_type": "stream",
     "text": [
      "There are 3 features with 0.0 importance.\n"
     ]
    }
   ],
   "source": [
    "# Find the features with zero importance\n",
    "zero_features = list(feature_importances[feature_importances['importance'] == 0.0]['feature'])\n",
    "print('There are %i features with 0.0 importance.' % len(zero_features))"
   ]
  },
  {
   "cell_type": "code",
   "execution_count": 52,
   "metadata": {},
   "outputs": [
    {
     "name": "stdout",
     "output_type": "stream",
     "text": [
      "train shape:  (307511, 500)\n"
     ]
    }
   ],
   "source": [
    "# Drop features with zero importance\n",
    "train = train.drop(columns = zero_features)\n",
    "print('train shape: ', train.shape)"
   ]
  },
  {
   "cell_type": "code",
   "execution_count": 53,
   "metadata": {},
   "outputs": [
    {
     "name": "stdout",
     "output_type": "stream",
     "text": [
      "Total computing time: 2.15 minutes\n"
     ]
    }
   ],
   "source": [
    "start_time = timeit.default_timer()\n",
    "\n",
    "# Training and testing of the model\n",
    "feature_importances, metrics = run_experiment(lgbm, train, feat_imp = True, n_folds = 5)\n",
    "\n",
    "time_elapsed = round((timeit.default_timer() - start_time)/60,2)\n",
    "print('Total computing time: %0.2f minutes' % time_elapsed)"
   ]
  },
  {
   "cell_type": "code",
   "execution_count": 54,
   "metadata": {},
   "outputs": [
    {
     "data": {
      "text/html": [
       "<div>\n",
       "<style scoped>\n",
       "    .dataframe tbody tr th:only-of-type {\n",
       "        vertical-align: middle;\n",
       "    }\n",
       "\n",
       "    .dataframe tbody tr th {\n",
       "        vertical-align: top;\n",
       "    }\n",
       "\n",
       "    .dataframe thead th {\n",
       "        text-align: right;\n",
       "    }\n",
       "</style>\n",
       "<table border=\"1\" class=\"dataframe\">\n",
       "  <thead>\n",
       "    <tr style=\"text-align: right;\">\n",
       "      <th></th>\n",
       "      <th>fold</th>\n",
       "      <th>train</th>\n",
       "      <th>valid</th>\n",
       "    </tr>\n",
       "  </thead>\n",
       "  <tbody>\n",
       "    <tr>\n",
       "      <th>0</th>\n",
       "      <td>0</td>\n",
       "      <td>0.825434</td>\n",
       "      <td>0.777391</td>\n",
       "    </tr>\n",
       "    <tr>\n",
       "      <th>1</th>\n",
       "      <td>1</td>\n",
       "      <td>0.825823</td>\n",
       "      <td>0.777449</td>\n",
       "    </tr>\n",
       "    <tr>\n",
       "      <th>2</th>\n",
       "      <td>2</td>\n",
       "      <td>0.827167</td>\n",
       "      <td>0.770889</td>\n",
       "    </tr>\n",
       "    <tr>\n",
       "      <th>3</th>\n",
       "      <td>3</td>\n",
       "      <td>0.826474</td>\n",
       "      <td>0.774853</td>\n",
       "    </tr>\n",
       "    <tr>\n",
       "      <th>4</th>\n",
       "      <td>4</td>\n",
       "      <td>0.827419</td>\n",
       "      <td>0.775107</td>\n",
       "    </tr>\n",
       "    <tr>\n",
       "      <th>5</th>\n",
       "      <td>overall</td>\n",
       "      <td>0.826463</td>\n",
       "      <td>0.775138</td>\n",
       "    </tr>\n",
       "  </tbody>\n",
       "</table>\n",
       "</div>"
      ],
      "text/plain": [
       "      fold     train     valid\n",
       "0        0  0.825434  0.777391\n",
       "1        1  0.825823  0.777449\n",
       "2        2  0.827167  0.770889\n",
       "3        3  0.826474  0.774853\n",
       "4        4  0.827419  0.775107\n",
       "5  overall  0.826463  0.775138"
      ]
     },
     "execution_count": 54,
     "metadata": {},
     "output_type": "execute_result"
    }
   ],
   "source": [
    "metrics"
   ]
  },
  {
   "cell_type": "code",
   "execution_count": 55,
   "metadata": {},
   "outputs": [
    {
     "name": "stdout",
     "output_type": "stream",
     "text": [
      "There are 1 features with 0.0 importance.\n"
     ]
    }
   ],
   "source": [
    "# Find the features with zero importance\n",
    "zero_features = list(feature_importances[feature_importances['importance'] == 0.0]['feature'])\n",
    "print('There are %i features with 0.0 importance.' % len(zero_features))"
   ]
  },
  {
   "cell_type": "code",
   "execution_count": 56,
   "metadata": {},
   "outputs": [
    {
     "name": "stdout",
     "output_type": "stream",
     "text": [
      "train shape:  (307511, 499)\n"
     ]
    }
   ],
   "source": [
    "# Drop features with zero importance\n",
    "train = train.drop(columns = zero_features)\n",
    "print('train shape: ', train.shape)"
   ]
  },
  {
   "cell_type": "code",
   "execution_count": 57,
   "metadata": {},
   "outputs": [
    {
     "name": "stdout",
     "output_type": "stream",
     "text": [
      "Total computing time: 2.19 minutes\n"
     ]
    }
   ],
   "source": [
    "start_time = timeit.default_timer()\n",
    "\n",
    "# Training and testing of the model\n",
    "feature_importances, metrics = run_experiment(lgbm, train, feat_imp = True, n_folds = 5)\n",
    "\n",
    "time_elapsed = round((timeit.default_timer() - start_time)/60,2)\n",
    "print('Total computing time: %0.2f minutes' % time_elapsed)"
   ]
  },
  {
   "cell_type": "code",
   "execution_count": 58,
   "metadata": {},
   "outputs": [
    {
     "data": {
      "text/html": [
       "<div>\n",
       "<style scoped>\n",
       "    .dataframe tbody tr th:only-of-type {\n",
       "        vertical-align: middle;\n",
       "    }\n",
       "\n",
       "    .dataframe tbody tr th {\n",
       "        vertical-align: top;\n",
       "    }\n",
       "\n",
       "    .dataframe thead th {\n",
       "        text-align: right;\n",
       "    }\n",
       "</style>\n",
       "<table border=\"1\" class=\"dataframe\">\n",
       "  <thead>\n",
       "    <tr style=\"text-align: right;\">\n",
       "      <th></th>\n",
       "      <th>fold</th>\n",
       "      <th>train</th>\n",
       "      <th>valid</th>\n",
       "    </tr>\n",
       "  </thead>\n",
       "  <tbody>\n",
       "    <tr>\n",
       "      <th>0</th>\n",
       "      <td>0</td>\n",
       "      <td>0.826573</td>\n",
       "      <td>0.778081</td>\n",
       "    </tr>\n",
       "    <tr>\n",
       "      <th>1</th>\n",
       "      <td>1</td>\n",
       "      <td>0.825823</td>\n",
       "      <td>0.777449</td>\n",
       "    </tr>\n",
       "    <tr>\n",
       "      <th>2</th>\n",
       "      <td>2</td>\n",
       "      <td>0.827167</td>\n",
       "      <td>0.770889</td>\n",
       "    </tr>\n",
       "    <tr>\n",
       "      <th>3</th>\n",
       "      <td>3</td>\n",
       "      <td>0.826842</td>\n",
       "      <td>0.773854</td>\n",
       "    </tr>\n",
       "    <tr>\n",
       "      <th>4</th>\n",
       "      <td>4</td>\n",
       "      <td>0.827419</td>\n",
       "      <td>0.775107</td>\n",
       "    </tr>\n",
       "    <tr>\n",
       "      <th>5</th>\n",
       "      <td>overall</td>\n",
       "      <td>0.826765</td>\n",
       "      <td>0.775076</td>\n",
       "    </tr>\n",
       "  </tbody>\n",
       "</table>\n",
       "</div>"
      ],
      "text/plain": [
       "      fold     train     valid\n",
       "0        0  0.826573  0.778081\n",
       "1        1  0.825823  0.777449\n",
       "2        2  0.827167  0.770889\n",
       "3        3  0.826842  0.773854\n",
       "4        4  0.827419  0.775107\n",
       "5  overall  0.826765  0.775076"
      ]
     },
     "execution_count": 58,
     "metadata": {},
     "output_type": "execute_result"
    }
   ],
   "source": [
    "metrics"
   ]
  },
  {
   "cell_type": "code",
   "execution_count": 59,
   "metadata": {},
   "outputs": [
    {
     "name": "stdout",
     "output_type": "stream",
     "text": [
      "There are 0 features with 0.0 importance.\n"
     ]
    }
   ],
   "source": [
    "# Find the features with zero importance\n",
    "zero_features = list(feature_importances[feature_importances['importance'] == 0.0]['feature'])\n",
    "print('There are %i features with 0.0 importance.' % len(zero_features))"
   ]
  },
  {
   "cell_type": "markdown",
   "metadata": {},
   "source": [
    "There we are, there is no more unnecessary features remaining."
   ]
  },
  {
   "cell_type": "code",
   "execution_count": 60,
   "metadata": {},
   "outputs": [],
   "source": [
    "def plot_feature_importances(df, threshold = 0.9, nb_feat=10):\n",
    "    \"\"\"\n",
    "    Plots 10 most important features and the cumulative importance of features.\n",
    "    Prints the number of features needed to reach threshold cumulative importance.\n",
    "    \n",
    "    Parameters\n",
    "    --------\n",
    "    df : dataframe\n",
    "        Dataframe of feature importances. Columns must be feature and importance\n",
    "        \n",
    "    threshold : float, default = 0.9\n",
    "        Threshold for printing information about cumulative importances\n",
    "        \n",
    "    nb_feat : integer, default = 10\n",
    "        Number of features desired for the first plot (horizontal bar chart)\n",
    "        \n",
    "    Return\n",
    "    --------\n",
    "    df : dataframe\n",
    "        Dataframe ordered by feature importances with a normalized column (sums to 1)\n",
    "        and a cumulative importance column\n",
    "    \n",
    "    \"\"\"\n",
    "    \n",
    "    plt.rcParams['font.size'] = 12\n",
    "    \n",
    "    # Sort features according to importance\n",
    "    df = df.sort_values('importance', ascending = False).reset_index()\n",
    "    \n",
    "    # Normalize the feature importances to add up to one\n",
    "    df['importance_normalized'] = df['importance'] / df['importance'].sum()\n",
    "    df['cumulative_importance'] = np.cumsum(df['importance_normalized'])\n",
    "\n",
    "    # Make a horizontal bar chart of feature importances\n",
    "    plt.figure(figsize = (10, 6))\n",
    "    ax = plt.subplot()\n",
    "    \n",
    "    # Need to reverse the index to plot most important on top\n",
    "    ax.barh(list(reversed(list(df.index[:nb_feat]))), \n",
    "            df['importance_normalized'].head(nb_feat), \n",
    "            align = 'center', edgecolor = 'k')\n",
    "    \n",
    "    # Set the yticks and labels\n",
    "    ax.set_yticks(list(reversed(list(df.index[:nb_feat]))))\n",
    "    ax.set_yticklabels(df['feature'].head(nb_feat))\n",
    "    \n",
    "    # Plot labeling\n",
    "    plt.xlabel('Normalized Importance')\n",
    "    plt.title('Feature Importances')\n",
    "    plt.show()\n",
    "    \n",
    "    # Cumulative importance plot\n",
    "    plt.figure(figsize = (8, 5))\n",
    "    plt.plot(list(range(len(df))), df['cumulative_importance'], 'r-')\n",
    "    plt.xlabel('Number of Features')\n",
    "    plt.ylabel('Cumulative Importance') \n",
    "    plt.title('Cumulative Feature Importance')\n",
    "    plt.show()\n",
    "    \n",
    "    importance_index = np.min(np.where(df['cumulative_importance'] > threshold))\n",
    "    print('%d features required for %0.2f of cumulative importance.' % (importance_index + 1, threshold))\n",
    "    \n",
    "    return df"
   ]
  },
  {
   "cell_type": "code",
   "execution_count": 61,
   "metadata": {},
   "outputs": [
    {
     "data": {
      "image/png": "[encoded data removed]",
      "text/plain": [
       "<Figure size 720x432 with 1 Axes>"
      ]
     },
     "metadata": {},
     "output_type": "display_data"
    },
    {
     "data": {
      "image/png": "[encoded data removed]",
      "text/plain": [
       "<Figure size 576x360 with 1 Axes>"
      ]
     },
     "metadata": {},
     "output_type": "display_data"
    },
    {
     "name": "stdout",
     "output_type": "stream",
     "text": [
      "317 features required for 0.95 of cumulative importance.\n"
     ]
    }
   ],
   "source": [
    "# plotting features importance\n",
    "fi_sorted = plot_feature_importances(feature_importances, threshold=0.95, nb_feat=10)"
   ]
  },
  {
   "cell_type": "code",
   "execution_count": 62,
   "metadata": {},
   "outputs": [
    {
     "data": {
      "text/html": [
       "<div>\n",
       "<style scoped>\n",
       "    .dataframe tbody tr th:only-of-type {\n",
       "        vertical-align: middle;\n",
       "    }\n",
       "\n",
       "    .dataframe tbody tr th {\n",
       "        vertical-align: top;\n",
       "    }\n",
       "\n",
       "    .dataframe thead th {\n",
       "        text-align: right;\n",
       "    }\n",
       "</style>\n",
       "<table border=\"1\" class=\"dataframe\">\n",
       "  <thead>\n",
       "    <tr style=\"text-align: right;\">\n",
       "      <th></th>\n",
       "      <th>index</th>\n",
       "      <th>feature</th>\n",
       "      <th>importance</th>\n",
       "      <th>importance_normalized</th>\n",
       "      <th>cumulative_importance</th>\n",
       "    </tr>\n",
       "  </thead>\n",
       "  <tbody>\n",
       "    <tr>\n",
       "      <th>0</th>\n",
       "      <td>17</td>\n",
       "      <td>EXT_SOURCE_1</td>\n",
       "      <td>133.2</td>\n",
       "      <td>0.044400</td>\n",
       "      <td>0.044400</td>\n",
       "    </tr>\n",
       "    <tr>\n",
       "      <th>1</th>\n",
       "      <td>18</td>\n",
       "      <td>EXT_SOURCE_2</td>\n",
       "      <td>107.0</td>\n",
       "      <td>0.035667</td>\n",
       "      <td>0.080067</td>\n",
       "    </tr>\n",
       "    <tr>\n",
       "      <th>2</th>\n",
       "      <td>19</td>\n",
       "      <td>EXT_SOURCE_3</td>\n",
       "      <td>97.8</td>\n",
       "      <td>0.032600</td>\n",
       "      <td>0.112667</td>\n",
       "    </tr>\n",
       "    <tr>\n",
       "      <th>3</th>\n",
       "      <td>2</td>\n",
       "      <td>AMT_CREDIT</td>\n",
       "      <td>76.4</td>\n",
       "      <td>0.025467</td>\n",
       "      <td>0.138133</td>\n",
       "    </tr>\n",
       "    <tr>\n",
       "      <th>4</th>\n",
       "      <td>5</td>\n",
       "      <td>DAYS_BIRTH</td>\n",
       "      <td>69.8</td>\n",
       "      <td>0.023267</td>\n",
       "      <td>0.161400</td>\n",
       "    </tr>\n",
       "    <tr>\n",
       "      <th>5</th>\n",
       "      <td>240</td>\n",
       "      <td>client_installments_AMT_PAYMENT_min_sum</td>\n",
       "      <td>63.4</td>\n",
       "      <td>0.021133</td>\n",
       "      <td>0.182533</td>\n",
       "    </tr>\n",
       "    <tr>\n",
       "      <th>6</th>\n",
       "      <td>3</td>\n",
       "      <td>AMT_ANNUITY</td>\n",
       "      <td>63.2</td>\n",
       "      <td>0.021067</td>\n",
       "      <td>0.203600</td>\n",
       "    </tr>\n",
       "    <tr>\n",
       "      <th>7</th>\n",
       "      <td>117</td>\n",
       "      <td>bureau_DAYS_CREDIT_ENDDATE_max</td>\n",
       "      <td>47.0</td>\n",
       "      <td>0.015667</td>\n",
       "      <td>0.219267</td>\n",
       "    </tr>\n",
       "    <tr>\n",
       "      <th>8</th>\n",
       "      <td>6</td>\n",
       "      <td>DAYS_EMPLOYED</td>\n",
       "      <td>45.8</td>\n",
       "      <td>0.015267</td>\n",
       "      <td>0.234533</td>\n",
       "    </tr>\n",
       "    <tr>\n",
       "      <th>9</th>\n",
       "      <td>108</td>\n",
       "      <td>bureau_DAYS_CREDIT_max</td>\n",
       "      <td>41.4</td>\n",
       "      <td>0.013800</td>\n",
       "      <td>0.248333</td>\n",
       "    </tr>\n",
       "  </tbody>\n",
       "</table>\n",
       "</div>"
      ],
      "text/plain": [
       "   index                                  feature  importance  \\\n",
       "0     17                             EXT_SOURCE_1       133.2   \n",
       "1     18                             EXT_SOURCE_2       107.0   \n",
       "2     19                             EXT_SOURCE_3        97.8   \n",
       "3      2                               AMT_CREDIT        76.4   \n",
       "4      5                               DAYS_BIRTH        69.8   \n",
       "5    240  client_installments_AMT_PAYMENT_min_sum        63.4   \n",
       "6      3                              AMT_ANNUITY        63.2   \n",
       "7    117           bureau_DAYS_CREDIT_ENDDATE_max        47.0   \n",
       "8      6                            DAYS_EMPLOYED        45.8   \n",
       "9    108                   bureau_DAYS_CREDIT_max        41.4   \n",
       "\n",
       "   importance_normalized  cumulative_importance  \n",
       "0               0.044400               0.044400  \n",
       "1               0.035667               0.080067  \n",
       "2               0.032600               0.112667  \n",
       "3               0.025467               0.138133  \n",
       "4               0.023267               0.161400  \n",
       "5               0.021133               0.182533  \n",
       "6               0.021067               0.203600  \n",
       "7               0.015667               0.219267  \n",
       "8               0.015267               0.234533  \n",
       "9               0.013800               0.248333  "
      ]
     },
     "execution_count": 62,
     "metadata": {},
     "output_type": "execute_result"
    }
   ],
   "source": [
    "fi_sorted.head(10)"
   ]
  },
  {
   "cell_type": "markdown",
   "metadata": {},
   "source": [
    "We can notice that among the 10 most important features 7 are from the initial application_train database."
   ]
  },
  {
   "cell_type": "markdown",
   "metadata": {},
   "source": [
    "### Reduction of the test database"
   ]
  },
  {
   "cell_type": "markdown",
   "metadata": {},
   "source": [
    "At this stage we have a selection of features adapted to the LGBMClassifier model. For the final part of the project (i.e. the dynamic graphics application) we will need all the data available (including those of the test base). Therefore we alogn the two dataframes to keep the exact same features."
   ]
  },
  {
   "cell_type": "code",
   "execution_count": 63,
   "metadata": {},
   "outputs": [],
   "source": [
    "# Save the TARGET (will be lost in aligning process)\n",
    "train_labels = train['TARGET']"
   ]
  },
  {
   "cell_type": "code",
   "execution_count": 64,
   "metadata": {},
   "outputs": [
    {
     "name": "stdout",
     "output_type": "stream",
     "text": [
      "train shape:  (307511, 498)\n",
      "test shape:  (48744, 498)\n"
     ]
    }
   ],
   "source": [
    "# Match the columns in the dataframes\n",
    "train, test = train.align(test, join = 'inner', axis = 1)\n",
    "print('train shape: ', train.shape)\n",
    "print('test shape: ', test.shape)"
   ]
  },
  {
   "cell_type": "code",
   "execution_count": 65,
   "metadata": {},
   "outputs": [],
   "source": [
    "# Restore of the TARGET values\n",
    "train['TARGET'] = train_labels"
   ]
  },
  {
   "cell_type": "markdown",
   "metadata": {},
   "source": [
    "### Saving of the very final bases"
   ]
  },
  {
   "cell_type": "markdown",
   "metadata": {},
   "source": [
    "We finally have two reduced bases with \"only\" 498 features (without the SK_ID_CURR and TARGET ones which are respectively an indentification code and the target of the incomming model). Compared to the more than 1900 features of the databases at the end of the aggregations, this is a great reduction (almost a factor of four)."
   ]
  },
  {
   "cell_type": "code",
   "execution_count": 83,
   "metadata": {},
   "outputs": [],
   "source": [
    "train.to_csv('train_SmallGlobalBase.csv', index = False)\n",
    "test.to_csv('test_SmallGlobalBase.csv', index = False)"
   ]
  },
  {
   "cell_type": "markdown",
   "metadata": {},
   "source": [
    "End of the second notebook.  \n",
    "The next one will be devoted to the optimization of the LGBMClassifier model by determining the optimal values of a selection of hyperparameters."
   ]
  }
 ],
 "metadata": {
  "kernelspec": {
   "display_name": "Python 3",
   "language": "python",
   "name": "python3"
  },
  "language_info": {
   "codemirror_mode": {
    "name": "ipython",
    "version": 3
   },
   "file_extension": ".py",
   "mimetype": "text/x-python",
   "name": "python",
   "nbconvert_exporter": "python",
   "pygments_lexer": "ipython3",
   "version": "3.8.5"
  }
 },
 "nbformat": 4,
 "nbformat_minor": 4
}
